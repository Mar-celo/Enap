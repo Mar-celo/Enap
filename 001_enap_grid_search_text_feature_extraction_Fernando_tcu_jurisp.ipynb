{
  "nbformat": 4,
  "nbformat_minor": 0,
  "metadata": {
    "kernelspec": {
      "display_name": "Python 3",
      "language": "python",
      "name": "python3"
    },
    "language_info": {
      "codemirror_mode": {
        "name": "ipython",
        "version": 3
      },
      "file_extension": ".py",
      "mimetype": "text/x-python",
      "name": "python",
      "nbconvert_exporter": "python",
      "pygments_lexer": "ipython3",
      "version": "3.8.3"
    },
    "toc": {
      "base_numbering": 1,
      "nav_menu": {},
      "number_sections": true,
      "sideBar": true,
      "skip_h1_title": true,
      "title_cell": "Table of Contents",
      "title_sidebar": "Contents",
      "toc_cell": false,
      "toc_position": {},
      "toc_section_display": true,
      "toc_window_display": false
    },
    "colab": {
      "name": "001_enap_grid_search_text_feature_extraction_Fernando_tcu_jurisp.ipynb",
      "provenance": [],
      "include_colab_link": true
    }
  },
  "cells": [
    {
      "cell_type": "markdown",
      "metadata": {
        "id": "view-in-github",
        "colab_type": "text"
      },
      "source": [
        "<a href=\"https://colab.research.google.com/github/Mar-celo/Enap/blob/master/001_enap_grid_search_text_feature_extraction_Fernando_tcu_jurisp.ipynb\" target=\"_parent\"><img src=\"https://colab.research.google.com/assets/colab-badge.svg\" alt=\"Open In Colab\"/></a>"
      ]
    },
    {
      "cell_type": "markdown",
      "metadata": {
        "id": "yPB9KYHVuIjR"
      },
      "source": [
        "\n",
        "# Sklearn - NLP Text classification\n",
        "## Jurisprudências TCU\n",
        "\n",
        "Fernando Melo  \n",
        "22/7/2020\n"
      ]
    },
    {
      "cell_type": "markdown",
      "metadata": {
        "id": "U-mHapOPuIje"
      },
      "source": [
        "### Tokenization: processo de dividir um texto em palavras (tokens) separadas.  \n",
        "'Fui para os bosques viver de livre vontade.'   \n",
        "[ 'Fui', 'para', 'os', 'bosques', 'viver', 'de', 'livre', 'vontade', '.' ]  \n",
        "  \n",
        "### Numericalization: converter cada token em número.  \n",
        "'Fui', 'para', 'os', 'bosques', 'viver', 'de', 'livre', 'vontade', '.'   \n",
        "[ 0,1,2,3,4,5,6,7,8,9 ]  "
      ]
    },
    {
      "cell_type": "markdown",
      "metadata": {
        "id": "elyIxdYpuIjg"
      },
      "source": [
        "### Bag of words (sklearn CountVectorizer)\n",
        "Bag of words: converte cada token único em um número inteiro.  \n",
        "Problema: Ordem das palavras não importa.  \n",
        "  \n",
        "“It was the best of times”  \n",
        "“It was the worst of times”  \n",
        "“It was the age of wisdom”  \n",
        "“It was the age of foolishness”  \n",
        "   \n",
        "dicionário: ‘It’, ‘was’, ‘the’, ‘best’, ‘of’, ‘times’, ‘worst’, ‘age’, ‘wisdom’, ‘foolishness’  \n",
        "  \n",
        "cria vetores para cada frase:  \n",
        "“It was the best of times” = [1, 1, 1, 1, 1, 1, 0, 0, 0, 0]  \n",
        "“It was the worst of times” = [1, 1, 1, 0, 1, 1, 1, 0, 0, 0]  \n",
        "“It was the age of wisdom” = [1, 1, 1, 0, 1, 0, 0, 1, 1, 0]  \n",
        "“It was the age of foolishness” = [1, 1, 1, 0, 1, 0, 0, 1, 0, 1]  \n",
        "  \n",
        "n-grams:  \n",
        "gram: cada token é um 'gram':  \n",
        "‘It’, ‘was’, ‘the’, ‘best’, ‘of’, ‘times’   \n",
        "bigram : “it was”, “was the”, “the best”, “best of”, “of times”  \n",
        "trigram : “It was the\", \"was the best\", \"the best of\", \"best of times\"  "
      ]
    },
    {
      "cell_type": "code",
      "metadata": {
        "scrolled": true,
        "id": "e-gXRUccuIjh",
        "outputId": "a7449646-31eb-44a0-e19c-91ff331e6668"
      },
      "source": [
        "# No sklearn usamos CountVectorizer\n",
        "import pandas as pd\n",
        "from sklearn.feature_extraction.text import CountVectorizer\n",
        "# lista de documentos\n",
        "text = ['O tempo é muito lento para os que esperam',\n",
        "        'Muito rápido para os que têm medo',\n",
        "        'Muito longo para os que lamentam',\n",
        "        'Muito curto para os que festejam',\n",
        "        'Mas, para os que amam e amam, o tempo é eterno.']\n",
        "# instancia o transform CountVectorizer\n",
        "vectorizer = CountVectorizer()\n",
        "# tokeniza e cria o vocabulário\n",
        "vectorizer.fit(text)\n",
        "# mostra o vocabulário criado\n",
        "print('Vocabulário: ')\n",
        "print(vectorizer.vocabulary_)\n",
        "# converte em números\n",
        "print('\\ndimensões da matrix: ')\n",
        "vector = vectorizer.transform(text)\n",
        "# # mostra as dimensões da matrix de frequência\n",
        "# print(vector.shape)\n",
        "# # mostra os documentos codificados\n",
        "# print(vector.toarray())\n",
        "# mostra os documentos codificados\n",
        "values = vectorizer.transform(text)\n",
        "feature_names = vectorizer.get_feature_names()\n",
        "print('\\n',text[0])\n",
        "pd.DataFrame(values.toarray(), columns = feature_names)"
      ],
      "execution_count": null,
      "outputs": [
        {
          "output_type": "stream",
          "text": [
            "Vocabulário: \n",
            "{'tempo': 15, 'muito': 10, 'lento': 6, 'para': 12, 'os': 11, 'que': 13, 'esperam': 2, 'rápido': 14, 'têm': 16, 'medo': 9, 'longo': 7, 'lamentam': 5, 'curto': 1, 'festejam': 4, 'mas': 8, 'amam': 0, 'eterno': 3}\n",
            "\n",
            "dimensões da matrix: \n",
            "\n",
            " O tempo é muito lento para os que esperam\n"
          ],
          "name": "stdout"
        },
        {
          "output_type": "execute_result",
          "data": {
            "text/html": [
              "<div>\n",
              "<style scoped>\n",
              "    .dataframe tbody tr th:only-of-type {\n",
              "        vertical-align: middle;\n",
              "    }\n",
              "\n",
              "    .dataframe tbody tr th {\n",
              "        vertical-align: top;\n",
              "    }\n",
              "\n",
              "    .dataframe thead th {\n",
              "        text-align: right;\n",
              "    }\n",
              "</style>\n",
              "<table border=\"1\" class=\"dataframe\">\n",
              "  <thead>\n",
              "    <tr style=\"text-align: right;\">\n",
              "      <th></th>\n",
              "      <th>amam</th>\n",
              "      <th>curto</th>\n",
              "      <th>esperam</th>\n",
              "      <th>eterno</th>\n",
              "      <th>festejam</th>\n",
              "      <th>lamentam</th>\n",
              "      <th>lento</th>\n",
              "      <th>longo</th>\n",
              "      <th>mas</th>\n",
              "      <th>medo</th>\n",
              "      <th>muito</th>\n",
              "      <th>os</th>\n",
              "      <th>para</th>\n",
              "      <th>que</th>\n",
              "      <th>rápido</th>\n",
              "      <th>tempo</th>\n",
              "      <th>têm</th>\n",
              "    </tr>\n",
              "  </thead>\n",
              "  <tbody>\n",
              "    <tr>\n",
              "      <th>0</th>\n",
              "      <td>0</td>\n",
              "      <td>0</td>\n",
              "      <td>1</td>\n",
              "      <td>0</td>\n",
              "      <td>0</td>\n",
              "      <td>0</td>\n",
              "      <td>1</td>\n",
              "      <td>0</td>\n",
              "      <td>0</td>\n",
              "      <td>0</td>\n",
              "      <td>1</td>\n",
              "      <td>1</td>\n",
              "      <td>1</td>\n",
              "      <td>1</td>\n",
              "      <td>0</td>\n",
              "      <td>1</td>\n",
              "      <td>0</td>\n",
              "    </tr>\n",
              "    <tr>\n",
              "      <th>1</th>\n",
              "      <td>0</td>\n",
              "      <td>0</td>\n",
              "      <td>0</td>\n",
              "      <td>0</td>\n",
              "      <td>0</td>\n",
              "      <td>0</td>\n",
              "      <td>0</td>\n",
              "      <td>0</td>\n",
              "      <td>0</td>\n",
              "      <td>1</td>\n",
              "      <td>1</td>\n",
              "      <td>1</td>\n",
              "      <td>1</td>\n",
              "      <td>1</td>\n",
              "      <td>1</td>\n",
              "      <td>0</td>\n",
              "      <td>1</td>\n",
              "    </tr>\n",
              "    <tr>\n",
              "      <th>2</th>\n",
              "      <td>0</td>\n",
              "      <td>0</td>\n",
              "      <td>0</td>\n",
              "      <td>0</td>\n",
              "      <td>0</td>\n",
              "      <td>1</td>\n",
              "      <td>0</td>\n",
              "      <td>1</td>\n",
              "      <td>0</td>\n",
              "      <td>0</td>\n",
              "      <td>1</td>\n",
              "      <td>1</td>\n",
              "      <td>1</td>\n",
              "      <td>1</td>\n",
              "      <td>0</td>\n",
              "      <td>0</td>\n",
              "      <td>0</td>\n",
              "    </tr>\n",
              "    <tr>\n",
              "      <th>3</th>\n",
              "      <td>0</td>\n",
              "      <td>1</td>\n",
              "      <td>0</td>\n",
              "      <td>0</td>\n",
              "      <td>1</td>\n",
              "      <td>0</td>\n",
              "      <td>0</td>\n",
              "      <td>0</td>\n",
              "      <td>0</td>\n",
              "      <td>0</td>\n",
              "      <td>1</td>\n",
              "      <td>1</td>\n",
              "      <td>1</td>\n",
              "      <td>1</td>\n",
              "      <td>0</td>\n",
              "      <td>0</td>\n",
              "      <td>0</td>\n",
              "    </tr>\n",
              "    <tr>\n",
              "      <th>4</th>\n",
              "      <td>2</td>\n",
              "      <td>0</td>\n",
              "      <td>0</td>\n",
              "      <td>1</td>\n",
              "      <td>0</td>\n",
              "      <td>0</td>\n",
              "      <td>0</td>\n",
              "      <td>0</td>\n",
              "      <td>1</td>\n",
              "      <td>0</td>\n",
              "      <td>0</td>\n",
              "      <td>1</td>\n",
              "      <td>1</td>\n",
              "      <td>1</td>\n",
              "      <td>0</td>\n",
              "      <td>1</td>\n",
              "      <td>0</td>\n",
              "    </tr>\n",
              "  </tbody>\n",
              "</table>\n",
              "</div>"
            ],
            "text/plain": [
              "   amam  curto  esperam  eterno  festejam  lamentam  lento  longo  mas  medo  \\\n",
              "0     0      0        1       0         0         0      1      0    0     0   \n",
              "1     0      0        0       0         0         0      0      0    0     1   \n",
              "2     0      0        0       0         0         1      0      1    0     0   \n",
              "3     0      1        0       0         1         0      0      0    0     0   \n",
              "4     2      0        0       1         0         0      0      0    1     0   \n",
              "\n",
              "   muito  os  para  que  rápido  tempo  têm  \n",
              "0      1   1     1    1       0      1    0  \n",
              "1      1   1     1    1       1      0    1  \n",
              "2      1   1     1    1       0      0    0  \n",
              "3      1   1     1    1       0      0    0  \n",
              "4      0   1     1    1       0      1    0  "
            ]
          },
          "metadata": {
            "tags": []
          },
          "execution_count": 1
        }
      ]
    },
    {
      "cell_type": "markdown",
      "metadata": {
        "id": "OhJv979iuIjj"
      },
      "source": [
        "### TF-IDF Term frequency — Inverse document frequency \n",
        "(sklearn TfidfVectorizer)  \n",
        "TF-IDF() é um método estatístico utilizado para avaliar a importância de uma palavra em determinado documento.  \n",
        "  \n",
        "TF - Frequência dos termos: fé a frequência que uma palavra aparece em um texto, divido pelo número total de palavras.  \n",
        "  \n",
        "IDF - Frequência inversa de documentos: é a pontuação de quão interessante (rara) é a palavra no texto. reduz as palavras que aparecem muito nos documentos. Sem entrar na matemática, TF-IDF são pontuações de frequência de palavras que tentam destacar palavras mais interessantes, freqüentes em um documento, mas raras entre outros documentos. Ou seja, diminui o peso das sentenças que ocorrem com mais frequência no conjunto de textos selecionados, ao mesmo tempo que aumenta o peso daqueles que ocorrem raramente."
      ]
    },
    {
      "cell_type": "code",
      "metadata": {
        "id": "WopXlOiUuIjk",
        "outputId": "5df5593a-97ac-459d-c0fa-299dd9c84bf7"
      },
      "source": [
        "from sklearn.feature_extraction.text import TfidfVectorizer\n",
        "# instancia o transform CountVectorizer\n",
        "tfidf_vectorizer = TfidfVectorizer()\n",
        "# tokeniza e cria o vocabulário\n",
        "tfidf_vectorizer.fit(text)\n",
        "# mostra o vocabulário criado\n",
        "print('Vocabulário: ')\n",
        "print(tfidf_vectorizer.vocabulary_)\n",
        "print('\\nPeso de cada palavra do vocabulário: ')\n",
        "print(tfidf_vectorizer.idf_)\n",
        "# encode document\n",
        "tfidf_vector = tfidf_vectorizer.transform(text)\n",
        "# mostra as dimensões da matrix de frequência\n",
        "print('\\nDimensões da matrix: ')\n",
        "print(tfidf_vector.shape)\n",
        "# mostra os documentos codificados\n",
        "val = tfidf_vectorizer.fit_transform(text)\n",
        "feature_names = tfidf_vectorizer.get_feature_names()\n",
        "print('\\n',text[0])\n",
        "pd.DataFrame(val.toarray(), columns = feature_names)\n",
        "# print(tfidf_vector.toarray())"
      ],
      "execution_count": null,
      "outputs": [
        {
          "output_type": "stream",
          "text": [
            "Vocabulário: \n",
            "{'tempo': 15, 'muito': 10, 'lento': 6, 'para': 12, 'os': 11, 'que': 13, 'esperam': 2, 'rápido': 14, 'têm': 16, 'medo': 9, 'longo': 7, 'lamentam': 5, 'curto': 1, 'festejam': 4, 'mas': 8, 'amam': 0, 'eterno': 3}\n",
            "\n",
            "Peso de cada palavra do vocabulário: \n",
            "[2.09861229 2.09861229 2.09861229 2.09861229 2.09861229 2.09861229\n",
            " 2.09861229 2.09861229 2.09861229 2.09861229 1.18232156 1.\n",
            " 1.         1.         2.09861229 1.69314718 2.09861229]\n",
            "\n",
            "Dimensões da matrix: \n",
            "(5, 17)\n",
            "\n",
            " O tempo é muito lento para os que esperam\n"
          ],
          "name": "stdout"
        },
        {
          "output_type": "execute_result",
          "data": {
            "text/html": [
              "<div>\n",
              "<style scoped>\n",
              "    .dataframe tbody tr th:only-of-type {\n",
              "        vertical-align: middle;\n",
              "    }\n",
              "\n",
              "    .dataframe tbody tr th {\n",
              "        vertical-align: top;\n",
              "    }\n",
              "\n",
              "    .dataframe thead th {\n",
              "        text-align: right;\n",
              "    }\n",
              "</style>\n",
              "<table border=\"1\" class=\"dataframe\">\n",
              "  <thead>\n",
              "    <tr style=\"text-align: right;\">\n",
              "      <th></th>\n",
              "      <th>amam</th>\n",
              "      <th>curto</th>\n",
              "      <th>esperam</th>\n",
              "      <th>eterno</th>\n",
              "      <th>festejam</th>\n",
              "      <th>lamentam</th>\n",
              "      <th>lento</th>\n",
              "      <th>longo</th>\n",
              "      <th>mas</th>\n",
              "      <th>medo</th>\n",
              "      <th>muito</th>\n",
              "      <th>os</th>\n",
              "      <th>para</th>\n",
              "      <th>que</th>\n",
              "      <th>rápido</th>\n",
              "      <th>tempo</th>\n",
              "      <th>têm</th>\n",
              "    </tr>\n",
              "  </thead>\n",
              "  <tbody>\n",
              "    <tr>\n",
              "      <th>0</th>\n",
              "      <td>0.000000</td>\n",
              "      <td>0.000000</td>\n",
              "      <td>0.523461</td>\n",
              "      <td>0.000000</td>\n",
              "      <td>0.000000</td>\n",
              "      <td>0.000000</td>\n",
              "      <td>0.523461</td>\n",
              "      <td>0.000000</td>\n",
              "      <td>0.000000</td>\n",
              "      <td>0.000000</td>\n",
              "      <td>0.294909</td>\n",
              "      <td>0.249432</td>\n",
              "      <td>0.249432</td>\n",
              "      <td>0.249432</td>\n",
              "      <td>0.000000</td>\n",
              "      <td>0.422325</td>\n",
              "      <td>0.000000</td>\n",
              "    </tr>\n",
              "    <tr>\n",
              "      <th>1</th>\n",
              "      <td>0.000000</td>\n",
              "      <td>0.000000</td>\n",
              "      <td>0.000000</td>\n",
              "      <td>0.000000</td>\n",
              "      <td>0.000000</td>\n",
              "      <td>0.000000</td>\n",
              "      <td>0.000000</td>\n",
              "      <td>0.000000</td>\n",
              "      <td>0.000000</td>\n",
              "      <td>0.500089</td>\n",
              "      <td>0.281742</td>\n",
              "      <td>0.238295</td>\n",
              "      <td>0.238295</td>\n",
              "      <td>0.238295</td>\n",
              "      <td>0.500089</td>\n",
              "      <td>0.000000</td>\n",
              "      <td>0.500089</td>\n",
              "    </tr>\n",
              "    <tr>\n",
              "      <th>2</th>\n",
              "      <td>0.000000</td>\n",
              "      <td>0.000000</td>\n",
              "      <td>0.000000</td>\n",
              "      <td>0.000000</td>\n",
              "      <td>0.000000</td>\n",
              "      <td>0.577488</td>\n",
              "      <td>0.000000</td>\n",
              "      <td>0.577488</td>\n",
              "      <td>0.000000</td>\n",
              "      <td>0.000000</td>\n",
              "      <td>0.325347</td>\n",
              "      <td>0.275176</td>\n",
              "      <td>0.275176</td>\n",
              "      <td>0.275176</td>\n",
              "      <td>0.000000</td>\n",
              "      <td>0.000000</td>\n",
              "      <td>0.000000</td>\n",
              "    </tr>\n",
              "    <tr>\n",
              "      <th>3</th>\n",
              "      <td>0.000000</td>\n",
              "      <td>0.577488</td>\n",
              "      <td>0.000000</td>\n",
              "      <td>0.000000</td>\n",
              "      <td>0.577488</td>\n",
              "      <td>0.000000</td>\n",
              "      <td>0.000000</td>\n",
              "      <td>0.000000</td>\n",
              "      <td>0.000000</td>\n",
              "      <td>0.000000</td>\n",
              "      <td>0.325347</td>\n",
              "      <td>0.275176</td>\n",
              "      <td>0.275176</td>\n",
              "      <td>0.275176</td>\n",
              "      <td>0.000000</td>\n",
              "      <td>0.000000</td>\n",
              "      <td>0.000000</td>\n",
              "    </tr>\n",
              "    <tr>\n",
              "      <th>4</th>\n",
              "      <td>0.738612</td>\n",
              "      <td>0.000000</td>\n",
              "      <td>0.000000</td>\n",
              "      <td>0.369306</td>\n",
              "      <td>0.000000</td>\n",
              "      <td>0.000000</td>\n",
              "      <td>0.000000</td>\n",
              "      <td>0.000000</td>\n",
              "      <td>0.369306</td>\n",
              "      <td>0.000000</td>\n",
              "      <td>0.000000</td>\n",
              "      <td>0.175976</td>\n",
              "      <td>0.175976</td>\n",
              "      <td>0.175976</td>\n",
              "      <td>0.000000</td>\n",
              "      <td>0.297954</td>\n",
              "      <td>0.000000</td>\n",
              "    </tr>\n",
              "  </tbody>\n",
              "</table>\n",
              "</div>"
            ],
            "text/plain": [
              "       amam     curto   esperam    eterno  festejam  lamentam     lento  \\\n",
              "0  0.000000  0.000000  0.523461  0.000000  0.000000  0.000000  0.523461   \n",
              "1  0.000000  0.000000  0.000000  0.000000  0.000000  0.000000  0.000000   \n",
              "2  0.000000  0.000000  0.000000  0.000000  0.000000  0.577488  0.000000   \n",
              "3  0.000000  0.577488  0.000000  0.000000  0.577488  0.000000  0.000000   \n",
              "4  0.738612  0.000000  0.000000  0.369306  0.000000  0.000000  0.000000   \n",
              "\n",
              "      longo       mas      medo     muito        os      para       que  \\\n",
              "0  0.000000  0.000000  0.000000  0.294909  0.249432  0.249432  0.249432   \n",
              "1  0.000000  0.000000  0.500089  0.281742  0.238295  0.238295  0.238295   \n",
              "2  0.577488  0.000000  0.000000  0.325347  0.275176  0.275176  0.275176   \n",
              "3  0.000000  0.000000  0.000000  0.325347  0.275176  0.275176  0.275176   \n",
              "4  0.000000  0.369306  0.000000  0.000000  0.175976  0.175976  0.175976   \n",
              "\n",
              "     rápido     tempo       têm  \n",
              "0  0.000000  0.422325  0.000000  \n",
              "1  0.500089  0.000000  0.500089  \n",
              "2  0.000000  0.000000  0.000000  \n",
              "3  0.000000  0.000000  0.000000  \n",
              "4  0.000000  0.297954  0.000000  "
            ]
          },
          "metadata": {
            "tags": []
          },
          "execution_count": 2
        }
      ]
    },
    {
      "cell_type": "code",
      "metadata": {
        "id": "hsKTjgM7uIjk"
      },
      "source": [
        "%matplotlib inline"
      ],
      "execution_count": null,
      "outputs": []
    },
    {
      "cell_type": "code",
      "metadata": {
        "id": "JiWI2yXtuIjl",
        "outputId": "dd7fa915-e3e2-4a6f-bd5c-1bfc6aca4ef5"
      },
      "source": [
        "# # Importar bibliotecas\n",
        "from pprint import pprint\n",
        "from time import time\n",
        "import logging\n",
        "import pandas as pd\n",
        "import numpy as np\n",
        "\n",
        "#from sklearn.datasets import fetch_20newsgroups\n",
        "from sklearn.feature_extraction.text import CountVectorizer\n",
        "from sklearn.feature_extraction.text import TfidfTransformer\n",
        "from sklearn.linear_model import SGDClassifier\n",
        "from sklearn.model_selection import GridSearchCV\n",
        "from sklearn.pipeline import Pipeline\n",
        "\n",
        "print(__doc__)\n",
        "# Display progress logs on stdout\n",
        "logging.basicConfig(level=logging.INFO,format='%(asctime)s %(levelname)s %(message)s')"
      ],
      "execution_count": null,
      "outputs": [
        {
          "output_type": "stream",
          "text": [
            "Automatically created module for IPython interactive environment\n"
          ],
          "name": "stdout"
        }
      ]
    },
    {
      "cell_type": "code",
      "metadata": {
        "id": "dX814TRnuIjl"
      },
      "source": [
        "# Salvando o modelo para posterior reuso\n",
        "# from sklearn.externals import joblib\n",
        "from joblib import dump, load\n",
        "import re"
      ],
      "execution_count": null,
      "outputs": []
    },
    {
      "cell_type": "code",
      "metadata": {
        "id": "E123-k3euIjm"
      },
      "source": [
        "# Pelo que li sobre o tipo de dado utilizado pelos exemplos do sklearn: type(data) sklearn.utils.Bunch\n",
        "# Basta apresentar meus próprios dados como uma lista de strings e uma lista de rótulos (0 ou 1, no baso binário)\n",
        "\n",
        "df_tcu = pd.read_csv('tcu_jurisp_redz_v1.csv')\n",
        "df_tcu.columns = ['classe','texto']\n",
        "# em_test = pd.read_csv('data/discursosCD-SF/tfidf_sklearn/solic_ds6_tfidf12k_val.csv')\n",
        "# em_test.columns = ['classe','texto']"
      ],
      "execution_count": null,
      "outputs": []
    },
    {
      "cell_type": "code",
      "metadata": {
        "id": "x33SgiDQuIjn",
        "outputId": "befa8afa-f75c-4619-fc32-5997c75dc1c2"
      },
      "source": [
        "print(df_tcu.shape)\n",
        "df_tcu.head()"
      ],
      "execution_count": null,
      "outputs": [
        {
          "output_type": "stream",
          "text": [
            "(10263, 2)\n"
          ],
          "name": "stdout"
        },
        {
          "output_type": "execute_result",
          "data": {
            "text/html": [
              "<div>\n",
              "<style scoped>\n",
              "    .dataframe tbody tr th:only-of-type {\n",
              "        vertical-align: middle;\n",
              "    }\n",
              "\n",
              "    .dataframe tbody tr th {\n",
              "        vertical-align: top;\n",
              "    }\n",
              "\n",
              "    .dataframe thead th {\n",
              "        text-align: right;\n",
              "    }\n",
              "</style>\n",
              "<table border=\"1\" class=\"dataframe\">\n",
              "  <thead>\n",
              "    <tr style=\"text-align: right;\">\n",
              "      <th></th>\n",
              "      <th>classe</th>\n",
              "      <th>texto</th>\n",
              "    </tr>\n",
              "  </thead>\n",
              "  <tbody>\n",
              "    <tr>\n",
              "      <th>0</th>\n",
              "      <td>3</td>\n",
              "      <td>A medida cautelar do TCU que determina a suspe...</td>\n",
              "    </tr>\n",
              "    <tr>\n",
              "      <th>1</th>\n",
              "      <td>3</td>\n",
              "      <td>A retenção de recursos pela Administração com ...</td>\n",
              "    </tr>\n",
              "    <tr>\n",
              "      <th>2</th>\n",
              "      <td>3</td>\n",
              "      <td>Para fins de admissibilidade de recurso de rev...</td>\n",
              "    </tr>\n",
              "    <tr>\n",
              "      <th>3</th>\n",
              "      <td>3</td>\n",
              "      <td>Fotografias não têm pleno valor probatório, so...</td>\n",
              "    </tr>\n",
              "    <tr>\n",
              "      <th>4</th>\n",
              "      <td>3</td>\n",
              "      <td>Não cabe instauração de tomada de contas espec...</td>\n",
              "    </tr>\n",
              "  </tbody>\n",
              "</table>\n",
              "</div>"
            ],
            "text/plain": [
              "   classe                                              texto\n",
              "0       3  A medida cautelar do TCU que determina a suspe...\n",
              "1       3  A retenção de recursos pela Administração com ...\n",
              "2       3  Para fins de admissibilidade de recurso de rev...\n",
              "3       3  Fotografias não têm pleno valor probatório, so...\n",
              "4       3  Não cabe instauração de tomada de contas espec..."
            ]
          },
          "metadata": {
            "tags": []
          },
          "execution_count": 7
        }
      ]
    },
    {
      "cell_type": "code",
      "metadata": {
        "id": "o3LoJ49_uIjo",
        "outputId": "6da7e821-2c5e-4b61-dac4-3fcf8cc85b0e"
      },
      "source": [
        "df_tcu.classe.value_counts().plot(kind='bar')"
      ],
      "execution_count": null,
      "outputs": [
        {
          "output_type": "execute_result",
          "data": {
            "text/plain": [
              "<matplotlib.axes._subplots.AxesSubplot at 0x7fa86504b3d0>"
            ]
          },
          "metadata": {
            "tags": []
          },
          "execution_count": 8
        },
        {
          "output_type": "display_data",
          "data": {
            "image/png": "[encoded data removed]",
            "text/plain": [
              "<Figure size 432x288 with 1 Axes>"
            ]
          },
          "metadata": {
            "tags": [],
            "needs_background": "light"
          }
        }
      ]
    },
    {
      "cell_type": "code",
      "metadata": {
        "id": "qgpbeHBWuIjp"
      },
      "source": [
        "from sklearn.model_selection import train_test_split\n",
        "X_train, X_test, y_train, y_test = train_test_split(df_tcu.texto, df_tcu.classe, test_size=0.2, \n",
        "                                                    stratify=df_tcu.classe,random_state=42)"
      ],
      "execution_count": null,
      "outputs": []
    },
    {
      "cell_type": "code",
      "metadata": {
        "id": "GCc9WapBuIjp",
        "outputId": "916cef2b-fa5b-449c-dff0-0170c408ba84"
      },
      "source": [
        "X_train[:10]"
      ],
      "execution_count": null,
      "outputs": [
        {
          "output_type": "execute_result",
          "data": {
            "text/plain": [
              "3965    Não se pode exigir como condição de habilitaçã...\n",
              "1976    A Administração, em respeito à transparência e...\n",
              "1253    O encaminhamento de representação ao TCU, sem ...\n",
              "4818    Havendo alteração nos pressupostos de fato que...\n",
              "2126    No pregão, o exame do registro da intenção de ...\n",
              "3107    No gerenciamento de ata de registro de preços,...\n",
              "3739    É inconstitucional o Decreto 2.745/1998 e o ar...\n",
              "1989    As entidades do Sistema S não se sujeitam à es...\n",
              "9522    A atuação de gestor com base em parecer técnic...\n",
              "7262    Há impossibilidade da percepção de anuênios pe...\n",
              "Name: texto, dtype: object"
            ]
          },
          "metadata": {
            "tags": []
          },
          "execution_count": 10
        }
      ]
    },
    {
      "cell_type": "code",
      "metadata": {
        "id": "49KmnHAnuIjq",
        "outputId": "8c582fa7-7c77-4f8e-ecba-b961b586f543"
      },
      "source": [
        "print('TREINO : ',y_train.shape,'\\n', y_train.value_counts(normalize=True),'\\n')\n",
        "print('TESTE  : ',y_test.shape,'\\n', y_test.value_counts(normalize=True))"
      ],
      "execution_count": null,
      "outputs": [
        {
          "output_type": "stream",
          "text": [
            "2020-07-24 03:31:48,795 INFO Note: NumExpr detected 16 cores but \"NUMEXPR_MAX_THREADS\" not set, so enforcing safe limit of 8.\n",
            "2020-07-24 03:31:48,796 INFO NumExpr defaulting to 8 threads.\n"
          ],
          "name": "stderr"
        },
        {
          "output_type": "stream",
          "text": [
            "TREINO :  (8210,) \n",
            " 0    0.337881\n",
            "1    0.265286\n",
            "2    0.223873\n",
            "3    0.172960\n",
            "Name: classe, dtype: float64 \n",
            "\n",
            "TESTE  :  (2053,) \n",
            " 0    0.338042\n",
            "1    0.265465\n",
            "2    0.223575\n",
            "3    0.172918\n",
            "Name: classe, dtype: float64\n"
          ],
          "name": "stdout"
        }
      ]
    },
    {
      "cell_type": "code",
      "metadata": {
        "id": "koVQ58x-uIjq",
        "outputId": "df6f76ca-63b4-42cc-dd7e-e16052ab2403"
      },
      "source": [
        "text_train = list(X_train)\n",
        "text_test = list(X_test)\n",
        "text_train[:5]"
      ],
      "execution_count": null,
      "outputs": [
        {
          "output_type": "execute_result",
          "data": {
            "text/plain": [
              "['Não se pode exigir como condição de habilitação de licitante o pagamento de valor superior ao custo efetivo de reprodução gráfica do edital, sob pena de enriquecimento ilícito da Administração contratante.',\n",
              " 'A Administração, em respeito à transparência e à motivação dos atos administrativos, deve explicitar as razões para a admissão ou vedação à participação de consórcios de empresas quando da contratação de objetos de maior vulto e complexidade.',\n",
              " 'O encaminhamento de representação ao TCU, sem que o órgão fiscalizado tenha oportunidade de se manifestar, caracteriza <i>erro in procedendo</i>, prejudicando o mérito da decisão.',\n",
              " 'Havendo alteração nos pressupostos de fato que fundamentaram decisão judicial transitada em julgado que reconheceu a servidor o direito a determinado acréscimo remuneratório, a eficácia do julgado cessa de imediato, independentemente de ação rescisória.',\n",
              " 'No pregão, o exame do registro da intenção de recurso deve limitar-se à verificação dos requisitos de sucumbência, tempestividade, legitimidade, interesse e motivação, não podendo o mérito do recurso ser julgado previamente à apresentação das razões e contrarrazões recursais.']"
            ]
          },
          "metadata": {
            "tags": []
          },
          "execution_count": 12
        }
      ]
    },
    {
      "cell_type": "code",
      "metadata": {
        "id": "EkzUQpAVuIjr",
        "outputId": "1325ace0-5281-446a-cdc3-12622290771a"
      },
      "source": [
        "target_train = list(y_train)\n",
        "target_test = list(y_test)\n",
        "print(target_test[:5])"
      ],
      "execution_count": null,
      "outputs": [
        {
          "output_type": "stream",
          "text": [
            "[3, 3, 0, 2, 0]\n"
          ],
          "name": "stdout"
        }
      ]
    },
    {
      "cell_type": "code",
      "metadata": {
        "id": "J5XxDAoXuIjr"
      },
      "source": [
        "# Define a pipeline combining a text feature extractor with a simple classifier\n",
        "pipeline = Pipeline([\n",
        "    ('vect', CountVectorizer()),\n",
        "    ('tfidf', TfidfTransformer()),\n",
        "    ('clf', SGDClassifier(loss='log')), # default hinge. to get proba=log or modified_huber\n",
        "])"
      ],
      "execution_count": null,
      "outputs": []
    },
    {
      "cell_type": "code",
      "metadata": {
        "id": "112OtKtnuIjr"
      },
      "source": [
        "# uncommenting more parameters will give better exploring power but will\n",
        "# increase processing time in a combinatorial way\n",
        "parameters = {\n",
        "    'vect__max_df': (0.5, 0.75, 1.0),\n",
        "    #\n",
        "    'vect__max_features': (None, 5000, 10000, 50000),\n",
        "    'vect__ngram_range': ((1, 1), (1, 2)),  # unigrams or bigrams\n",
        "    #\n",
        "    'tfidf__use_idf': (True, False),\n",
        "    #\n",
        "    'tfidf__norm': ('l1', 'l2'),\n",
        "    'clf__max_iter': (20,),\n",
        "    'clf__alpha': (0.00001, 0.000001),\n",
        "    'clf__penalty': ('l2', 'elasticnet'),\n",
        "    #\n",
        "    'clf__max_iter': (10, 50, 80),\n",
        "}"
      ],
      "execution_count": null,
      "outputs": []
    },
    {
      "cell_type": "code",
      "metadata": {
        "id": "r3fXywFauIjs",
        "outputId": "f8cc904e-2d60-4d25-a201-2b7564ae865c"
      },
      "source": [
        "if __name__ == \"__main__\":\n",
        "    # multiprocessing requires the fork to happen in a __main__ protected\n",
        "    # block\n",
        "\n",
        "    # find the best parameters for both the feature extraction and the\n",
        "    # classifier\n",
        "    grid_search = GridSearchCV(pipeline, parameters, n_jobs=-1, verbose=1,cv=3)\n",
        "\n",
        "    print(\"Performing grid search...\")\n",
        "    print(\"pipeline:\", [name for name, _ in pipeline.steps])\n",
        "    print(\"parameters:\")\n",
        "    pprint(parameters)\n",
        "    t0 = time()\n",
        "    \n",
        "    grid_search.fit(text_train, target_train)\n",
        "    print(\"done in %0.3fs\" % (time() - t0))\n",
        "    print()\n",
        "\n",
        "    print(\"Best score: %0.3f\" % grid_search.best_score_)\n",
        "    print(\"Best parameters set:\")\n",
        "    best_parameters = grid_search.best_estimator_.get_params()\n",
        "    for param_name in sorted(parameters.keys()):\n",
        "        print(\"\\t%s: %r\" % (param_name, best_parameters[param_name]))"
      ],
      "execution_count": null,
      "outputs": [
        {
          "output_type": "stream",
          "text": [
            "Performing grid search...\n",
            "pipeline: ['vect', 'tfidf', 'clf']\n",
            "parameters:\n",
            "{'clf__alpha': (1e-05, 1e-06),\n",
            " 'clf__max_iter': (10, 50, 80),\n",
            " 'clf__penalty': ('l2', 'elasticnet'),\n",
            " 'tfidf__norm': ('l1', 'l2'),\n",
            " 'tfidf__use_idf': (True, False),\n",
            " 'vect__max_df': (0.5, 0.75, 1.0),\n",
            " 'vect__max_features': (None, 5000, 10000, 50000),\n",
            " 'vect__ngram_range': ((1, 1), (1, 2))}\n",
            "Fitting 3 folds for each of 1152 candidates, totalling 3456 fits\n"
          ],
          "name": "stdout"
        },
        {
          "output_type": "stream",
          "text": [
            "[Parallel(n_jobs=-1)]: Using backend LokyBackend with 6 concurrent workers.\n",
            "[Parallel(n_jobs=-1)]: Done  38 tasks      | elapsed:    3.7s\n",
            "[Parallel(n_jobs=-1)]: Done 188 tasks      | elapsed:   16.1s\n",
            "[Parallel(n_jobs=-1)]: Done 438 tasks      | elapsed:   38.3s\n",
            "[Parallel(n_jobs=-1)]: Done 788 tasks      | elapsed:  1.1min\n",
            "[Parallel(n_jobs=-1)]: Done 1238 tasks      | elapsed:  1.8min\n",
            "[Parallel(n_jobs=-1)]: Done 1788 tasks      | elapsed:  2.6min\n",
            "[Parallel(n_jobs=-1)]: Done 2438 tasks      | elapsed:  3.6min\n",
            "[Parallel(n_jobs=-1)]: Done 3188 tasks      | elapsed:  4.7min\n",
            "[Parallel(n_jobs=-1)]: Done 3456 out of 3456 | elapsed:  5.2min finished\n"
          ],
          "name": "stderr"
        },
        {
          "output_type": "stream",
          "text": [
            "done in 312.232s\n",
            "\n",
            "Best score: 0.950\n",
            "Best parameters set:\n",
            "\tclf__alpha: 1e-06\n",
            "\tclf__max_iter: 50\n",
            "\tclf__penalty: 'l2'\n",
            "\ttfidf__norm: 'l2'\n",
            "\ttfidf__use_idf: True\n",
            "\tvect__max_df: 0.75\n",
            "\tvect__max_features: None\n",
            "\tvect__ngram_range: (1, 2)\n"
          ],
          "name": "stdout"
        }
      ]
    },
    {
      "cell_type": "code",
      "metadata": {
        "id": "bMa5k6F2uIjs",
        "outputId": "0f226d28-8891-4f8a-c1a1-7ea9acc1ce2f"
      },
      "source": [
        "grid_search.best_estimator_.predict(text_test)"
      ],
      "execution_count": null,
      "outputs": [
        {
          "output_type": "execute_result",
          "data": {
            "text/plain": [
              "array([3, 3, 0, ..., 0, 3, 0])"
            ]
          },
          "metadata": {
            "tags": []
          },
          "execution_count": 17
        }
      ]
    },
    {
      "cell_type": "code",
      "metadata": {
        "id": "05lCghFguIjt",
        "outputId": "9505b487-4519-4c6f-dac1-990d84d413a2"
      },
      "source": [
        "prob_preds= grid_search.best_estimator_.predict_proba(text_test)\n",
        "prob_preds[:10]"
      ],
      "execution_count": null,
      "outputs": [
        {
          "output_type": "execute_result",
          "data": {
            "text/plain": [
              "array([[3.75158911e-05, 3.98210087e-05, 1.94968263e-03, 9.97972980e-01],\n",
              "       [1.18136667e-01, 3.91944536e-04, 3.37293969e-02, 8.47741992e-01],\n",
              "       [9.90769586e-01, 4.07382143e-03, 3.78146696e-03, 1.37512539e-03],\n",
              "       [4.75453611e-04, 4.20663829e-03, 9.92248715e-01, 3.06919323e-03],\n",
              "       [9.94208630e-01, 5.25951236e-03, 2.03688473e-04, 3.28169014e-04],\n",
              "       [1.01842777e-01, 8.11754840e-01, 7.37871789e-04, 8.56645112e-02],\n",
              "       [9.90892274e-01, 7.90405243e-04, 7.87286206e-03, 4.44458569e-04],\n",
              "       [1.79736193e-03, 8.32924497e-03, 6.20394553e-03, 9.83669448e-01],\n",
              "       [9.96228137e-01, 1.59523842e-03, 6.33315499e-04, 1.54330896e-03],\n",
              "       [1.01685331e-03, 9.93022118e-01, 6.62553263e-04, 5.29847524e-03]])"
            ]
          },
          "metadata": {
            "tags": []
          },
          "execution_count": 18
        }
      ]
    },
    {
      "cell_type": "code",
      "metadata": {
        "id": "XL3XAffluIjt"
      },
      "source": [
        "df_test = pd.DataFrame(columns=['texto','predicted', 'prob_0','prob_1','prob_2','prob_3'])\n",
        "df_test['texto'] = text_test\n",
        "df_test['predicted'] = grid_search.best_estimator_.predict(text_test)\n",
        "df_test['prob_0'] = prob_preds[0:,0].tolist()\n",
        "df_test['prob_1'] = prob_preds[0:,1].tolist()\n",
        "df_test['prob_2'] = prob_preds[0:,2].tolist()\n",
        "df_test['prob_3'] = prob_preds[0:,3].tolist()"
      ],
      "execution_count": null,
      "outputs": []
    },
    {
      "cell_type": "code",
      "metadata": {
        "id": "EYt2VL5muIjt",
        "outputId": "0b4aea1d-760a-499c-b1c3-617ec57a9682"
      },
      "source": [
        "print(df_test.shape)\n",
        "df_test.head()"
      ],
      "execution_count": null,
      "outputs": [
        {
          "output_type": "stream",
          "text": [
            "(2053, 6)\n"
          ],
          "name": "stdout"
        },
        {
          "output_type": "execute_result",
          "data": {
            "text/html": [
              "<div>\n",
              "<style scoped>\n",
              "    .dataframe tbody tr th:only-of-type {\n",
              "        vertical-align: middle;\n",
              "    }\n",
              "\n",
              "    .dataframe tbody tr th {\n",
              "        vertical-align: top;\n",
              "    }\n",
              "\n",
              "    .dataframe thead th {\n",
              "        text-align: right;\n",
              "    }\n",
              "</style>\n",
              "<table border=\"1\" class=\"dataframe\">\n",
              "  <thead>\n",
              "    <tr style=\"text-align: right;\">\n",
              "      <th></th>\n",
              "      <th>texto</th>\n",
              "      <th>predicted</th>\n",
              "      <th>prob_0</th>\n",
              "      <th>prob_1</th>\n",
              "      <th>prob_2</th>\n",
              "      <th>prob_3</th>\n",
              "    </tr>\n",
              "  </thead>\n",
              "  <tbody>\n",
              "    <tr>\n",
              "      <th>0</th>\n",
              "      <td>Não cabe ao TCU, a pedido do responsável, real...</td>\n",
              "      <td>3</td>\n",
              "      <td>0.000038</td>\n",
              "      <td>0.000040</td>\n",
              "      <td>0.001950</td>\n",
              "      <td>0.997973</td>\n",
              "    </tr>\n",
              "    <tr>\n",
              "      <th>1</th>\n",
              "      <td>Não há amparo legal para condicionar o julgame...</td>\n",
              "      <td>3</td>\n",
              "      <td>0.118137</td>\n",
              "      <td>0.000392</td>\n",
              "      <td>0.033729</td>\n",
              "      <td>0.847742</td>\n",
              "    </tr>\n",
              "    <tr>\n",
              "      <th>2</th>\n",
              "      <td>Considera-se prejudicada, por perda de objeto,...</td>\n",
              "      <td>0</td>\n",
              "      <td>0.990770</td>\n",
              "      <td>0.004074</td>\n",
              "      <td>0.003781</td>\n",
              "      <td>0.001375</td>\n",
              "    </tr>\n",
              "    <tr>\n",
              "      <th>3</th>\n",
              "      <td>O TCU pode desconsiderar a personalidade juríd...</td>\n",
              "      <td>2</td>\n",
              "      <td>0.000475</td>\n",
              "      <td>0.004207</td>\n",
              "      <td>0.992249</td>\n",
              "      <td>0.003069</td>\n",
              "    </tr>\n",
              "    <tr>\n",
              "      <th>4</th>\n",
              "      <td>É ilegal o pagamento de vantagem pessoal, com ...</td>\n",
              "      <td>0</td>\n",
              "      <td>0.994209</td>\n",
              "      <td>0.005260</td>\n",
              "      <td>0.000204</td>\n",
              "      <td>0.000328</td>\n",
              "    </tr>\n",
              "  </tbody>\n",
              "</table>\n",
              "</div>"
            ],
            "text/plain": [
              "                                               texto  predicted    prob_0  \\\n",
              "0  Não cabe ao TCU, a pedido do responsável, real...          3  0.000038   \n",
              "1  Não há amparo legal para condicionar o julgame...          3  0.118137   \n",
              "2  Considera-se prejudicada, por perda de objeto,...          0  0.990770   \n",
              "3  O TCU pode desconsiderar a personalidade juríd...          2  0.000475   \n",
              "4  É ilegal o pagamento de vantagem pessoal, com ...          0  0.994209   \n",
              "\n",
              "     prob_1    prob_2    prob_3  \n",
              "0  0.000040  0.001950  0.997973  \n",
              "1  0.000392  0.033729  0.847742  \n",
              "2  0.004074  0.003781  0.001375  \n",
              "3  0.004207  0.992249  0.003069  \n",
              "4  0.005260  0.000204  0.000328  "
            ]
          },
          "metadata": {
            "tags": []
          },
          "execution_count": 20
        }
      ]
    },
    {
      "cell_type": "code",
      "metadata": {
        "id": "eWbTgpR8uIju"
      },
      "source": [
        "df_test.to_csv('tcu_tfidf_all_predictions_probs.csv', index=None)"
      ],
      "execution_count": null,
      "outputs": []
    },
    {
      "cell_type": "code",
      "metadata": {
        "id": "nk1cy3uYuIju"
      },
      "source": [
        "# target_test"
      ],
      "execution_count": null,
      "outputs": []
    },
    {
      "cell_type": "code",
      "metadata": {
        "id": "vNaVlQQmuIju",
        "outputId": "206866c7-663f-47e7-9135-eab59bb8f281"
      },
      "source": [
        "grid_search.best_estimator_.predict(text_test) == target_test"
      ],
      "execution_count": null,
      "outputs": [
        {
          "output_type": "execute_result",
          "data": {
            "text/plain": [
              "array([ True,  True,  True, ...,  True,  True,  True])"
            ]
          },
          "metadata": {
            "tags": []
          },
          "execution_count": 23
        }
      ]
    },
    {
      "cell_type": "code",
      "metadata": {
        "id": "Llu0ISkquIjv",
        "outputId": "3a7f1e10-d50b-4a53-9a45-1cb071fdf837"
      },
      "source": [
        "sum(grid_search.best_estimator_.predict(text_test) == target_test)/len(target_test)"
      ],
      "execution_count": null,
      "outputs": [
        {
          "output_type": "execute_result",
          "data": {
            "text/plain": [
              "0.9590842669264491"
            ]
          },
          "metadata": {
            "tags": []
          },
          "execution_count": 24
        }
      ]
    },
    {
      "cell_type": "code",
      "metadata": {
        "scrolled": true,
        "id": "kVCkPD3vuIjv",
        "outputId": "693149fa-6410-48fd-d099-bc10ab257549"
      },
      "source": [
        "grid_search.best_estimator_.score(text_test, target_test)"
      ],
      "execution_count": null,
      "outputs": [
        {
          "output_type": "execute_result",
          "data": {
            "text/plain": [
              "0.9590842669264491"
            ]
          },
          "metadata": {
            "tags": []
          },
          "execution_count": 25
        }
      ]
    },
    {
      "cell_type": "code",
      "metadata": {
        "id": "Mji-oo0puIjw"
      },
      "source": [
        "p = grid_search.best_estimator_.predict(text_test)\n",
        "y = target_test"
      ],
      "execution_count": null,
      "outputs": []
    },
    {
      "cell_type": "code",
      "metadata": {
        "id": "Vk3QMKSuuIjw",
        "outputId": "5fcec646-f983-413f-af73-7e385dcb437c"
      },
      "source": [
        "from sklearn.metrics import f1_score\n",
        "f1_score(y, p, average='weighted') "
      ],
      "execution_count": null,
      "outputs": [
        {
          "output_type": "execute_result",
          "data": {
            "text/plain": [
              "0.9589655379737931"
            ]
          },
          "metadata": {
            "tags": []
          },
          "execution_count": 27
        }
      ]
    },
    {
      "cell_type": "code",
      "metadata": {
        "id": "cSRyvt79uIjx",
        "outputId": "ea37b3dd-8a77-4d4c-d9dc-f967158f823c"
      },
      "source": [
        "# Gerando Matriz de Confusão\n",
        "# https://stackoverflow.com/questions/19233771/sklearn-plot-confusion-matrix-with-labels/48018785\n",
        "\n",
        "from sklearn.metrics import confusion_matrix\n",
        "import matplotlib.pyplot as plt\n",
        "import matplotlib.cm as cm\n",
        "\n",
        "labels = [0,1,2,3]\n",
        "#tlabels = list(target_test.map({0:'direito', 1:'economia', 2:'social', 3: ''}))\n",
        "cm = confusion_matrix(y, p, labels)\n",
        "print(cm)\n",
        "fig = plt.figure()\n",
        "ax = fig.add_subplot(111)\n",
        "cax = ax.matshow(cm)\n",
        "\n",
        "plt.title('Confusion matrix of the classifier')\n",
        "fig.colorbar(cax)\n",
        "ax.set_xticklabels([''] + labels)\n",
        "ax.set_yticklabels([''] + labels)\n",
        "plt.xlabel('Predicted')\n",
        "plt.ylabel('True')\n",
        "for x in range(len(cm)):\n",
        "    for z in range(len(cm)):\n",
        "        plt.annotate(str(cm[x][z]), xy=(z, x),\n",
        "                    horizontalalignment='center',\n",
        "                    verticalalignment='center')\n",
        "plt.cm.Blues\n",
        "plt.show()"
      ],
      "execution_count": null,
      "outputs": [
        {
          "output_type": "stream",
          "text": [
            "[[680   6   5   3]\n",
            " [  2 537   4   2]\n",
            " [  5  11 425  18]\n",
            " [  5   5  18 327]]\n"
          ],
          "name": "stdout"
        },
        {
          "output_type": "stream",
          "text": [
            "/opt/conda/lib/python3.8/site-packages/sklearn/utils/validation.py:68: FutureWarning: Pass labels=[0, 1, 2, 3] as keyword args. From version 0.25 passing these as positional arguments will result in an error\n",
            "  warnings.warn(\"Pass {} as keyword args. From version 0.25 \"\n"
          ],
          "name": "stderr"
        },
        {
          "output_type": "display_data",
          "data": {
            "image/png": "[encoded data removed]",
            "text/plain": [
              "<Figure size 432x288 with 2 Axes>"
            ]
          },
          "metadata": {
            "tags": [],
            "needs_background": "light"
          }
        }
      ]
    },
    {
      "cell_type": "code",
      "metadata": {
        "id": "19RtF4qEuIjy"
      },
      "source": [
        ""
      ],
      "execution_count": null,
      "outputs": []
    },
    {
      "cell_type": "code",
      "metadata": {
        "id": "GgimVF2ouIjy",
        "outputId": "144e0479-128a-492c-8b44-c3760541d2f1"
      },
      "source": [
        "# Salvando o modelo para posterior reuso\n",
        "dump(grid_search.best_estimator_, 'modelo_tf-idf_sklearn_tcu_jurisp.pkl')"
      ],
      "execution_count": null,
      "outputs": [
        {
          "output_type": "execute_result",
          "data": {
            "text/plain": [
              "['modelo_tf-idf_sklearn_tcu_jurisp.pkl']"
            ]
          },
          "metadata": {
            "tags": []
          },
          "execution_count": 30
        }
      ]
    },
    {
      "cell_type": "code",
      "metadata": {
        "id": "3Ojj9ATjuIjz"
      },
      "source": [
        "# Carregar o modelo do disco\n",
        "loaded_model = load('modelo_tf-idf_sklearn_tcu_jurisp.pkl')"
      ],
      "execution_count": null,
      "outputs": []
    },
    {
      "cell_type": "code",
      "metadata": {
        "id": "x68dew5QuIj0",
        "outputId": "e4bb3358-1031-4aaa-ac1b-985216ec308b"
      },
      "source": [
        "# usar o modelo carregado para inferência.\n",
        "result = loaded_model.score(text_test, target_test)\n",
        "result"
      ],
      "execution_count": null,
      "outputs": [
        {
          "output_type": "execute_result",
          "data": {
            "text/plain": [
              "0.9590842669264491"
            ]
          },
          "metadata": {
            "tags": []
          },
          "execution_count": 32
        }
      ]
    },
    {
      "cell_type": "markdown",
      "metadata": {
        "id": "OGTaZRu7uIj0"
      },
      "source": [
        "### FIM"
      ]
    }
  ]
}