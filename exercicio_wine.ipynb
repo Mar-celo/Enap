{
  "nbformat": 4,
  "nbformat_minor": 0,
  "metadata": {
    "kernelspec": {
      "display_name": "Python 3",
      "language": "python",
      "name": "python3"
    },
    "language_info": {
      "codemirror_mode": {
        "name": "ipython",
        "version": 3
      },
      "file_extension": ".py",
      "mimetype": "text/x-python",
      "name": "python",
      "nbconvert_exporter": "python",
      "pygments_lexer": "ipython3",
      "version": "3.7.4"
    },
    "colab": {
      "name": "exercicio_wine.ipynb",
      "provenance": [],
      "include_colab_link": true
    }
  },
  "cells": [
    {
      "cell_type": "markdown",
      "metadata": {
        "id": "view-in-github",
        "colab_type": "text"
      },
      "source": [
        "<a href=\"https://colab.research.google.com/github/Mar-celo/Enap/blob/master/exercicio_wine.ipynb\" target=\"_parent\"><img src=\"https://colab.research.google.com/assets/colab-badge.svg\" alt=\"Open In Colab\"/></a>"
      ]
    },
    {
      "cell_type": "markdown",
      "metadata": {
        "id": "G1e7ytiApQQg"
      },
      "source": [
        "# Título do caderno"
      ]
    },
    {
      "cell_type": "markdown",
      "metadata": {
        "id": "3eLBTOXGpQQq"
      },
      "source": [
        "# Introdução"
      ]
    },
    {
      "cell_type": "markdown",
      "metadata": {
        "id": "Bo31HRVEpQQr"
      },
      "source": [
        "Escrever texto:  \n",
        "Objetivo do caderno:  \n",
        "Fonte de dados:  \n",
        "Autor:  \n",
        "Data:  \n"
      ]
    },
    {
      "cell_type": "markdown",
      "metadata": {
        "id": "F3qVz9_mpQQs"
      },
      "source": [
        "# Carregar bibliotecas de código"
      ]
    },
    {
      "cell_type": "code",
      "metadata": {
        "id": "BNDKT79gpQQt"
      },
      "source": [
        "# Carregar bibliotecas que serão utilizadas: (pandas, sklearn, etc)\n",
        "\n",
        "# Carregar Modelo de Regressão Logística\n",
        "# pesquisar na documentação sklearn: https://scikit-learn.org/stable/modules/linear_model.html\n",
        "...\n",
        "\n",
        "# Carregar dados\n",
        "# Veja na documentação sklearn informações sobre o dataset wine\n",
        "# https://scikit-learn.org/stable/datasets/index.html\n",
        "..."
      ],
      "execution_count": null,
      "outputs": []
    },
    {
      "cell_type": "markdown",
      "metadata": {
        "id": "y7s5v23KpQQu"
      },
      "source": [
        "# Análise exploratória do dados"
      ]
    },
    {
      "cell_type": "code",
      "metadata": {
        "id": "dYqXX8uGpQQu"
      },
      "source": [
        "# Ler dados\n",
        "wine = ..."
      ],
      "execution_count": null,
      "outputs": []
    },
    {
      "cell_type": "code",
      "metadata": {
        "id": "ao0_-UrapQQu",
        "outputId": "292e0c42-460b-4ecd-a783-96b877d3f63f"
      },
      "source": [
        "# Analisar dimensões do dataset\n",
        "..."
      ],
      "execution_count": null,
      "outputs": [
        {
          "output_type": "stream",
          "text": [
            "(178, 13)\n",
            "(178,)\n"
          ],
          "name": "stdout"
        }
      ]
    },
    {
      "cell_type": "code",
      "metadata": {
        "id": "4uG8dwbepQQw",
        "outputId": "998f3608-fc06-4813-ddc3-aba14e9d20fa"
      },
      "source": [
        "# nome das colunas\n",
        "..."
      ],
      "execution_count": null,
      "outputs": [
        {
          "output_type": "execute_result",
          "data": {
            "text/plain": [
              "['alcohol',\n",
              " 'malic_acid',\n",
              " 'ash',\n",
              " 'alcalinity_of_ash',\n",
              " 'magnesium',\n",
              " 'total_phenols',\n",
              " 'flavanoids',\n",
              " 'nonflavanoid_phenols',\n",
              " 'proanthocyanins',\n",
              " 'color_intensity',\n",
              " 'hue',\n",
              " 'od280/od315_of_diluted_wines',\n",
              " 'proline']"
            ]
          },
          "metadata": {
            "tags": []
          },
          "execution_count": 4
        }
      ]
    },
    {
      "cell_type": "code",
      "metadata": {
        "id": "_sHtWUG-pQQw",
        "outputId": "8f4096e0-1b7e-47c2-faf4-7c957cf76b04"
      },
      "source": [
        "# rótulo das classes\n",
        "..."
      ],
      "execution_count": null,
      "outputs": [
        {
          "output_type": "execute_result",
          "data": {
            "text/plain": [
              "array(['class_0', 'class_1', 'class_2'], dtype='<U7')"
            ]
          },
          "metadata": {
            "tags": []
          },
          "execution_count": 5
        }
      ]
    },
    {
      "cell_type": "code",
      "metadata": {
        "id": "SFkrYa7LpQQx",
        "outputId": "3a77d8b9-6d4e-4984-e3f6-2113e239cbb7"
      },
      "source": [
        "# mostrar as primeiras linhas do dataset\n",
        "..."
      ],
      "execution_count": null,
      "outputs": [
        {
          "output_type": "execute_result",
          "data": {
            "text/plain": [
              "array([[1.423e+01, 1.710e+00, 2.430e+00, 1.560e+01, 1.270e+02, 2.800e+00,\n",
              "        3.060e+00, 2.800e-01, 2.290e+00, 5.640e+00, 1.040e+00, 3.920e+00,\n",
              "        1.065e+03],\n",
              "       [1.320e+01, 1.780e+00, 2.140e+00, 1.120e+01, 1.000e+02, 2.650e+00,\n",
              "        2.760e+00, 2.600e-01, 1.280e+00, 4.380e+00, 1.050e+00, 3.400e+00,\n",
              "        1.050e+03],\n",
              "       [1.316e+01, 2.360e+00, 2.670e+00, 1.860e+01, 1.010e+02, 2.800e+00,\n",
              "        3.240e+00, 3.000e-01, 2.810e+00, 5.680e+00, 1.030e+00, 3.170e+00,\n",
              "        1.185e+03],\n",
              "       [1.437e+01, 1.950e+00, 2.500e+00, 1.680e+01, 1.130e+02, 3.850e+00,\n",
              "        3.490e+00, 2.400e-01, 2.180e+00, 7.800e+00, 8.600e-01, 3.450e+00,\n",
              "        1.480e+03],\n",
              "       [1.324e+01, 2.590e+00, 2.870e+00, 2.100e+01, 1.180e+02, 2.800e+00,\n",
              "        2.690e+00, 3.900e-01, 1.820e+00, 4.320e+00, 1.040e+00, 2.930e+00,\n",
              "        7.350e+02]])"
            ]
          },
          "metadata": {
            "tags": []
          },
          "execution_count": 6
        }
      ]
    },
    {
      "cell_type": "markdown",
      "metadata": {
        "id": "Th2rIzq2pQQy"
      },
      "source": [
        "# Preparação dos dados"
      ]
    },
    {
      "cell_type": "code",
      "metadata": {
        "id": "ZF0l5NNSpQQy"
      },
      "source": [
        "# atribui os valores das variáveis independentes a 'X'\n",
        "X = ...\n",
        "# atribui os valores da variável dependente a 'y'\n",
        "y = ..."
      ],
      "execution_count": null,
      "outputs": []
    },
    {
      "cell_type": "markdown",
      "metadata": {
        "id": "7eicbxq3pQQz"
      },
      "source": [
        "# Treinar o modelo"
      ]
    },
    {
      "cell_type": "code",
      "metadata": {
        "id": "BVDR5NQSpQQz",
        "outputId": "a1b5aeef-f0d3-418a-d910-eb453633d1ab"
      },
      "source": [
        "# instanciar modelo de regressão logística\n",
        "...\n",
        "\n",
        "# treinar modelo\n",
        "..."
      ],
      "execution_count": null,
      "outputs": [
        {
          "output_type": "execute_result",
          "data": {
            "text/plain": [
              "LogisticRegression(C=1.0, class_weight=None, dual=False, fit_intercept=True,\n",
              "          intercept_scaling=1, max_iter=5000, multi_class='auto',\n",
              "          n_jobs=None, penalty='l2', random_state=None, solver='lbfgs',\n",
              "          tol=0.0001, verbose=0, warm_start=False)"
            ]
          },
          "metadata": {
            "tags": []
          },
          "execution_count": 14
        }
      ]
    },
    {
      "cell_type": "markdown",
      "metadata": {
        "id": "dSA9ta_kpQQz"
      },
      "source": [
        "# Testar o modelo (inferência)"
      ]
    },
    {
      "cell_type": "code",
      "metadata": {
        "id": "d8Klh14zpQQ0"
      },
      "source": [
        "# fazer predição da espécie para uma nova flor com as dimensões:  \n",
        "#[12, 2.5, 2.1, 20, 90, 2.1, 3.1, 0.2, 2.9, 6, 1, 3,1200]\n",
        "lg_pred = ..."
      ],
      "execution_count": null,
      "outputs": []
    },
    {
      "cell_type": "code",
      "metadata": {
        "id": "NysJEJenpQQ0",
        "outputId": "611890c2-8ba4-4ed1-8a2a-f2d1c9804a79"
      },
      "source": [
        "# mostrar resultado da predição\n",
        "print('nova predição:\\nclasse = ', lg_pred)\n",
        "print('classe = ', wine.target_names[lg_pred])"
      ],
      "execution_count": null,
      "outputs": [
        {
          "output_type": "stream",
          "text": [
            "nova predição:\n",
            "classe =  [0]\n",
            "classe =  ['class_0']\n"
          ],
          "name": "stdout"
        }
      ]
    },
    {
      "cell_type": "markdown",
      "metadata": {
        "id": "mLXZMoPhpQQ1"
      },
      "source": [
        "## Avaliar qualidade do modelo\n",
        "\n",
        "(próximos capítulos)\n",
        "\n",
        "Mas pensem em como vocês fariam para avaliar se o modelo é bom ou não."
      ]
    },
    {
      "cell_type": "code",
      "metadata": {
        "id": "tk3_4WgWpQQ1"
      },
      "source": [
        ""
      ],
      "execution_count": null,
      "outputs": []
    }
  ]
}