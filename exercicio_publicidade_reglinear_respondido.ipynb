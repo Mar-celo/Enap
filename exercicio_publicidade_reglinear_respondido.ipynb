{
  "nbformat": 4,
  "nbformat_minor": 0,
  "metadata": {
    "colab": {
      "name": "exercicio_publicidade_reglinear_respondido.ipynb",
      "provenance": [],
      "collapsed_sections": [],
      "include_colab_link": true
    },
    "kernelspec": {
      "display_name": "Python 3",
      "language": "python",
      "name": "python3"
    },
    "language_info": {
      "codemirror_mode": {
        "name": "ipython",
        "version": 3
      },
      "file_extension": ".py",
      "mimetype": "text/x-python",
      "name": "python",
      "nbconvert_exporter": "python",
      "pygments_lexer": "ipython3",
      "version": "3.8.3"
    },
    "toc": {
      "base_numbering": 1,
      "nav_menu": {},
      "number_sections": true,
      "sideBar": true,
      "skip_h1_title": true,
      "title_cell": "Table of Contents",
      "title_sidebar": "Contents",
      "toc_cell": false,
      "toc_position": {},
      "toc_section_display": true,
      "toc_window_display": false
    }
  },
  "cells": [
    {
      "cell_type": "markdown",
      "metadata": {
        "id": "view-in-github",
        "colab_type": "text"
      },
      "source": [
        "<a href=\"https://colab.research.google.com/github/Mar-celo/Enap/blob/master/exercicio_publicidade_reglinear_respondido.ipynb\" target=\"_parent\"><img src=\"https://colab.research.google.com/assets/colab-badge.svg\" alt=\"Open In Colab\"/></a>"
      ]
    },
    {
      "cell_type": "markdown",
      "metadata": {
        "id": "VatOlwlfVU-Y"
      },
      "source": [
        "# Exercício de regressão linear - aula 03"
      ]
    },
    {
      "cell_type": "markdown",
      "metadata": {
        "id": "Copa0zZTVU-Y"
      },
      "source": [
        "# Introdução"
      ]
    },
    {
      "cell_type": "markdown",
      "metadata": {
        "id": "OgLYsU6PcNre"
      },
      "source": [
        "\n",
        "### Treinamento supervisionado\n",
        "#### Problema de regressão, pois a variável dependente é CONTÍNUA."
      ]
    },
    {
      "cell_type": "markdown",
      "metadata": {
        "id": "BwBos_uqVU-Z"
      },
      "source": [
        "Escrever texto:  Dados de publicidade de 200 filiais de uma determinada empresa.   \n",
        "Cada linha representa os gastos de uma determinada filial em milhares de dólares com TV, Rádio e jornal e as respectivas vendas de produtos(em milhares de itens).   \n",
        "   \n",
        "Objetivo do caderno:  criar modelo de regressão linear para prever o total de itens vendidos, com base na publicidade em TV, rádio e jornais.  \n",
        "  \n",
        "Fonte de dados:  Advertising.csv  \n",
        "Existem 200 observações (representadas pelas linhas) e cada observação é um mercado único.  \n",
        "  \n",
        "Autor:  \n",
        "Data:  \n"
      ]
    },
    {
      "cell_type": "markdown",
      "metadata": {
        "id": "I6JTvIDWVU-Z"
      },
      "source": [
        "# Carregar bibliotecas de código"
      ]
    },
    {
      "cell_type": "code",
      "metadata": {
        "id": "iWPgG6tfVU-a"
      },
      "source": [
        "# Carregar bibliotecas que serão utilizadas: (pandas, sklearn, etc)\n",
        "import pandas as pd\n",
        "import numpy as np\n",
        "from sklearn import metrics\n",
        "from sklearn.model_selection import train_test_split\n",
        "\n",
        "# importa o modelo de regressão linear\n",
        "from sklearn.linear_model import LinearRegression\n",
        "\n",
        "# biblioteca para gráficos\n",
        "import seaborn as sns\n",
        "\n",
        "# permitir que gráficos possam ser impressos dentro do caderno jupyter.\n",
        "%matplotlib inline\n"
      ],
      "execution_count": null,
      "outputs": []
    },
    {
      "cell_type": "markdown",
      "metadata": {
        "id": "hCiNEu-pVU-c"
      },
      "source": [
        "# Análise exploratória do dados"
      ]
    },
    {
      "cell_type": "code",
      "metadata": {
        "id": "1EUjvS3raFwH",
        "outputId": "8c813d5b-8e9c-41e0-d4ba-88f63027596c"
      },
      "source": [
        "# Baixar o arquivo da web\n",
        "!wget 'http://faculty.marshall.usc.edu/gareth-james/ISL/Advertising.csv'"
      ],
      "execution_count": null,
      "outputs": [
        {
          "output_type": "stream",
          "text": [
            "--2020-07-17 03:11:08--  http://faculty.marshall.usc.edu/gareth-james/ISL/Advertising.csv\n",
            "Resolving faculty.marshall.usc.edu (faculty.marshall.usc.edu)... 68.181.178.70\n",
            "Connecting to faculty.marshall.usc.edu (faculty.marshall.usc.edu)|68.181.178.70|:80... connected.\n",
            "HTTP request sent, awaiting response... 200 OK\n",
            "Length: 4756 (4.6K) [application/octet-stream]\n",
            "Saving to: ‘Advertising.csv’\n",
            "\n",
            "Advertising.csv     100%[===================>]   4.64K  --.-KB/s    in 0s      \n",
            "\n",
            "2020-07-17 03:11:09 (482 MB/s) - ‘Advertising.csv’ saved [4756/4756]\n",
            "\n"
          ],
          "name": "stdout"
        }
      ]
    },
    {
      "cell_type": "code",
      "metadata": {
        "colab": {
          "base_uri": "https://localhost:8080/",
          "height": 215
        },
        "id": "4eaMqkxMVU-d",
        "outputId": "8c4fac99-1ca8-4ed9-bc01-ed399c1bc482"
      },
      "source": [
        "# Ler dados\n",
        "df = pd.read_csv('Advertising.csv', index_col=0)\n",
        "# Mostrar dimensões e primeiras linhas do dataset\n",
        "print(df.shape)\n",
        "df.head()"
      ],
      "execution_count": null,
      "outputs": [
        {
          "output_type": "stream",
          "text": [
            "(200, 4)\n"
          ],
          "name": "stdout"
        },
        {
          "output_type": "execute_result",
          "data": {
            "text/html": [
              "<div>\n",
              "<style scoped>\n",
              "    .dataframe tbody tr th:only-of-type {\n",
              "        vertical-align: middle;\n",
              "    }\n",
              "\n",
              "    .dataframe tbody tr th {\n",
              "        vertical-align: top;\n",
              "    }\n",
              "\n",
              "    .dataframe thead th {\n",
              "        text-align: right;\n",
              "    }\n",
              "</style>\n",
              "<table border=\"1\" class=\"dataframe\">\n",
              "  <thead>\n",
              "    <tr style=\"text-align: right;\">\n",
              "      <th></th>\n",
              "      <th>TV</th>\n",
              "      <th>radio</th>\n",
              "      <th>newspaper</th>\n",
              "      <th>sales</th>\n",
              "    </tr>\n",
              "  </thead>\n",
              "  <tbody>\n",
              "    <tr>\n",
              "      <th>1</th>\n",
              "      <td>230.1</td>\n",
              "      <td>37.8</td>\n",
              "      <td>69.2</td>\n",
              "      <td>22.1</td>\n",
              "    </tr>\n",
              "    <tr>\n",
              "      <th>2</th>\n",
              "      <td>44.5</td>\n",
              "      <td>39.3</td>\n",
              "      <td>45.1</td>\n",
              "      <td>10.4</td>\n",
              "    </tr>\n",
              "    <tr>\n",
              "      <th>3</th>\n",
              "      <td>17.2</td>\n",
              "      <td>45.9</td>\n",
              "      <td>69.3</td>\n",
              "      <td>9.3</td>\n",
              "    </tr>\n",
              "    <tr>\n",
              "      <th>4</th>\n",
              "      <td>151.5</td>\n",
              "      <td>41.3</td>\n",
              "      <td>58.5</td>\n",
              "      <td>18.5</td>\n",
              "    </tr>\n",
              "    <tr>\n",
              "      <th>5</th>\n",
              "      <td>180.8</td>\n",
              "      <td>10.8</td>\n",
              "      <td>58.4</td>\n",
              "      <td>12.9</td>\n",
              "    </tr>\n",
              "  </tbody>\n",
              "</table>\n",
              "</div>"
            ],
            "text/plain": [
              "      TV  radio  newspaper  sales\n",
              "1  230.1   37.8       69.2   22.1\n",
              "2   44.5   39.3       45.1   10.4\n",
              "3   17.2   45.9       69.3    9.3\n",
              "4  151.5   41.3       58.5   18.5\n",
              "5  180.8   10.8       58.4   12.9"
            ]
          },
          "metadata": {
            "tags": []
          },
          "execution_count": 3
        }
      ]
    },
    {
      "cell_type": "code",
      "metadata": {
        "colab": {
          "base_uri": "https://localhost:8080/",
          "height": 197
        },
        "id": "UXq3Hv4IVU-f",
        "outputId": "d10a975e-4363-49d5-83b6-0041cbdffb82"
      },
      "source": [
        "# Mostrar dimensões e últimas linhas do dataset\n",
        "df.tail()"
      ],
      "execution_count": null,
      "outputs": [
        {
          "output_type": "execute_result",
          "data": {
            "text/html": [
              "<div>\n",
              "<style scoped>\n",
              "    .dataframe tbody tr th:only-of-type {\n",
              "        vertical-align: middle;\n",
              "    }\n",
              "\n",
              "    .dataframe tbody tr th {\n",
              "        vertical-align: top;\n",
              "    }\n",
              "\n",
              "    .dataframe thead th {\n",
              "        text-align: right;\n",
              "    }\n",
              "</style>\n",
              "<table border=\"1\" class=\"dataframe\">\n",
              "  <thead>\n",
              "    <tr style=\"text-align: right;\">\n",
              "      <th></th>\n",
              "      <th>TV</th>\n",
              "      <th>radio</th>\n",
              "      <th>newspaper</th>\n",
              "      <th>sales</th>\n",
              "    </tr>\n",
              "  </thead>\n",
              "  <tbody>\n",
              "    <tr>\n",
              "      <th>196</th>\n",
              "      <td>38.2</td>\n",
              "      <td>3.7</td>\n",
              "      <td>13.8</td>\n",
              "      <td>7.6</td>\n",
              "    </tr>\n",
              "    <tr>\n",
              "      <th>197</th>\n",
              "      <td>94.2</td>\n",
              "      <td>4.9</td>\n",
              "      <td>8.1</td>\n",
              "      <td>9.7</td>\n",
              "    </tr>\n",
              "    <tr>\n",
              "      <th>198</th>\n",
              "      <td>177.0</td>\n",
              "      <td>9.3</td>\n",
              "      <td>6.4</td>\n",
              "      <td>12.8</td>\n",
              "    </tr>\n",
              "    <tr>\n",
              "      <th>199</th>\n",
              "      <td>283.6</td>\n",
              "      <td>42.0</td>\n",
              "      <td>66.2</td>\n",
              "      <td>25.5</td>\n",
              "    </tr>\n",
              "    <tr>\n",
              "      <th>200</th>\n",
              "      <td>232.1</td>\n",
              "      <td>8.6</td>\n",
              "      <td>8.7</td>\n",
              "      <td>13.4</td>\n",
              "    </tr>\n",
              "  </tbody>\n",
              "</table>\n",
              "</div>"
            ],
            "text/plain": [
              "        TV  radio  newspaper  sales\n",
              "196   38.2    3.7       13.8    7.6\n",
              "197   94.2    4.9        8.1    9.7\n",
              "198  177.0    9.3        6.4   12.8\n",
              "199  283.6   42.0       66.2   25.5\n",
              "200  232.1    8.6        8.7   13.4"
            ]
          },
          "metadata": {
            "tags": []
          },
          "execution_count": 4
        }
      ]
    },
    {
      "cell_type": "code",
      "metadata": {
        "colab": {
          "base_uri": "https://localhost:8080/",
          "height": 287
        },
        "id": "YNmPG7v8gzjM",
        "outputId": "3d914287-c6db-4c72-e29d-ef5971b68866"
      },
      "source": [
        "# Mostra estatística báasica das 'features'\n",
        "df.describe()"
      ],
      "execution_count": null,
      "outputs": [
        {
          "output_type": "execute_result",
          "data": {
            "text/html": [
              "<div>\n",
              "<style scoped>\n",
              "    .dataframe tbody tr th:only-of-type {\n",
              "        vertical-align: middle;\n",
              "    }\n",
              "\n",
              "    .dataframe tbody tr th {\n",
              "        vertical-align: top;\n",
              "    }\n",
              "\n",
              "    .dataframe thead th {\n",
              "        text-align: right;\n",
              "    }\n",
              "</style>\n",
              "<table border=\"1\" class=\"dataframe\">\n",
              "  <thead>\n",
              "    <tr style=\"text-align: right;\">\n",
              "      <th></th>\n",
              "      <th>TV</th>\n",
              "      <th>radio</th>\n",
              "      <th>newspaper</th>\n",
              "      <th>sales</th>\n",
              "    </tr>\n",
              "  </thead>\n",
              "  <tbody>\n",
              "    <tr>\n",
              "      <th>count</th>\n",
              "      <td>200.000000</td>\n",
              "      <td>200.000000</td>\n",
              "      <td>200.000000</td>\n",
              "      <td>200.000000</td>\n",
              "    </tr>\n",
              "    <tr>\n",
              "      <th>mean</th>\n",
              "      <td>147.042500</td>\n",
              "      <td>23.264000</td>\n",
              "      <td>30.554000</td>\n",
              "      <td>14.022500</td>\n",
              "    </tr>\n",
              "    <tr>\n",
              "      <th>std</th>\n",
              "      <td>85.854236</td>\n",
              "      <td>14.846809</td>\n",
              "      <td>21.778621</td>\n",
              "      <td>5.217457</td>\n",
              "    </tr>\n",
              "    <tr>\n",
              "      <th>min</th>\n",
              "      <td>0.700000</td>\n",
              "      <td>0.000000</td>\n",
              "      <td>0.300000</td>\n",
              "      <td>1.600000</td>\n",
              "    </tr>\n",
              "    <tr>\n",
              "      <th>25%</th>\n",
              "      <td>74.375000</td>\n",
              "      <td>9.975000</td>\n",
              "      <td>12.750000</td>\n",
              "      <td>10.375000</td>\n",
              "    </tr>\n",
              "    <tr>\n",
              "      <th>50%</th>\n",
              "      <td>149.750000</td>\n",
              "      <td>22.900000</td>\n",
              "      <td>25.750000</td>\n",
              "      <td>12.900000</td>\n",
              "    </tr>\n",
              "    <tr>\n",
              "      <th>75%</th>\n",
              "      <td>218.825000</td>\n",
              "      <td>36.525000</td>\n",
              "      <td>45.100000</td>\n",
              "      <td>17.400000</td>\n",
              "    </tr>\n",
              "    <tr>\n",
              "      <th>max</th>\n",
              "      <td>296.400000</td>\n",
              "      <td>49.600000</td>\n",
              "      <td>114.000000</td>\n",
              "      <td>27.000000</td>\n",
              "    </tr>\n",
              "  </tbody>\n",
              "</table>\n",
              "</div>"
            ],
            "text/plain": [
              "               TV       radio   newspaper       sales\n",
              "count  200.000000  200.000000  200.000000  200.000000\n",
              "mean   147.042500   23.264000   30.554000   14.022500\n",
              "std     85.854236   14.846809   21.778621    5.217457\n",
              "min      0.700000    0.000000    0.300000    1.600000\n",
              "25%     74.375000    9.975000   12.750000   10.375000\n",
              "50%    149.750000   22.900000   25.750000   12.900000\n",
              "75%    218.825000   36.525000   45.100000   17.400000\n",
              "max    296.400000   49.600000  114.000000   27.000000"
            ]
          },
          "metadata": {
            "tags": []
          },
          "execution_count": 5
        }
      ]
    },
    {
      "cell_type": "code",
      "metadata": {
        "colab": {
          "base_uri": "https://localhost:8080/",
          "height": 528
        },
        "id": "TOT4tiFFVU-h",
        "outputId": "a1f5e63c-812e-4aff-a311-075356ccb5ec"
      },
      "source": [
        "# Apresentar gráfico mostrando as relações entre as variáveis independentes e a dependente (vendas).\n",
        "sns.pairplot(df, x_vars=['TV','radio','newspaper'], y_vars='sales',\n",
        "             height=7, aspect=0.7, kind='reg');"
      ],
      "execution_count": null,
      "outputs": [
        {
          "output_type": "display_data",
          "data": {
            "image/png": "[encoded data removed]",
            "text/plain": [
              "<Figure size 1058.4x504 with 3 Axes>"
            ]
          },
          "metadata": {
            "tags": [],
            "needs_background": "light"
          }
        }
      ]
    },
    {
      "cell_type": "markdown",
      "metadata": {
        "id": "CC-_XSsGhZYt"
      },
      "source": [
        "### Forma de regressão linear\n",
        "\n",
        "$ y = \\ beta_0 + \\ beta_1x_1 + \\ beta_2x_2 + ... + \\ beta_nx_n $\n",
        "\n",
        "- $ y $ é a resposta\n",
        "- $ \\ beta_0 $ é a interceptação\n",
        "- $ \\ beta_1 $ é o coeficiente de $ x_1 $ (a primeira 'feature')\n",
        "- $ \\ beta_n $ é o coeficiente de $ x_n $ (a enésima 'feature')\n",
        "\n",
        "Nesse caso:\n",
        "\n",
        "$ y = \\ beta_0 + \\ beta_1 \\ . TV + \\ beta_2 \\ . Radio + \\ beta_3 \\ . Jornal $\n",
        "\n",
        "Os valores de $ \\ beta $ são chamados de ** coeficientes do modelo **. Esses valores são \"aprendidos\" durante a etapa de ajuste do modelo usando o critério \"mínimos quadrados\". Em seguida, o modelo ajustado pode ser usado para fazer previsões!"
      ]
    },
    {
      "cell_type": "markdown",
      "metadata": {
        "id": "v0GUL9E6VU-p"
      },
      "source": [
        "# Preparação dos dados\n",
        "O scikit-learn espera que X (matriz de 'features') e y (vetor de resposta) sejam matrizes NumPy.\n",
        "No entanto, o Pandas é construído sobre o NumPy.\n",
        "Assim, X pode ser um Pandas DataFrame e y pode ser uma série do Pandas."
      ]
    },
    {
      "cell_type": "code",
      "metadata": {
        "colab": {
          "base_uri": "https://localhost:8080/",
          "height": 52
        },
        "id": "rU1-o1oVVU-p",
        "outputId": "a7cf4422-3053-48de-f536-eb0c53c63324"
      },
      "source": [
        "# atribui os valores das variáveis independentes a 'X'\n",
        "# cria uma lista contendo nomes das features\n",
        "feature_cols = ['TV', 'radio', 'newspaper']\n",
        "# usa a lista e atribui a X um subset do dataframe\n",
        "X = df[feature_cols]\n",
        "\n",
        "# select a Series from the DataFrame\n",
        "y = df['sales']\n",
        "\n",
        "print('X = ', X.shape)\n",
        "print('y = ', y.shape)"
      ],
      "execution_count": null,
      "outputs": [
        {
          "output_type": "stream",
          "text": [
            "X =  (200, 3)\n",
            "y =  (200,)\n"
          ],
          "name": "stdout"
        }
      ]
    },
    {
      "cell_type": "code",
      "metadata": {
        "id": "JL3fj0BgmVwz"
      },
      "source": [
        "# Divide o dataset em treino e teste\n",
        "X_train, X_test, y_train, y_test = train_test_split(X, y, random_state=1)"
      ],
      "execution_count": null,
      "outputs": []
    },
    {
      "cell_type": "code",
      "metadata": {
        "colab": {
          "base_uri": "https://localhost:8080/",
          "height": 87
        },
        "id": "o4yN4vkSmrNU",
        "outputId": "f0161d4e-5bca-47a5-addc-dd3568bbcc5f"
      },
      "source": [
        "# Confere as dimensões dos datasets de treino e teste\n",
        "print(X_train.shape)\n",
        "print(y_train.shape)\n",
        "print(X_test.shape)\n",
        "print(y_test.shape)"
      ],
      "execution_count": null,
      "outputs": [
        {
          "output_type": "stream",
          "text": [
            "(150, 3)\n",
            "(150,)\n",
            "(50, 3)\n",
            "(50,)\n"
          ],
          "name": "stdout"
        }
      ]
    },
    {
      "cell_type": "markdown",
      "metadata": {
        "id": "1s2zRv7HVU-r"
      },
      "source": [
        "# Treinar o modelo"
      ]
    },
    {
      "cell_type": "code",
      "metadata": {
        "colab": {
          "base_uri": "https://localhost:8080/",
          "height": 34
        },
        "id": "LoNLpR7ZVU-r",
        "outputId": "0c4069b4-9855-4555-f1ff-7dd1ee77a986"
      },
      "source": [
        "# instancia modelo de regressão linear\n",
        "reg_lin = LinearRegression()\n",
        "\n",
        "# treina o modelo (aprende os coeficientes)\n",
        "reg_lin.fit(X_train, y_train)\n"
      ],
      "execution_count": null,
      "outputs": [
        {
          "output_type": "execute_result",
          "data": {
            "text/plain": [
              "LinearRegression()"
            ]
          },
          "metadata": {
            "tags": []
          },
          "execution_count": 10
        }
      ]
    },
    {
      "cell_type": "markdown",
      "metadata": {
        "id": "JJ2b6ZuQnkpR"
      },
      "source": [
        "# Interpretação dos coeficientes"
      ]
    },
    {
      "cell_type": "code",
      "metadata": {
        "colab": {
          "base_uri": "https://localhost:8080/",
          "height": 52
        },
        "id": "xwzVtyDUUXMH",
        "outputId": "c84839e5-6ad3-4b05-fe24-4f02ac3374ae"
      },
      "source": [
        "# Mostra \n",
        "print(reg_lin.intercept_)\n",
        "print(reg_lin.coef_)"
      ],
      "execution_count": null,
      "outputs": [
        {
          "output_type": "stream",
          "text": [
            "2.87696662231793\n",
            "[0.04656457 0.17915812 0.00345046]\n"
          ],
          "name": "stdout"
        }
      ]
    },
    {
      "cell_type": "code",
      "metadata": {
        "colab": {
          "base_uri": "https://localhost:8080/",
          "height": 70
        },
        "id": "d-unmztHUXML",
        "outputId": "770bbd4b-a8ce-4620-b525-1efd3d8f8a28"
      },
      "source": [
        "# pair the feature names with the coefficients\n",
        "list(zip(feature_cols, reg_lin.coef_))"
      ],
      "execution_count": null,
      "outputs": [
        {
          "output_type": "execute_result",
          "data": {
            "text/plain": [
              "[('TV', 0.046564567874150295),\n",
              " ('radio', 0.17915812245088839),\n",
              " ('newspaper', 0.0034504647111804343)]"
            ]
          },
          "metadata": {
            "tags": []
          },
          "execution_count": 12
        }
      ]
    },
    {
      "cell_type": "markdown",
      "metadata": {
        "id": "nyGCCJ7ToXL_"
      },
      "source": [
        "Como interpretamos o coeficiente de TV (0,0466)?\n",
        "\n",
        "- Para uma determinada quantidade de gastos com anúncios em rádio e jornal,  US $ 1.000 adicionais gastos em anúncios de TV  resulta em um  aumento nas vendas de 46,6 itens.\n"
      ]
    },
    {
      "cell_type": "markdown",
      "metadata": {
        "id": "VCIz-n3KVU-t"
      },
      "source": [
        "# Testar o modelo (inferência)"
      ]
    },
    {
      "cell_type": "code",
      "metadata": {
        "id": "co4YZm7pVU-t"
      },
      "source": [
        "# Fazer a predição para os dados do dataset de teste\n",
        "y_pred = reg_lin.predict(X_test)"
      ],
      "execution_count": null,
      "outputs": []
    },
    {
      "cell_type": "code",
      "metadata": {
        "colab": {
          "base_uri": "https://localhost:8080/",
          "height": 194
        },
        "id": "zWNFMDvvVU-v",
        "outputId": "d8d7c5fd-7761-4d77-dc87-b00e422dfbaa"
      },
      "source": [
        "# mostrar resultado da predição\n",
        "y_pred"
      ],
      "execution_count": null,
      "outputs": [
        {
          "output_type": "execute_result",
          "data": {
            "text/plain": [
              "array([21.70910292, 16.41055243,  7.60955058, 17.80769552, 18.6146359 ,\n",
              "       23.83573998, 16.32488681, 13.43225536,  9.17173403, 17.333853  ,\n",
              "       14.44479482,  9.83511973, 17.18797614, 16.73086831, 15.05529391,\n",
              "       15.61434433, 12.42541574, 17.17716376, 11.08827566, 18.00537501,\n",
              "        9.28438889, 12.98458458,  8.79950614, 10.42382499, 11.3846456 ,\n",
              "       14.98082512,  9.78853268, 19.39643187, 18.18099936, 17.12807566,\n",
              "       21.54670213, 14.69809481, 16.24641438, 12.32114579, 19.92422501,\n",
              "       15.32498602, 13.88726522, 10.03162255, 20.93105915,  7.44936831,\n",
              "        3.64695761,  7.22020178,  5.9962782 , 18.43381853,  8.39408045,\n",
              "       14.08371047, 15.02195699, 20.35836418, 20.57036347, 19.60636679])"
            ]
          },
          "metadata": {
            "tags": []
          },
          "execution_count": 14
        }
      ]
    },
    {
      "cell_type": "markdown",
      "metadata": {
        "id": "Nfx7KEaNVU-x"
      },
      "source": [
        "## Avaliar qualidade do modelo\n",
        "RMSE  \n",
        "Erro médio quadrático da raiz (RMSE) é a raiz quadrada da média dos erros quadráticos."
      ]
    },
    {
      "cell_type": "code",
      "metadata": {
        "colab": {
          "base_uri": "https://localhost:8080/",
          "height": 34
        },
        "id": "J8-44ZOjVU-x",
        "outputId": "3e02a1d7-a5eb-4b1c-d182-3f710b272239"
      },
      "source": [
        "# Cálculo do RMSE usando o scikit-learn\n",
        "print(np.sqrt(metrics.mean_squared_error(y_test, y_pred)))"
      ],
      "execution_count": null,
      "outputs": [
        {
          "output_type": "stream",
          "text": [
            "1.4046514230328953\n"
          ],
          "name": "stdout"
        }
      ]
    },
    {
      "cell_type": "markdown",
      "metadata": {
        "id": "TZ_y4-kVtEbF"
      },
      "source": [
        "Temos um total de 3 variáveis independentes (preditivas): TV, rádio e jornais.  \n",
        "Será que todas são importantes para fazer a melhor predição do total de vendas?  \n",
        "E se tirássemos a variável 'newspaper' ?\n"
      ]
    },
    {
      "cell_type": "code",
      "metadata": {
        "colab": {
          "base_uri": "https://localhost:8080/",
          "height": 34
        },
        "id": "WKMyIn2RrXdf",
        "outputId": "aebb3df2-1db7-4dde-bd56-09819234cf0d"
      },
      "source": [
        "# cria uma lista contendo nomes das features, desta vez sem 'newspaper'\n",
        "feature_cols = ['TV', 'radio']\n",
        "# usa a lista e atribui a X um subset do dataframe\n",
        "X = df[feature_cols]\n",
        "\n",
        "# select a Series from the DataFrame\n",
        "y = df['sales']\n",
        "\n",
        "# Divide o dataset em treino e teste\n",
        "X_train, X_test, y_train, y_test = train_test_split(X, y, random_state=1)\n",
        "\n",
        "# treina o modelo (aprende os coeficientes)\n",
        "reg_lin.fit(X_train, y_train)\n",
        "\n",
        "# Fazer a predição para os dados do dataset de teste\n",
        "y_pred = reg_lin.predict(X_test)\n",
        "\n",
        "# Cálculo do RMSE usando o scikit-learn\n",
        "print(np.sqrt(metrics.mean_squared_error(y_test, y_pred)))"
      ],
      "execution_count": null,
      "outputs": [
        {
          "output_type": "stream",
          "text": [
            "1.3879034699382893\n"
          ],
          "name": "stdout"
        }
      ]
    },
    {
      "cell_type": "markdown",
      "metadata": {
        "id": "MaopN9SgvA41"
      },
      "source": [
        "### Acabamos de verificar que o erro diminuiu ao eliminarmos a variável 'newspaper'."
      ]
    },
    {
      "cell_type": "code",
      "metadata": {
        "id": "wN3V9CyZs0cs"
      },
      "source": [
        ""
      ],
      "execution_count": null,
      "outputs": []
    }
  ]
}