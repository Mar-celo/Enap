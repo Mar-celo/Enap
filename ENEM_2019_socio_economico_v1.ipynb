{
  "nbformat": 4,
  "nbformat_minor": 0,
  "metadata": {
    "kernelspec": {
      "display_name": "Python 3",
      "language": "python",
      "name": "python3"
    },
    "language_info": {
      "codemirror_mode": {
        "name": "ipython",
        "version": 3
      },
      "file_extension": ".py",
      "mimetype": "text/x-python",
      "name": "python",
      "nbconvert_exporter": "python",
      "pygments_lexer": "ipython3",
      "version": "3.7.6"
    },
    "colab": {
      "name": "ENEM_2019_socio_economico.v1.ipynb",
      "provenance": [],
      "include_colab_link": true
    }
  },
  "cells": [
    {
      "cell_type": "markdown",
      "metadata": {
        "id": "view-in-github",
        "colab_type": "text"
      },
      "source": [
        "<a href=\"https://colab.research.google.com/github/Mar-celo/Enap/blob/master/ENEM_2019_socio_economico_v1.ipynb\" target=\"_parent\"><img src=\"https://colab.research.google.com/assets/colab-badge.svg\" alt=\"Open In Colab\"/></a>"
      ]
    },
    {
      "cell_type": "markdown",
      "metadata": {
        "id": "x2IyIHExty5C"
      },
      "source": [
        "# Desempenho ENEM\n",
        "\n",
        "Modelagem de Desempenho no Enem: identificação das escolas que mais agregam resultados aos seus alunos\n",
        "\n",
        "Tradicionalmente consideram-se melhores escolas aquelas com melhores resultados médios de seus alunos. No entanto, muito do resultado de um aluno está fortemente relacionado às suas características sócio-econômicas, que também estão associadas à escola que cursa. Deseja-se um método objetivo para distinguir escolas com alunos com desempenhos abaixo ou acima do que se espera deles, em função dessas características socioeconômicas, que possa ser imputado como contribuição da escola.\n",
        "\n",
        "Por exemplo, se considerarmos apenas o fator renda dos pais, poderia-se agregar as escolas em patamares dessa renda e assim, para cada segmento, identificar as escolas com melhores resultados o que limitaria a influência do fator renda dentro de cada segmento. Idealmente, procuraríamos generalizar esse isolamento de fatores, treinando um modelo preditivo para que estime o desempenho de um aluno em função de todas as suas características, excluindo apenas a escola frequentada. Depois compararíamos esse desempenho estimado com o desempenho real e ordenaríamos as escolas pela contribuição ao desempenho além do esperado.\n",
        "\n",
        "Os microdados anonimizados do Enem encontram-se publicados pelo Inep (http://inep.gov.br/web/guest/microdados) com boa qualidade de dados em múltiplos anos, para milhões de alunos. Os dados socioeconômicos e de desempenho na prova encontram-se presentes para cada aluno individualmente, viabilizando assim a modelagem desejada. \n",
        "\n",
        "Exemplo de análise dos dados do ENEM para identificação de melhores escolas, considerando diversas características: https://exame.com/brasil/7-rankings-mais-realistas-do-desempenho-das-escolas-no-enem/\n",
        "\n",
        "Micro-dados ENEM 2019: http://download.inep.gov.br/microdados/microdados_enem_2019.zip\n",
        "650MB compactados, 3GB final\n"
      ]
    },
    {
      "cell_type": "markdown",
      "metadata": {
        "id": "u_mtIQpBty5L"
      },
      "source": [
        "A seguinte análise serve para conhecer melhor os dados disponíveis, apresentar alguma técnicas básicas de análise utilizando pandas e responder a algumas perguntas sobre os dados:\n",
        "\n",
        "* número total de alunos do Enem 2019:\n",
        "* relação entre desempenho e \n",
        "    - renda dos pais\n",
        "    - gênero\n",
        "    - raça\n",
        "    - tipo de escola, pública ou privada\n",
        "    - estado de origem\n",
        "    - etc.\n",
        "\n",
        "* reproduzir a análise e os resultados do excelente exemplo de jornalismo de dados realizado pelo jornal Estadão: \n",
        "http://infograficos.estadao.com.br/educacao/enem/desigualdades-de-genero-e-raca/\n",
        "\n",
        "Dicionário de dados disponível junto com os dados baixados: recomenda-se a leitura para entendimento do significado das colunas\n",
        "\n",
        "Aproveitei código de [Gustavo Bonesso](https://www.kaggle.com/gbonesso) para a análise inicial de 2016.\n",
        "\n",
        "Recomendo começar as análises com um recorte que reduza o número de observações, seja diretamente limitando o número de linhas que serão lidas ou indiretamente selecionando um único estado ou município. O importante é que consiga validar rapidamente suas hipóteses antes de rodar o treinamento com todos os dados disponíveis.\n",
        "\n",
        "O dataset Enem 2019 contém 5.095.270 de linhas! Então vejam com cuidado qual o tamanho do seu recorte que lhe permite trabalhar com velocidade.\n",
        "\n",
        "Para facilitar o acesso ao dicionário de dados, fiz um upload separado nos arquivos da turma: https://drive.google.com/file/d/1hUB_2ySBsOfvIQxHxL4cyE7WY_739BhB/view?usp=sharing"
      ]
    },
    {
      "cell_type": "code",
      "metadata": {
        "id": "Hiq_Z2jnty5P"
      },
      "source": [
        "# import numpy as np # linear algebra\n",
        "import pandas as pd # data processing, CSV file I/O (e.g. pd.read_csv)\n",
        "import matplotlib.pyplot as plt\n",
        "import seaborn as sns\n",
        "import gc # Garbage collector, para recuperar memória após carregar o dataset inicial\n",
        "    \n",
        "#%matplotlib inline\n",
        "\n",
        "# Input data files are available in the \"./microdados_enem_2019/\" directory.\n",
        "# For example, running this (by clicking run or pressing Shift+Enter) will list the files in the input directory\n",
        "import os"
      ],
      "execution_count": null,
      "outputs": []
    },
    {
      "cell_type": "code",
      "metadata": {
        "id": "TWKm0ME2ty5Q",
        "outputId": "ac4df35f-ecbe-41be-c435-7c31da68aca8"
      },
      "source": [
        "print(os.listdir(\".\"))"
      ],
      "execution_count": null,
      "outputs": [
        {
          "output_type": "stream",
          "text": [
            "['.ipynb_checkpoints', '06_ML.v1.pptx', 'df_enem2019.csv', 'ENEM', 'ENEM_2019_socio_economico.v1.ipynb', 'past', 'temp', '~$06_ML.v1.pptx']\n"
          ],
          "name": "stdout"
        }
      ]
    },
    {
      "cell_type": "code",
      "metadata": {
        "id": "G7L7Nthgty5R"
      },
      "source": [
        "path = './df_enem2019.csv'"
      ],
      "execution_count": null,
      "outputs": []
    },
    {
      "cell_type": "code",
      "metadata": {
        "scrolled": true,
        "id": "CDkzrU8dty5R",
        "outputId": "fd57fccb-47de-4803-a7f5-d6f72e044c37"
      },
      "source": [
        "# fonte: ./microdados_enem_2019/DADOS/MICRODADOS_ENEM_2019.csv\n",
        "# Considerando o tamanho do dataset é prudente descobrir sua estrutura aos poucos, \n",
        "# sem procurar carregar tudo de uma só vez\n",
        "# Lê só as 5 primeiras linhas\n",
        "df = pd.read_csv(path, \n",
        "                 nrows=1000, # só as 5 primeiras linhas\n",
        "                 encoding='utf-8', \n",
        "                 sep=',')\n",
        "df"
      ],
      "execution_count": null,
      "outputs": [
        {
          "output_type": "execute_result",
          "data": {
            "text/html": [
              "<div>\n",
              "<style scoped>\n",
              "    .dataframe tbody tr th:only-of-type {\n",
              "        vertical-align: middle;\n",
              "    }\n",
              "\n",
              "    .dataframe tbody tr th {\n",
              "        vertical-align: top;\n",
              "    }\n",
              "\n",
              "    .dataframe thead th {\n",
              "        text-align: right;\n",
              "    }\n",
              "</style>\n",
              "<table border=\"1\" class=\"dataframe\">\n",
              "  <thead>\n",
              "    <tr style=\"text-align: right;\">\n",
              "      <th></th>\n",
              "      <th>NU_INSCRICAO</th>\n",
              "      <th>NU_ANO</th>\n",
              "      <th>CO_MUNICIPIO_RESIDENCIA</th>\n",
              "      <th>NO_MUNICIPIO_RESIDENCIA</th>\n",
              "      <th>CO_UF_RESIDENCIA</th>\n",
              "      <th>SG_UF_RESIDENCIA</th>\n",
              "      <th>NU_IDADE</th>\n",
              "      <th>TP_SEXO</th>\n",
              "      <th>TP_ESTADO_CIVIL</th>\n",
              "      <th>TP_COR_RACA</th>\n",
              "      <th>...</th>\n",
              "      <th>Q016</th>\n",
              "      <th>Q017</th>\n",
              "      <th>Q018</th>\n",
              "      <th>Q019</th>\n",
              "      <th>Q020</th>\n",
              "      <th>Q021</th>\n",
              "      <th>Q022</th>\n",
              "      <th>Q023</th>\n",
              "      <th>Q024</th>\n",
              "      <th>Q025</th>\n",
              "    </tr>\n",
              "  </thead>\n",
              "  <tbody>\n",
              "    <tr>\n",
              "      <th>0</th>\n",
              "      <td>190001009418</td>\n",
              "      <td>2019</td>\n",
              "      <td>5300108</td>\n",
              "      <td>Brasília</td>\n",
              "      <td>53</td>\n",
              "      <td>DF</td>\n",
              "      <td>20</td>\n",
              "      <td>M</td>\n",
              "      <td>1</td>\n",
              "      <td>1</td>\n",
              "      <td>...</td>\n",
              "      <td>B</td>\n",
              "      <td>A</td>\n",
              "      <td>A</td>\n",
              "      <td>C</td>\n",
              "      <td>A</td>\n",
              "      <td>A</td>\n",
              "      <td>C</td>\n",
              "      <td>A</td>\n",
              "      <td>B</td>\n",
              "      <td>B</td>\n",
              "    </tr>\n",
              "    <tr>\n",
              "      <th>1</th>\n",
              "      <td>190001041173</td>\n",
              "      <td>2019</td>\n",
              "      <td>5300108</td>\n",
              "      <td>Brasília</td>\n",
              "      <td>53</td>\n",
              "      <td>DF</td>\n",
              "      <td>17</td>\n",
              "      <td>F</td>\n",
              "      <td>1</td>\n",
              "      <td>3</td>\n",
              "      <td>...</td>\n",
              "      <td>B</td>\n",
              "      <td>A</td>\n",
              "      <td>A</td>\n",
              "      <td>B</td>\n",
              "      <td>A</td>\n",
              "      <td>A</td>\n",
              "      <td>C</td>\n",
              "      <td>B</td>\n",
              "      <td>A</td>\n",
              "      <td>B</td>\n",
              "    </tr>\n",
              "    <tr>\n",
              "      <th>2</th>\n",
              "      <td>190001123448</td>\n",
              "      <td>2019</td>\n",
              "      <td>5300108</td>\n",
              "      <td>Brasília</td>\n",
              "      <td>53</td>\n",
              "      <td>DF</td>\n",
              "      <td>22</td>\n",
              "      <td>F</td>\n",
              "      <td>1</td>\n",
              "      <td>3</td>\n",
              "      <td>...</td>\n",
              "      <td>A</td>\n",
              "      <td>A</td>\n",
              "      <td>A</td>\n",
              "      <td>B</td>\n",
              "      <td>A</td>\n",
              "      <td>A</td>\n",
              "      <td>D</td>\n",
              "      <td>B</td>\n",
              "      <td>A</td>\n",
              "      <td>B</td>\n",
              "    </tr>\n",
              "    <tr>\n",
              "      <th>3</th>\n",
              "      <td>190001128418</td>\n",
              "      <td>2019</td>\n",
              "      <td>5300108</td>\n",
              "      <td>Brasília</td>\n",
              "      <td>53</td>\n",
              "      <td>DF</td>\n",
              "      <td>21</td>\n",
              "      <td>F</td>\n",
              "      <td>1</td>\n",
              "      <td>3</td>\n",
              "      <td>...</td>\n",
              "      <td>A</td>\n",
              "      <td>A</td>\n",
              "      <td>A</td>\n",
              "      <td>B</td>\n",
              "      <td>B</td>\n",
              "      <td>B</td>\n",
              "      <td>C</td>\n",
              "      <td>A</td>\n",
              "      <td>A</td>\n",
              "      <td>B</td>\n",
              "    </tr>\n",
              "    <tr>\n",
              "      <th>4</th>\n",
              "      <td>190001132590</td>\n",
              "      <td>2019</td>\n",
              "      <td>5300108</td>\n",
              "      <td>Brasília</td>\n",
              "      <td>53</td>\n",
              "      <td>DF</td>\n",
              "      <td>19</td>\n",
              "      <td>F</td>\n",
              "      <td>1</td>\n",
              "      <td>3</td>\n",
              "      <td>...</td>\n",
              "      <td>B</td>\n",
              "      <td>A</td>\n",
              "      <td>A</td>\n",
              "      <td>C</td>\n",
              "      <td>B</td>\n",
              "      <td>A</td>\n",
              "      <td>C</td>\n",
              "      <td>B</td>\n",
              "      <td>B</td>\n",
              "      <td>B</td>\n",
              "    </tr>\n",
              "    <tr>\n",
              "      <th>...</th>\n",
              "      <td>...</td>\n",
              "      <td>...</td>\n",
              "      <td>...</td>\n",
              "      <td>...</td>\n",
              "      <td>...</td>\n",
              "      <td>...</td>\n",
              "      <td>...</td>\n",
              "      <td>...</td>\n",
              "      <td>...</td>\n",
              "      <td>...</td>\n",
              "      <td>...</td>\n",
              "      <td>...</td>\n",
              "      <td>...</td>\n",
              "      <td>...</td>\n",
              "      <td>...</td>\n",
              "      <td>...</td>\n",
              "      <td>...</td>\n",
              "      <td>...</td>\n",
              "      <td>...</td>\n",
              "      <td>...</td>\n",
              "      <td>...</td>\n",
              "    </tr>\n",
              "    <tr>\n",
              "      <th>995</th>\n",
              "      <td>190002024667</td>\n",
              "      <td>2019</td>\n",
              "      <td>5300108</td>\n",
              "      <td>Brasília</td>\n",
              "      <td>53</td>\n",
              "      <td>DF</td>\n",
              "      <td>19</td>\n",
              "      <td>M</td>\n",
              "      <td>1</td>\n",
              "      <td>3</td>\n",
              "      <td>...</td>\n",
              "      <td>B</td>\n",
              "      <td>A</td>\n",
              "      <td>A</td>\n",
              "      <td>B</td>\n",
              "      <td>A</td>\n",
              "      <td>A</td>\n",
              "      <td>C</td>\n",
              "      <td>A</td>\n",
              "      <td>B</td>\n",
              "      <td>B</td>\n",
              "    </tr>\n",
              "    <tr>\n",
              "      <th>996</th>\n",
              "      <td>190002024668</td>\n",
              "      <td>2019</td>\n",
              "      <td>5300108</td>\n",
              "      <td>Brasília</td>\n",
              "      <td>53</td>\n",
              "      <td>DF</td>\n",
              "      <td>19</td>\n",
              "      <td>M</td>\n",
              "      <td>1</td>\n",
              "      <td>1</td>\n",
              "      <td>...</td>\n",
              "      <td>B</td>\n",
              "      <td>A</td>\n",
              "      <td>B</td>\n",
              "      <td>D</td>\n",
              "      <td>A</td>\n",
              "      <td>B</td>\n",
              "      <td>E</td>\n",
              "      <td>A</td>\n",
              "      <td>D</td>\n",
              "      <td>B</td>\n",
              "    </tr>\n",
              "    <tr>\n",
              "      <th>997</th>\n",
              "      <td>190002024669</td>\n",
              "      <td>2019</td>\n",
              "      <td>5300108</td>\n",
              "      <td>Brasília</td>\n",
              "      <td>53</td>\n",
              "      <td>DF</td>\n",
              "      <td>23</td>\n",
              "      <td>F</td>\n",
              "      <td>1</td>\n",
              "      <td>3</td>\n",
              "      <td>...</td>\n",
              "      <td>B</td>\n",
              "      <td>A</td>\n",
              "      <td>B</td>\n",
              "      <td>B</td>\n",
              "      <td>A</td>\n",
              "      <td>B</td>\n",
              "      <td>E</td>\n",
              "      <td>B</td>\n",
              "      <td>B</td>\n",
              "      <td>B</td>\n",
              "    </tr>\n",
              "    <tr>\n",
              "      <th>998</th>\n",
              "      <td>190002024670</td>\n",
              "      <td>2019</td>\n",
              "      <td>5300108</td>\n",
              "      <td>Brasília</td>\n",
              "      <td>53</td>\n",
              "      <td>DF</td>\n",
              "      <td>18</td>\n",
              "      <td>F</td>\n",
              "      <td>1</td>\n",
              "      <td>1</td>\n",
              "      <td>...</td>\n",
              "      <td>B</td>\n",
              "      <td>A</td>\n",
              "      <td>A</td>\n",
              "      <td>B</td>\n",
              "      <td>A</td>\n",
              "      <td>A</td>\n",
              "      <td>D</td>\n",
              "      <td>B</td>\n",
              "      <td>C</td>\n",
              "      <td>B</td>\n",
              "    </tr>\n",
              "    <tr>\n",
              "      <th>999</th>\n",
              "      <td>190002024671</td>\n",
              "      <td>2019</td>\n",
              "      <td>5300108</td>\n",
              "      <td>Brasília</td>\n",
              "      <td>53</td>\n",
              "      <td>DF</td>\n",
              "      <td>19</td>\n",
              "      <td>F</td>\n",
              "      <td>1</td>\n",
              "      <td>1</td>\n",
              "      <td>...</td>\n",
              "      <td>A</td>\n",
              "      <td>A</td>\n",
              "      <td>A</td>\n",
              "      <td>B</td>\n",
              "      <td>A</td>\n",
              "      <td>B</td>\n",
              "      <td>D</td>\n",
              "      <td>A</td>\n",
              "      <td>B</td>\n",
              "      <td>B</td>\n",
              "    </tr>\n",
              "  </tbody>\n",
              "</table>\n",
              "<p>1000 rows × 136 columns</p>\n",
              "</div>"
            ],
            "text/plain": [
              "     NU_INSCRICAO  NU_ANO  CO_MUNICIPIO_RESIDENCIA NO_MUNICIPIO_RESIDENCIA  \\\n",
              "0    190001009418    2019                  5300108                Brasília   \n",
              "1    190001041173    2019                  5300108                Brasília   \n",
              "2    190001123448    2019                  5300108                Brasília   \n",
              "3    190001128418    2019                  5300108                Brasília   \n",
              "4    190001132590    2019                  5300108                Brasília   \n",
              "..            ...     ...                      ...                     ...   \n",
              "995  190002024667    2019                  5300108                Brasília   \n",
              "996  190002024668    2019                  5300108                Brasília   \n",
              "997  190002024669    2019                  5300108                Brasília   \n",
              "998  190002024670    2019                  5300108                Brasília   \n",
              "999  190002024671    2019                  5300108                Brasília   \n",
              "\n",
              "     CO_UF_RESIDENCIA SG_UF_RESIDENCIA  NU_IDADE TP_SEXO  TP_ESTADO_CIVIL  \\\n",
              "0                  53               DF        20       M                1   \n",
              "1                  53               DF        17       F                1   \n",
              "2                  53               DF        22       F                1   \n",
              "3                  53               DF        21       F                1   \n",
              "4                  53               DF        19       F                1   \n",
              "..                ...              ...       ...     ...              ...   \n",
              "995                53               DF        19       M                1   \n",
              "996                53               DF        19       M                1   \n",
              "997                53               DF        23       F                1   \n",
              "998                53               DF        18       F                1   \n",
              "999                53               DF        19       F                1   \n",
              "\n",
              "     TP_COR_RACA  ...  Q016  Q017 Q018  Q019 Q020  Q021  Q022  Q023  Q024  \\\n",
              "0              1  ...     B     A    A     C    A     A     C     A     B   \n",
              "1              3  ...     B     A    A     B    A     A     C     B     A   \n",
              "2              3  ...     A     A    A     B    A     A     D     B     A   \n",
              "3              3  ...     A     A    A     B    B     B     C     A     A   \n",
              "4              3  ...     B     A    A     C    B     A     C     B     B   \n",
              "..           ...  ...   ...   ...  ...   ...  ...   ...   ...   ...   ...   \n",
              "995            3  ...     B     A    A     B    A     A     C     A     B   \n",
              "996            1  ...     B     A    B     D    A     B     E     A     D   \n",
              "997            3  ...     B     A    B     B    A     B     E     B     B   \n",
              "998            1  ...     B     A    A     B    A     A     D     B     C   \n",
              "999            1  ...     A     A    A     B    A     B     D     A     B   \n",
              "\n",
              "     Q025  \n",
              "0       B  \n",
              "1       B  \n",
              "2       B  \n",
              "3       B  \n",
              "4       B  \n",
              "..    ...  \n",
              "995     B  \n",
              "996     B  \n",
              "997     B  \n",
              "998     B  \n",
              "999     B  \n",
              "\n",
              "[1000 rows x 136 columns]"
            ]
          },
          "metadata": {
            "tags": []
          },
          "execution_count": 35
        }
      ]
    },
    {
      "cell_type": "code",
      "metadata": {
        "scrolled": true,
        "id": "VTxGxwzoty5S",
        "outputId": "466df189-ccb8-4695-f2ed-fc9b5586b480"
      },
      "source": [
        "# 136 colunas!\n",
        "# Mostra o nome das colunas\n",
        "print(list(df.columns))\n",
        "len(df.columns)"
      ],
      "execution_count": null,
      "outputs": [
        {
          "output_type": "stream",
          "text": [
            "['NU_INSCRICAO', 'NU_ANO', 'CO_MUNICIPIO_RESIDENCIA', 'NO_MUNICIPIO_RESIDENCIA', 'CO_UF_RESIDENCIA', 'SG_UF_RESIDENCIA', 'NU_IDADE', 'TP_SEXO', 'TP_ESTADO_CIVIL', 'TP_COR_RACA', 'TP_NACIONALIDADE', 'CO_MUNICIPIO_NASCIMENTO', 'NO_MUNICIPIO_NASCIMENTO', 'CO_UF_NASCIMENTO', 'SG_UF_NASCIMENTO', 'TP_ST_CONCLUSAO', 'TP_ANO_CONCLUIU', 'TP_ESCOLA', 'TP_ENSINO', 'IN_TREINEIRO', 'CO_ESCOLA', 'CO_MUNICIPIO_ESC', 'NO_MUNICIPIO_ESC', 'CO_UF_ESC', 'SG_UF_ESC', 'TP_DEPENDENCIA_ADM_ESC', 'TP_LOCALIZACAO_ESC', 'TP_SIT_FUNC_ESC', 'IN_BAIXA_VISAO', 'IN_CEGUEIRA', 'IN_SURDEZ', 'IN_DEFICIENCIA_AUDITIVA', 'IN_SURDO_CEGUEIRA', 'IN_DEFICIENCIA_FISICA', 'IN_DEFICIENCIA_MENTAL', 'IN_DEFICIT_ATENCAO', 'IN_DISLEXIA', 'IN_DISCALCULIA', 'IN_AUTISMO', 'IN_VISAO_MONOCULAR', 'IN_OUTRA_DEF', 'IN_GESTANTE', 'IN_LACTANTE', 'IN_IDOSO', 'IN_ESTUDA_CLASSE_HOSPITALAR', 'IN_SEM_RECURSO', 'IN_BRAILLE', 'IN_AMPLIADA_24', 'IN_AMPLIADA_18', 'IN_LEDOR', 'IN_ACESSO', 'IN_TRANSCRICAO', 'IN_LIBRAS', 'IN_TEMPO_ADICIONAL', 'IN_LEITURA_LABIAL', 'IN_MESA_CADEIRA_RODAS', 'IN_MESA_CADEIRA_SEPARADA', 'IN_APOIO_PERNA', 'IN_GUIA_INTERPRETE', 'IN_COMPUTADOR', 'IN_CADEIRA_ESPECIAL', 'IN_CADEIRA_CANHOTO', 'IN_CADEIRA_ACOLCHOADA', 'IN_PROVA_DEITADO', 'IN_MOBILIARIO_OBESO', 'IN_LAMINA_OVERLAY', 'IN_PROTETOR_AURICULAR', 'IN_MEDIDOR_GLICOSE', 'IN_MAQUINA_BRAILE', 'IN_SOROBAN', 'IN_MARCA_PASSO', 'IN_SONDA', 'IN_MEDICAMENTOS', 'IN_SALA_INDIVIDUAL', 'IN_SALA_ESPECIAL', 'IN_SALA_ACOMPANHANTE', 'IN_MOBILIARIO_ESPECIFICO', 'IN_MATERIAL_ESPECIFICO', 'IN_NOME_SOCIAL', 'CO_MUNICIPIO_PROVA', 'NO_MUNICIPIO_PROVA', 'CO_UF_PROVA', 'SG_UF_PROVA', 'TP_PRESENCA_CN', 'TP_PRESENCA_CH', 'TP_PRESENCA_LC', 'TP_PRESENCA_MT', 'CO_PROVA_CN', 'CO_PROVA_CH', 'CO_PROVA_LC', 'CO_PROVA_MT', 'NU_NOTA_CN', 'NU_NOTA_CH', 'NU_NOTA_LC', 'NU_NOTA_MT', 'TX_RESPOSTAS_CN', 'TX_RESPOSTAS_CH', 'TX_RESPOSTAS_LC', 'TX_RESPOSTAS_MT', 'TP_LINGUA', 'TX_GABARITO_CN', 'TX_GABARITO_CH', 'TX_GABARITO_LC', 'TX_GABARITO_MT', 'TP_STATUS_REDACAO', 'NU_NOTA_COMP1', 'NU_NOTA_COMP2', 'NU_NOTA_COMP3', 'NU_NOTA_COMP4', 'NU_NOTA_COMP5', 'NU_NOTA_REDACAO', 'Q001', 'Q002', 'Q003', 'Q004', 'Q005', 'Q006', 'Q007', 'Q008', 'Q009', 'Q010', 'Q011', 'Q012', 'Q013', 'Q014', 'Q015', 'Q016', 'Q017', 'Q018', 'Q019', 'Q020', 'Q021', 'Q022', 'Q023', 'Q024', 'Q025']\n"
          ],
          "name": "stdout"
        },
        {
          "output_type": "execute_result",
          "data": {
            "text/plain": [
              "136"
            ]
          },
          "metadata": {
            "tags": []
          },
          "execution_count": 36
        }
      ]
    },
    {
      "cell_type": "code",
      "metadata": {
        "id": "vutp0LyHty5T",
        "outputId": "0828082f-abb7-4224-d9a2-819c9090738c"
      },
      "source": [
        "# Caso queira referenciar um conjunto de colunas por posição e não apenas por nome\n",
        "list(zip(range(len(df.columns)), df.columns))"
      ],
      "execution_count": null,
      "outputs": [
        {
          "output_type": "execute_result",
          "data": {
            "text/plain": [
              "[(0, 'NU_INSCRICAO'),\n",
              " (1, 'NU_ANO'),\n",
              " (2, 'CO_MUNICIPIO_RESIDENCIA'),\n",
              " (3, 'NO_MUNICIPIO_RESIDENCIA'),\n",
              " (4, 'CO_UF_RESIDENCIA'),\n",
              " (5, 'SG_UF_RESIDENCIA'),\n",
              " (6, 'NU_IDADE'),\n",
              " (7, 'TP_SEXO'),\n",
              " (8, 'TP_ESTADO_CIVIL'),\n",
              " (9, 'TP_COR_RACA'),\n",
              " (10, 'TP_NACIONALIDADE'),\n",
              " (11, 'CO_MUNICIPIO_NASCIMENTO'),\n",
              " (12, 'NO_MUNICIPIO_NASCIMENTO'),\n",
              " (13, 'CO_UF_NASCIMENTO'),\n",
              " (14, 'SG_UF_NASCIMENTO'),\n",
              " (15, 'TP_ST_CONCLUSAO'),\n",
              " (16, 'TP_ANO_CONCLUIU'),\n",
              " (17, 'TP_ESCOLA'),\n",
              " (18, 'TP_ENSINO'),\n",
              " (19, 'IN_TREINEIRO'),\n",
              " (20, 'CO_ESCOLA'),\n",
              " (21, 'CO_MUNICIPIO_ESC'),\n",
              " (22, 'NO_MUNICIPIO_ESC'),\n",
              " (23, 'CO_UF_ESC'),\n",
              " (24, 'SG_UF_ESC'),\n",
              " (25, 'TP_DEPENDENCIA_ADM_ESC'),\n",
              " (26, 'TP_LOCALIZACAO_ESC'),\n",
              " (27, 'TP_SIT_FUNC_ESC'),\n",
              " (28, 'IN_BAIXA_VISAO'),\n",
              " (29, 'IN_CEGUEIRA'),\n",
              " (30, 'IN_SURDEZ'),\n",
              " (31, 'IN_DEFICIENCIA_AUDITIVA'),\n",
              " (32, 'IN_SURDO_CEGUEIRA'),\n",
              " (33, 'IN_DEFICIENCIA_FISICA'),\n",
              " (34, 'IN_DEFICIENCIA_MENTAL'),\n",
              " (35, 'IN_DEFICIT_ATENCAO'),\n",
              " (36, 'IN_DISLEXIA'),\n",
              " (37, 'IN_DISCALCULIA'),\n",
              " (38, 'IN_AUTISMO'),\n",
              " (39, 'IN_VISAO_MONOCULAR'),\n",
              " (40, 'IN_OUTRA_DEF'),\n",
              " (41, 'IN_GESTANTE'),\n",
              " (42, 'IN_LACTANTE'),\n",
              " (43, 'IN_IDOSO'),\n",
              " (44, 'IN_ESTUDA_CLASSE_HOSPITALAR'),\n",
              " (45, 'IN_SEM_RECURSO'),\n",
              " (46, 'IN_BRAILLE'),\n",
              " (47, 'IN_AMPLIADA_24'),\n",
              " (48, 'IN_AMPLIADA_18'),\n",
              " (49, 'IN_LEDOR'),\n",
              " (50, 'IN_ACESSO'),\n",
              " (51, 'IN_TRANSCRICAO'),\n",
              " (52, 'IN_LIBRAS'),\n",
              " (53, 'IN_TEMPO_ADICIONAL'),\n",
              " (54, 'IN_LEITURA_LABIAL'),\n",
              " (55, 'IN_MESA_CADEIRA_RODAS'),\n",
              " (56, 'IN_MESA_CADEIRA_SEPARADA'),\n",
              " (57, 'IN_APOIO_PERNA'),\n",
              " (58, 'IN_GUIA_INTERPRETE'),\n",
              " (59, 'IN_COMPUTADOR'),\n",
              " (60, 'IN_CADEIRA_ESPECIAL'),\n",
              " (61, 'IN_CADEIRA_CANHOTO'),\n",
              " (62, 'IN_CADEIRA_ACOLCHOADA'),\n",
              " (63, 'IN_PROVA_DEITADO'),\n",
              " (64, 'IN_MOBILIARIO_OBESO'),\n",
              " (65, 'IN_LAMINA_OVERLAY'),\n",
              " (66, 'IN_PROTETOR_AURICULAR'),\n",
              " (67, 'IN_MEDIDOR_GLICOSE'),\n",
              " (68, 'IN_MAQUINA_BRAILE'),\n",
              " (69, 'IN_SOROBAN'),\n",
              " (70, 'IN_MARCA_PASSO'),\n",
              " (71, 'IN_SONDA'),\n",
              " (72, 'IN_MEDICAMENTOS'),\n",
              " (73, 'IN_SALA_INDIVIDUAL'),\n",
              " (74, 'IN_SALA_ESPECIAL'),\n",
              " (75, 'IN_SALA_ACOMPANHANTE'),\n",
              " (76, 'IN_MOBILIARIO_ESPECIFICO'),\n",
              " (77, 'IN_MATERIAL_ESPECIFICO'),\n",
              " (78, 'IN_NOME_SOCIAL'),\n",
              " (79, 'CO_MUNICIPIO_PROVA'),\n",
              " (80, 'NO_MUNICIPIO_PROVA'),\n",
              " (81, 'CO_UF_PROVA'),\n",
              " (82, 'SG_UF_PROVA'),\n",
              " (83, 'TP_PRESENCA_CN'),\n",
              " (84, 'TP_PRESENCA_CH'),\n",
              " (85, 'TP_PRESENCA_LC'),\n",
              " (86, 'TP_PRESENCA_MT'),\n",
              " (87, 'CO_PROVA_CN'),\n",
              " (88, 'CO_PROVA_CH'),\n",
              " (89, 'CO_PROVA_LC'),\n",
              " (90, 'CO_PROVA_MT'),\n",
              " (91, 'NU_NOTA_CN'),\n",
              " (92, 'NU_NOTA_CH'),\n",
              " (93, 'NU_NOTA_LC'),\n",
              " (94, 'NU_NOTA_MT'),\n",
              " (95, 'TX_RESPOSTAS_CN'),\n",
              " (96, 'TX_RESPOSTAS_CH'),\n",
              " (97, 'TX_RESPOSTAS_LC'),\n",
              " (98, 'TX_RESPOSTAS_MT'),\n",
              " (99, 'TP_LINGUA'),\n",
              " (100, 'TX_GABARITO_CN'),\n",
              " (101, 'TX_GABARITO_CH'),\n",
              " (102, 'TX_GABARITO_LC'),\n",
              " (103, 'TX_GABARITO_MT'),\n",
              " (104, 'TP_STATUS_REDACAO'),\n",
              " (105, 'NU_NOTA_COMP1'),\n",
              " (106, 'NU_NOTA_COMP2'),\n",
              " (107, 'NU_NOTA_COMP3'),\n",
              " (108, 'NU_NOTA_COMP4'),\n",
              " (109, 'NU_NOTA_COMP5'),\n",
              " (110, 'NU_NOTA_REDACAO'),\n",
              " (111, 'Q001'),\n",
              " (112, 'Q002'),\n",
              " (113, 'Q003'),\n",
              " (114, 'Q004'),\n",
              " (115, 'Q005'),\n",
              " (116, 'Q006'),\n",
              " (117, 'Q007'),\n",
              " (118, 'Q008'),\n",
              " (119, 'Q009'),\n",
              " (120, 'Q010'),\n",
              " (121, 'Q011'),\n",
              " (122, 'Q012'),\n",
              " (123, 'Q013'),\n",
              " (124, 'Q014'),\n",
              " (125, 'Q015'),\n",
              " (126, 'Q016'),\n",
              " (127, 'Q017'),\n",
              " (128, 'Q018'),\n",
              " (129, 'Q019'),\n",
              " (130, 'Q020'),\n",
              " (131, 'Q021'),\n",
              " (132, 'Q022'),\n",
              " (133, 'Q023'),\n",
              " (134, 'Q024'),\n",
              " (135, 'Q025')]"
            ]
          },
          "metadata": {
            "tags": []
          },
          "execution_count": 37
        }
      ]
    },
    {
      "cell_type": "markdown",
      "metadata": {
        "id": "L71UPHqKty5T"
      },
      "source": [
        "A semântica das variáveis representadas nas colunas do dataset está descrita no dicionário de dados.\n",
        "\n",
        "Assim, podemos importar seletivamente apenas as colunas que sejam necessárias para a análise.\n",
        "\n",
        "Exemplo:"
      ]
    },
    {
      "cell_type": "code",
      "metadata": {
        "id": "FwUqZ1E2ty5U"
      },
      "source": [
        "# Seleciona as colunas de interesse\n",
        "# As colunas do questionário socioeconômico são de nome Q001 a Q025\n",
        "colunas = ['Q001', 'Q002', 'Q003', 'Q004', 'Q005', 'Q006', 'Q007', 'Q008', 'Q009', 'Q010', 'Q011', 'Q012', 'Q013', 'Q014', 'Q015', 'Q016', 'Q017', 'Q018', 'Q019', 'Q020', 'Q021', 'Q022', 'Q023', 'Q024', 'Q025']"
      ],
      "execution_count": null,
      "outputs": []
    },
    {
      "cell_type": "code",
      "metadata": {
        "id": "rxprM3TGty5U",
        "outputId": "e078aa1e-c3f9-4319-ccdb-657bef7edd52"
      },
      "source": [
        "# Forma alternativa de selecionar as mesmas colunas\n",
        "df.columns[-25:]"
      ],
      "execution_count": null,
      "outputs": [
        {
          "output_type": "execute_result",
          "data": {
            "text/plain": [
              "Index(['Q001', 'Q002', 'Q003', 'Q004', 'Q005', 'Q006', 'Q007', 'Q008', 'Q009',\n",
              "       'Q010', 'Q011', 'Q012', 'Q013', 'Q014', 'Q015', 'Q016', 'Q017', 'Q018',\n",
              "       'Q019', 'Q020', 'Q021', 'Q022', 'Q023', 'Q024', 'Q025'],\n",
              "      dtype='object')"
            ]
          },
          "metadata": {
            "tags": []
          },
          "execution_count": 39
        }
      ]
    },
    {
      "cell_type": "code",
      "metadata": {
        "id": "M5RZ9FkMty5V",
        "outputId": "cecdf4b4-6506-43cc-9365-a238f3a9a5d8"
      },
      "source": [
        "# recorte para o questionário socioeconomico (se)\n",
        "se = df[colunas]\n",
        "se.head()"
      ],
      "execution_count": null,
      "outputs": [
        {
          "output_type": "execute_result",
          "data": {
            "text/html": [
              "<div>\n",
              "<style scoped>\n",
              "    .dataframe tbody tr th:only-of-type {\n",
              "        vertical-align: middle;\n",
              "    }\n",
              "\n",
              "    .dataframe tbody tr th {\n",
              "        vertical-align: top;\n",
              "    }\n",
              "\n",
              "    .dataframe thead th {\n",
              "        text-align: right;\n",
              "    }\n",
              "</style>\n",
              "<table border=\"1\" class=\"dataframe\">\n",
              "  <thead>\n",
              "    <tr style=\"text-align: right;\">\n",
              "      <th></th>\n",
              "      <th>Q001</th>\n",
              "      <th>Q002</th>\n",
              "      <th>Q003</th>\n",
              "      <th>Q004</th>\n",
              "      <th>Q005</th>\n",
              "      <th>Q006</th>\n",
              "      <th>Q007</th>\n",
              "      <th>Q008</th>\n",
              "      <th>Q009</th>\n",
              "      <th>Q010</th>\n",
              "      <th>...</th>\n",
              "      <th>Q016</th>\n",
              "      <th>Q017</th>\n",
              "      <th>Q018</th>\n",
              "      <th>Q019</th>\n",
              "      <th>Q020</th>\n",
              "      <th>Q021</th>\n",
              "      <th>Q022</th>\n",
              "      <th>Q023</th>\n",
              "      <th>Q024</th>\n",
              "      <th>Q025</th>\n",
              "    </tr>\n",
              "  </thead>\n",
              "  <tbody>\n",
              "    <tr>\n",
              "      <th>0</th>\n",
              "      <td>D</td>\n",
              "      <td>E</td>\n",
              "      <td>C</td>\n",
              "      <td>D</td>\n",
              "      <td>2</td>\n",
              "      <td>G</td>\n",
              "      <td>B</td>\n",
              "      <td>C</td>\n",
              "      <td>D</td>\n",
              "      <td>B</td>\n",
              "      <td>...</td>\n",
              "      <td>B</td>\n",
              "      <td>A</td>\n",
              "      <td>A</td>\n",
              "      <td>C</td>\n",
              "      <td>A</td>\n",
              "      <td>A</td>\n",
              "      <td>C</td>\n",
              "      <td>A</td>\n",
              "      <td>B</td>\n",
              "      <td>B</td>\n",
              "    </tr>\n",
              "    <tr>\n",
              "      <th>1</th>\n",
              "      <td>G</td>\n",
              "      <td>G</td>\n",
              "      <td>D</td>\n",
              "      <td>D</td>\n",
              "      <td>2</td>\n",
              "      <td>I</td>\n",
              "      <td>A</td>\n",
              "      <td>B</td>\n",
              "      <td>C</td>\n",
              "      <td>A</td>\n",
              "      <td>...</td>\n",
              "      <td>B</td>\n",
              "      <td>A</td>\n",
              "      <td>A</td>\n",
              "      <td>B</td>\n",
              "      <td>A</td>\n",
              "      <td>A</td>\n",
              "      <td>C</td>\n",
              "      <td>B</td>\n",
              "      <td>A</td>\n",
              "      <td>B</td>\n",
              "    </tr>\n",
              "    <tr>\n",
              "      <th>2</th>\n",
              "      <td>F</td>\n",
              "      <td>E</td>\n",
              "      <td>D</td>\n",
              "      <td>B</td>\n",
              "      <td>4</td>\n",
              "      <td>C</td>\n",
              "      <td>A</td>\n",
              "      <td>B</td>\n",
              "      <td>C</td>\n",
              "      <td>A</td>\n",
              "      <td>...</td>\n",
              "      <td>A</td>\n",
              "      <td>A</td>\n",
              "      <td>A</td>\n",
              "      <td>B</td>\n",
              "      <td>A</td>\n",
              "      <td>A</td>\n",
              "      <td>D</td>\n",
              "      <td>B</td>\n",
              "      <td>A</td>\n",
              "      <td>B</td>\n",
              "    </tr>\n",
              "    <tr>\n",
              "      <th>3</th>\n",
              "      <td>E</td>\n",
              "      <td>E</td>\n",
              "      <td>A</td>\n",
              "      <td>C</td>\n",
              "      <td>3</td>\n",
              "      <td>B</td>\n",
              "      <td>A</td>\n",
              "      <td>B</td>\n",
              "      <td>C</td>\n",
              "      <td>A</td>\n",
              "      <td>...</td>\n",
              "      <td>A</td>\n",
              "      <td>A</td>\n",
              "      <td>A</td>\n",
              "      <td>B</td>\n",
              "      <td>B</td>\n",
              "      <td>B</td>\n",
              "      <td>C</td>\n",
              "      <td>A</td>\n",
              "      <td>A</td>\n",
              "      <td>B</td>\n",
              "    </tr>\n",
              "    <tr>\n",
              "      <th>4</th>\n",
              "      <td>E</td>\n",
              "      <td>C</td>\n",
              "      <td>F</td>\n",
              "      <td>F</td>\n",
              "      <td>4</td>\n",
              "      <td>D</td>\n",
              "      <td>C</td>\n",
              "      <td>C</td>\n",
              "      <td>C</td>\n",
              "      <td>B</td>\n",
              "      <td>...</td>\n",
              "      <td>B</td>\n",
              "      <td>A</td>\n",
              "      <td>A</td>\n",
              "      <td>C</td>\n",
              "      <td>B</td>\n",
              "      <td>A</td>\n",
              "      <td>C</td>\n",
              "      <td>B</td>\n",
              "      <td>B</td>\n",
              "      <td>B</td>\n",
              "    </tr>\n",
              "  </tbody>\n",
              "</table>\n",
              "<p>5 rows × 25 columns</p>\n",
              "</div>"
            ],
            "text/plain": [
              "  Q001 Q002 Q003 Q004  Q005 Q006 Q007 Q008 Q009 Q010  ... Q016 Q017 Q018 Q019  \\\n",
              "0    D    E    C    D     2    G    B    C    D    B  ...    B    A    A    C   \n",
              "1    G    G    D    D     2    I    A    B    C    A  ...    B    A    A    B   \n",
              "2    F    E    D    B     4    C    A    B    C    A  ...    A    A    A    B   \n",
              "3    E    E    A    C     3    B    A    B    C    A  ...    A    A    A    B   \n",
              "4    E    C    F    F     4    D    C    C    C    B  ...    B    A    A    C   \n",
              "\n",
              "  Q020 Q021 Q022 Q023 Q024 Q025  \n",
              "0    A    A    C    A    B    B  \n",
              "1    A    A    C    B    A    B  \n",
              "2    A    A    D    B    A    B  \n",
              "3    B    B    C    A    A    B  \n",
              "4    B    A    C    B    B    B  \n",
              "\n",
              "[5 rows x 25 columns]"
            ]
          },
          "metadata": {
            "tags": []
          },
          "execution_count": 40
        }
      ]
    },
    {
      "cell_type": "code",
      "metadata": {
        "id": "5FrR_V7Oty5W"
      },
      "source": [
        "# Separa as variáveis independentes (features) da variável dependente (target)\n",
        "X = se.drop(['Q006'], axis=1)\n",
        "y = se['Q006']"
      ],
      "execution_count": null,
      "outputs": []
    },
    {
      "cell_type": "code",
      "metadata": {
        "id": "A7L0tzrLty5W",
        "outputId": "fb83afff-fbb5-46fa-88ea-0667abe308ab"
      },
      "source": [
        "X.sample(10)"
      ],
      "execution_count": null,
      "outputs": [
        {
          "output_type": "execute_result",
          "data": {
            "text/html": [
              "<div>\n",
              "<style scoped>\n",
              "    .dataframe tbody tr th:only-of-type {\n",
              "        vertical-align: middle;\n",
              "    }\n",
              "\n",
              "    .dataframe tbody tr th {\n",
              "        vertical-align: top;\n",
              "    }\n",
              "\n",
              "    .dataframe thead th {\n",
              "        text-align: right;\n",
              "    }\n",
              "</style>\n",
              "<table border=\"1\" class=\"dataframe\">\n",
              "  <thead>\n",
              "    <tr style=\"text-align: right;\">\n",
              "      <th></th>\n",
              "      <th>Q001</th>\n",
              "      <th>Q002</th>\n",
              "      <th>Q003</th>\n",
              "      <th>Q004</th>\n",
              "      <th>Q005</th>\n",
              "      <th>Q007</th>\n",
              "      <th>Q008</th>\n",
              "      <th>Q009</th>\n",
              "      <th>Q010</th>\n",
              "      <th>Q011</th>\n",
              "      <th>...</th>\n",
              "      <th>Q016</th>\n",
              "      <th>Q017</th>\n",
              "      <th>Q018</th>\n",
              "      <th>Q019</th>\n",
              "      <th>Q020</th>\n",
              "      <th>Q021</th>\n",
              "      <th>Q022</th>\n",
              "      <th>Q023</th>\n",
              "      <th>Q024</th>\n",
              "      <th>Q025</th>\n",
              "    </tr>\n",
              "  </thead>\n",
              "  <tbody>\n",
              "    <tr>\n",
              "      <th>218</th>\n",
              "      <td>D</td>\n",
              "      <td>F</td>\n",
              "      <td>C</td>\n",
              "      <td>C</td>\n",
              "      <td>4</td>\n",
              "      <td>A</td>\n",
              "      <td>C</td>\n",
              "      <td>C</td>\n",
              "      <td>B</td>\n",
              "      <td>A</td>\n",
              "      <td>...</td>\n",
              "      <td>B</td>\n",
              "      <td>A</td>\n",
              "      <td>A</td>\n",
              "      <td>B</td>\n",
              "      <td>A</td>\n",
              "      <td>A</td>\n",
              "      <td>D</td>\n",
              "      <td>A</td>\n",
              "      <td>B</td>\n",
              "      <td>B</td>\n",
              "    </tr>\n",
              "    <tr>\n",
              "      <th>889</th>\n",
              "      <td>E</td>\n",
              "      <td>G</td>\n",
              "      <td>D</td>\n",
              "      <td>D</td>\n",
              "      <td>3</td>\n",
              "      <td>A</td>\n",
              "      <td>C</td>\n",
              "      <td>C</td>\n",
              "      <td>B</td>\n",
              "      <td>A</td>\n",
              "      <td>...</td>\n",
              "      <td>B</td>\n",
              "      <td>A</td>\n",
              "      <td>B</td>\n",
              "      <td>C</td>\n",
              "      <td>A</td>\n",
              "      <td>B</td>\n",
              "      <td>D</td>\n",
              "      <td>B</td>\n",
              "      <td>E</td>\n",
              "      <td>B</td>\n",
              "    </tr>\n",
              "    <tr>\n",
              "      <th>45</th>\n",
              "      <td>B</td>\n",
              "      <td>B</td>\n",
              "      <td>C</td>\n",
              "      <td>B</td>\n",
              "      <td>3</td>\n",
              "      <td>A</td>\n",
              "      <td>C</td>\n",
              "      <td>C</td>\n",
              "      <td>A</td>\n",
              "      <td>A</td>\n",
              "      <td>...</td>\n",
              "      <td>B</td>\n",
              "      <td>A</td>\n",
              "      <td>A</td>\n",
              "      <td>B</td>\n",
              "      <td>A</td>\n",
              "      <td>A</td>\n",
              "      <td>C</td>\n",
              "      <td>B</td>\n",
              "      <td>B</td>\n",
              "      <td>B</td>\n",
              "    </tr>\n",
              "    <tr>\n",
              "      <th>46</th>\n",
              "      <td>C</td>\n",
              "      <td>E</td>\n",
              "      <td>F</td>\n",
              "      <td>B</td>\n",
              "      <td>5</td>\n",
              "      <td>A</td>\n",
              "      <td>C</td>\n",
              "      <td>D</td>\n",
              "      <td>B</td>\n",
              "      <td>A</td>\n",
              "      <td>...</td>\n",
              "      <td>B</td>\n",
              "      <td>A</td>\n",
              "      <td>A</td>\n",
              "      <td>C</td>\n",
              "      <td>A</td>\n",
              "      <td>A</td>\n",
              "      <td>E</td>\n",
              "      <td>B</td>\n",
              "      <td>A</td>\n",
              "      <td>B</td>\n",
              "    </tr>\n",
              "    <tr>\n",
              "      <th>725</th>\n",
              "      <td>E</td>\n",
              "      <td>G</td>\n",
              "      <td>D</td>\n",
              "      <td>D</td>\n",
              "      <td>4</td>\n",
              "      <td>A</td>\n",
              "      <td>D</td>\n",
              "      <td>D</td>\n",
              "      <td>C</td>\n",
              "      <td>A</td>\n",
              "      <td>...</td>\n",
              "      <td>B</td>\n",
              "      <td>A</td>\n",
              "      <td>B</td>\n",
              "      <td>D</td>\n",
              "      <td>A</td>\n",
              "      <td>A</td>\n",
              "      <td>E</td>\n",
              "      <td>A</td>\n",
              "      <td>B</td>\n",
              "      <td>B</td>\n",
              "    </tr>\n",
              "    <tr>\n",
              "      <th>857</th>\n",
              "      <td>C</td>\n",
              "      <td>E</td>\n",
              "      <td>F</td>\n",
              "      <td>F</td>\n",
              "      <td>5</td>\n",
              "      <td>A</td>\n",
              "      <td>B</td>\n",
              "      <td>C</td>\n",
              "      <td>A</td>\n",
              "      <td>A</td>\n",
              "      <td>...</td>\n",
              "      <td>B</td>\n",
              "      <td>A</td>\n",
              "      <td>A</td>\n",
              "      <td>B</td>\n",
              "      <td>B</td>\n",
              "      <td>A</td>\n",
              "      <td>B</td>\n",
              "      <td>A</td>\n",
              "      <td>A</td>\n",
              "      <td>B</td>\n",
              "    </tr>\n",
              "    <tr>\n",
              "      <th>652</th>\n",
              "      <td>H</td>\n",
              "      <td>E</td>\n",
              "      <td>F</td>\n",
              "      <td>B</td>\n",
              "      <td>4</td>\n",
              "      <td>C</td>\n",
              "      <td>B</td>\n",
              "      <td>B</td>\n",
              "      <td>A</td>\n",
              "      <td>A</td>\n",
              "      <td>...</td>\n",
              "      <td>A</td>\n",
              "      <td>A</td>\n",
              "      <td>A</td>\n",
              "      <td>B</td>\n",
              "      <td>A</td>\n",
              "      <td>A</td>\n",
              "      <td>C</td>\n",
              "      <td>A</td>\n",
              "      <td>B</td>\n",
              "      <td>B</td>\n",
              "    </tr>\n",
              "    <tr>\n",
              "      <th>358</th>\n",
              "      <td>H</td>\n",
              "      <td>E</td>\n",
              "      <td>B</td>\n",
              "      <td>B</td>\n",
              "      <td>4</td>\n",
              "      <td>A</td>\n",
              "      <td>C</td>\n",
              "      <td>C</td>\n",
              "      <td>B</td>\n",
              "      <td>A</td>\n",
              "      <td>...</td>\n",
              "      <td>B</td>\n",
              "      <td>A</td>\n",
              "      <td>B</td>\n",
              "      <td>B</td>\n",
              "      <td>A</td>\n",
              "      <td>A</td>\n",
              "      <td>D</td>\n",
              "      <td>A</td>\n",
              "      <td>A</td>\n",
              "      <td>B</td>\n",
              "    </tr>\n",
              "    <tr>\n",
              "      <th>740</th>\n",
              "      <td>C</td>\n",
              "      <td>F</td>\n",
              "      <td>B</td>\n",
              "      <td>B</td>\n",
              "      <td>5</td>\n",
              "      <td>A</td>\n",
              "      <td>C</td>\n",
              "      <td>D</td>\n",
              "      <td>B</td>\n",
              "      <td>C</td>\n",
              "      <td>...</td>\n",
              "      <td>B</td>\n",
              "      <td>A</td>\n",
              "      <td>B</td>\n",
              "      <td>C</td>\n",
              "      <td>B</td>\n",
              "      <td>B</td>\n",
              "      <td>E</td>\n",
              "      <td>A</td>\n",
              "      <td>B</td>\n",
              "      <td>B</td>\n",
              "    </tr>\n",
              "    <tr>\n",
              "      <th>73</th>\n",
              "      <td>E</td>\n",
              "      <td>F</td>\n",
              "      <td>B</td>\n",
              "      <td>B</td>\n",
              "      <td>3</td>\n",
              "      <td>A</td>\n",
              "      <td>B</td>\n",
              "      <td>D</td>\n",
              "      <td>B</td>\n",
              "      <td>A</td>\n",
              "      <td>...</td>\n",
              "      <td>B</td>\n",
              "      <td>A</td>\n",
              "      <td>A</td>\n",
              "      <td>C</td>\n",
              "      <td>A</td>\n",
              "      <td>B</td>\n",
              "      <td>D</td>\n",
              "      <td>B</td>\n",
              "      <td>B</td>\n",
              "      <td>B</td>\n",
              "    </tr>\n",
              "  </tbody>\n",
              "</table>\n",
              "<p>10 rows × 24 columns</p>\n",
              "</div>"
            ],
            "text/plain": [
              "    Q001 Q002 Q003 Q004  Q005 Q007 Q008 Q009 Q010 Q011  ... Q016 Q017 Q018  \\\n",
              "218    D    F    C    C     4    A    C    C    B    A  ...    B    A    A   \n",
              "889    E    G    D    D     3    A    C    C    B    A  ...    B    A    B   \n",
              "45     B    B    C    B     3    A    C    C    A    A  ...    B    A    A   \n",
              "46     C    E    F    B     5    A    C    D    B    A  ...    B    A    A   \n",
              "725    E    G    D    D     4    A    D    D    C    A  ...    B    A    B   \n",
              "857    C    E    F    F     5    A    B    C    A    A  ...    B    A    A   \n",
              "652    H    E    F    B     4    C    B    B    A    A  ...    A    A    A   \n",
              "358    H    E    B    B     4    A    C    C    B    A  ...    B    A    B   \n",
              "740    C    F    B    B     5    A    C    D    B    C  ...    B    A    B   \n",
              "73     E    F    B    B     3    A    B    D    B    A  ...    B    A    A   \n",
              "\n",
              "    Q019 Q020 Q021 Q022 Q023 Q024 Q025  \n",
              "218    B    A    A    D    A    B    B  \n",
              "889    C    A    B    D    B    E    B  \n",
              "45     B    A    A    C    B    B    B  \n",
              "46     C    A    A    E    B    A    B  \n",
              "725    D    A    A    E    A    B    B  \n",
              "857    B    B    A    B    A    A    B  \n",
              "652    B    A    A    C    A    B    B  \n",
              "358    B    A    A    D    A    A    B  \n",
              "740    C    B    B    E    A    B    B  \n",
              "73     C    A    B    D    B    B    B  \n",
              "\n",
              "[10 rows x 24 columns]"
            ]
          },
          "metadata": {
            "tags": []
          },
          "execution_count": 42
        }
      ]
    },
    {
      "cell_type": "code",
      "metadata": {
        "id": "M1nJmDuqty5X",
        "outputId": "c473ad80-72f3-443d-82e7-1061a6a66f51"
      },
      "source": [
        "y.sample(10)"
      ],
      "execution_count": null,
      "outputs": [
        {
          "output_type": "execute_result",
          "data": {
            "text/plain": [
              "413    D\n",
              "14     B\n",
              "727    C\n",
              "253    I\n",
              "882    E\n",
              "488    J\n",
              "414    E\n",
              "400    C\n",
              "839    N\n",
              "126    B\n",
              "Name: Q006, dtype: object"
            ]
          },
          "metadata": {
            "tags": []
          },
          "execution_count": 43
        }
      ]
    },
    {
      "cell_type": "markdown",
      "metadata": {
        "id": "sCg8QCOsty5X"
      },
      "source": [
        "Para facilitar o acesso ao dicionário de dados, fiz um upload separado nos arquivos da turma: https://drive.google.com/file/d/1hUB_2ySBsOfvIQxHxL4cyE7WY_739BhB/view?usp=sharing"
      ]
    },
    {
      "cell_type": "code",
      "metadata": {
        "id": "1xEFHhHDty5X"
      },
      "source": [
        "# Olhem o dicionário de dados acima, para associado ao dataset em: \n",
        "# Considerando que os patamares de intensidade das variáveis independentes estão estão\n",
        "# associados a letras em ordem alfabética crescente, podemos utilizar um encoder ordinal!\n",
        "# Mas, lembre-se de também testar um OneHotEncoder para garantir."
      ],
      "execution_count": null,
      "outputs": []
    },
    {
      "cell_type": "code",
      "metadata": {
        "id": "rVPwUrQsty5Y"
      },
      "source": [
        "from sklearn.preprocessing import OrdinalEncoder"
      ],
      "execution_count": null,
      "outputs": []
    },
    {
      "cell_type": "code",
      "metadata": {
        "id": "fOjpfc0Wty5Y"
      },
      "source": [
        "enc = OrdinalEncoder().fit(X)"
      ],
      "execution_count": null,
      "outputs": []
    },
    {
      "cell_type": "code",
      "metadata": {
        "collapsed": true,
        "id": "QI7GkUXoty5Y",
        "outputId": "727bbebc-1d63-44e3-e9cf-278c6923861c"
      },
      "source": [
        "enc.categories_"
      ],
      "execution_count": null,
      "outputs": [
        {
          "output_type": "execute_result",
          "data": {
            "text/plain": [
              "[array(['A', 'B', 'C', 'D', 'E', 'F', 'G', 'H'], dtype=object),\n",
              " array(['A', 'B', 'C', 'D', 'E', 'F', 'G', 'H'], dtype=object),\n",
              " array(['A', 'B', 'C', 'D', 'E', 'F'], dtype=object),\n",
              " array(['A', 'B', 'C', 'D', 'E', 'F'], dtype=object),\n",
              " array([ 1,  2,  3,  4,  5,  6,  7,  8,  9, 10], dtype=int64),\n",
              " array(['A', 'B', 'C', 'D'], dtype=object),\n",
              " array(['A', 'B', 'C', 'D', 'E'], dtype=object),\n",
              " array(['A', 'B', 'C', 'D', 'E'], dtype=object),\n",
              " array(['A', 'B', 'C', 'D', 'E'], dtype=object),\n",
              " array(['A', 'B', 'C', 'D', 'E'], dtype=object),\n",
              " array(['A', 'B', 'C', 'D', 'E'], dtype=object),\n",
              " array(['A', 'B', 'C', 'D'], dtype=object),\n",
              " array(['A', 'B', 'C', 'D'], dtype=object),\n",
              " array(['A', 'B', 'E'], dtype=object),\n",
              " array(['A', 'B', 'C', 'D'], dtype=object),\n",
              " array(['A', 'B', 'E'], dtype=object),\n",
              " array(['A', 'B'], dtype=object),\n",
              " array(['A', 'B', 'C', 'D', 'E'], dtype=object),\n",
              " array(['A', 'B'], dtype=object),\n",
              " array(['A', 'B'], dtype=object),\n",
              " array(['A', 'B', 'C', 'D', 'E'], dtype=object),\n",
              " array(['A', 'B'], dtype=object),\n",
              " array(['A', 'B', 'C', 'D', 'E'], dtype=object),\n",
              " array(['A', 'B'], dtype=object)]"
            ]
          },
          "metadata": {
            "tags": []
          },
          "execution_count": 47
        }
      ]
    },
    {
      "cell_type": "code",
      "metadata": {
        "id": "7ZEgqChpty5Z",
        "outputId": "090e1a72-e339-49d0-e6a2-b7199ef0a2a5"
      },
      "source": [
        "enc.transform(X)"
      ],
      "execution_count": null,
      "outputs": [
        {
          "output_type": "execute_result",
          "data": {
            "text/plain": [
              "array([[3., 4., 2., ..., 0., 1., 1.],\n",
              "       [6., 6., 3., ..., 1., 0., 1.],\n",
              "       [5., 4., 3., ..., 1., 0., 1.],\n",
              "       ...,\n",
              "       [3., 4., 1., ..., 1., 1., 1.],\n",
              "       [1., 1., 1., ..., 1., 2., 1.],\n",
              "       [3., 6., 2., ..., 0., 1., 1.]])"
            ]
          },
          "metadata": {
            "tags": []
          },
          "execution_count": 48
        }
      ]
    },
    {
      "cell_type": "code",
      "metadata": {
        "id": "JZJZ4V2nty5a"
      },
      "source": [
        "# Agora vamos treinar nosso classificador básico (logistic regression) para uma primeira tentativa\n",
        "from sklearn.linear_model import LogisticRegression\n",
        "from sklearn.model_selection import train_test_split\n",
        "from sklearn import metrics\n",
        "from sklearn.model_selection import cross_val_score"
      ],
      "execution_count": null,
      "outputs": []
    },
    {
      "cell_type": "code",
      "metadata": {
        "id": "H-Cc15x9ty5a"
      },
      "source": [
        "# Partição treino/teste (20%)\n",
        "X_train, X_test, y_train, y_test = train_test_split(X, y, test_size=0.2, random_state=42)"
      ],
      "execution_count": null,
      "outputs": []
    },
    {
      "cell_type": "code",
      "metadata": {
        "id": "gXNSI80Xty5b",
        "outputId": "ec0a1a86-5390-4534-ee15-1f64631b31b4"
      },
      "source": [
        "X_train.shape, y_train.shape"
      ],
      "execution_count": null,
      "outputs": [
        {
          "output_type": "execute_result",
          "data": {
            "text/plain": [
              "((800, 24), (800,))"
            ]
          },
          "metadata": {
            "tags": []
          },
          "execution_count": 53
        }
      ]
    },
    {
      "cell_type": "code",
      "metadata": {
        "id": "i7xd4mndty5b",
        "outputId": "76f94af9-819a-4ae9-88aa-3b4416148964"
      },
      "source": [
        "X_test.shape, y_test.shape"
      ],
      "execution_count": null,
      "outputs": [
        {
          "output_type": "execute_result",
          "data": {
            "text/plain": [
              "((200, 24), (200,))"
            ]
          },
          "metadata": {
            "tags": []
          },
          "execution_count": 54
        }
      ]
    },
    {
      "cell_type": "code",
      "metadata": {
        "id": "iThnt7uQty5c",
        "outputId": "fc241a95-f157-4c49-dbe6-f72864517d66"
      },
      "source": [
        "# Observem que houve um shuffle na ordem das linhas\n",
        "X_train"
      ],
      "execution_count": null,
      "outputs": [
        {
          "output_type": "execute_result",
          "data": {
            "text/html": [
              "<div>\n",
              "<style scoped>\n",
              "    .dataframe tbody tr th:only-of-type {\n",
              "        vertical-align: middle;\n",
              "    }\n",
              "\n",
              "    .dataframe tbody tr th {\n",
              "        vertical-align: top;\n",
              "    }\n",
              "\n",
              "    .dataframe thead th {\n",
              "        text-align: right;\n",
              "    }\n",
              "</style>\n",
              "<table border=\"1\" class=\"dataframe\">\n",
              "  <thead>\n",
              "    <tr style=\"text-align: right;\">\n",
              "      <th></th>\n",
              "      <th>Q001</th>\n",
              "      <th>Q002</th>\n",
              "      <th>Q003</th>\n",
              "      <th>Q004</th>\n",
              "      <th>Q005</th>\n",
              "      <th>Q007</th>\n",
              "      <th>Q008</th>\n",
              "      <th>Q009</th>\n",
              "      <th>Q010</th>\n",
              "      <th>Q011</th>\n",
              "      <th>...</th>\n",
              "      <th>Q016</th>\n",
              "      <th>Q017</th>\n",
              "      <th>Q018</th>\n",
              "      <th>Q019</th>\n",
              "      <th>Q020</th>\n",
              "      <th>Q021</th>\n",
              "      <th>Q022</th>\n",
              "      <th>Q023</th>\n",
              "      <th>Q024</th>\n",
              "      <th>Q025</th>\n",
              "    </tr>\n",
              "  </thead>\n",
              "  <tbody>\n",
              "    <tr>\n",
              "      <th>29</th>\n",
              "      <td>A</td>\n",
              "      <td>A</td>\n",
              "      <td>A</td>\n",
              "      <td>A</td>\n",
              "      <td>4</td>\n",
              "      <td>A</td>\n",
              "      <td>B</td>\n",
              "      <td>A</td>\n",
              "      <td>A</td>\n",
              "      <td>A</td>\n",
              "      <td>...</td>\n",
              "      <td>A</td>\n",
              "      <td>A</td>\n",
              "      <td>A</td>\n",
              "      <td>B</td>\n",
              "      <td>A</td>\n",
              "      <td>A</td>\n",
              "      <td>B</td>\n",
              "      <td>A</td>\n",
              "      <td>A</td>\n",
              "      <td>B</td>\n",
              "    </tr>\n",
              "    <tr>\n",
              "      <th>535</th>\n",
              "      <td>E</td>\n",
              "      <td>E</td>\n",
              "      <td>B</td>\n",
              "      <td>B</td>\n",
              "      <td>1</td>\n",
              "      <td>A</td>\n",
              "      <td>B</td>\n",
              "      <td>B</td>\n",
              "      <td>A</td>\n",
              "      <td>A</td>\n",
              "      <td>...</td>\n",
              "      <td>A</td>\n",
              "      <td>A</td>\n",
              "      <td>A</td>\n",
              "      <td>B</td>\n",
              "      <td>A</td>\n",
              "      <td>A</td>\n",
              "      <td>B</td>\n",
              "      <td>A</td>\n",
              "      <td>B</td>\n",
              "      <td>B</td>\n",
              "    </tr>\n",
              "    <tr>\n",
              "      <th>695</th>\n",
              "      <td>E</td>\n",
              "      <td>E</td>\n",
              "      <td>D</td>\n",
              "      <td>D</td>\n",
              "      <td>3</td>\n",
              "      <td>A</td>\n",
              "      <td>B</td>\n",
              "      <td>D</td>\n",
              "      <td>B</td>\n",
              "      <td>A</td>\n",
              "      <td>...</td>\n",
              "      <td>B</td>\n",
              "      <td>A</td>\n",
              "      <td>A</td>\n",
              "      <td>B</td>\n",
              "      <td>A</td>\n",
              "      <td>B</td>\n",
              "      <td>D</td>\n",
              "      <td>B</td>\n",
              "      <td>B</td>\n",
              "      <td>B</td>\n",
              "    </tr>\n",
              "    <tr>\n",
              "      <th>557</th>\n",
              "      <td>B</td>\n",
              "      <td>C</td>\n",
              "      <td>D</td>\n",
              "      <td>C</td>\n",
              "      <td>3</td>\n",
              "      <td>B</td>\n",
              "      <td>C</td>\n",
              "      <td>D</td>\n",
              "      <td>C</td>\n",
              "      <td>A</td>\n",
              "      <td>...</td>\n",
              "      <td>B</td>\n",
              "      <td>A</td>\n",
              "      <td>A</td>\n",
              "      <td>B</td>\n",
              "      <td>A</td>\n",
              "      <td>B</td>\n",
              "      <td>D</td>\n",
              "      <td>B</td>\n",
              "      <td>D</td>\n",
              "      <td>B</td>\n",
              "    </tr>\n",
              "    <tr>\n",
              "      <th>836</th>\n",
              "      <td>B</td>\n",
              "      <td>D</td>\n",
              "      <td>B</td>\n",
              "      <td>B</td>\n",
              "      <td>6</td>\n",
              "      <td>A</td>\n",
              "      <td>B</td>\n",
              "      <td>D</td>\n",
              "      <td>A</td>\n",
              "      <td>B</td>\n",
              "      <td>...</td>\n",
              "      <td>A</td>\n",
              "      <td>A</td>\n",
              "      <td>A</td>\n",
              "      <td>B</td>\n",
              "      <td>B</td>\n",
              "      <td>A</td>\n",
              "      <td>E</td>\n",
              "      <td>A</td>\n",
              "      <td>B</td>\n",
              "      <td>B</td>\n",
              "    </tr>\n",
              "    <tr>\n",
              "      <th>...</th>\n",
              "      <td>...</td>\n",
              "      <td>...</td>\n",
              "      <td>...</td>\n",
              "      <td>...</td>\n",
              "      <td>...</td>\n",
              "      <td>...</td>\n",
              "      <td>...</td>\n",
              "      <td>...</td>\n",
              "      <td>...</td>\n",
              "      <td>...</td>\n",
              "      <td>...</td>\n",
              "      <td>...</td>\n",
              "      <td>...</td>\n",
              "      <td>...</td>\n",
              "      <td>...</td>\n",
              "      <td>...</td>\n",
              "      <td>...</td>\n",
              "      <td>...</td>\n",
              "      <td>...</td>\n",
              "      <td>...</td>\n",
              "      <td>...</td>\n",
              "    </tr>\n",
              "    <tr>\n",
              "      <th>106</th>\n",
              "      <td>E</td>\n",
              "      <td>B</td>\n",
              "      <td>F</td>\n",
              "      <td>B</td>\n",
              "      <td>3</td>\n",
              "      <td>A</td>\n",
              "      <td>B</td>\n",
              "      <td>B</td>\n",
              "      <td>A</td>\n",
              "      <td>B</td>\n",
              "      <td>...</td>\n",
              "      <td>B</td>\n",
              "      <td>A</td>\n",
              "      <td>A</td>\n",
              "      <td>B</td>\n",
              "      <td>B</td>\n",
              "      <td>A</td>\n",
              "      <td>C</td>\n",
              "      <td>A</td>\n",
              "      <td>A</td>\n",
              "      <td>A</td>\n",
              "    </tr>\n",
              "    <tr>\n",
              "      <th>270</th>\n",
              "      <td>B</td>\n",
              "      <td>C</td>\n",
              "      <td>A</td>\n",
              "      <td>A</td>\n",
              "      <td>4</td>\n",
              "      <td>A</td>\n",
              "      <td>B</td>\n",
              "      <td>B</td>\n",
              "      <td>A</td>\n",
              "      <td>A</td>\n",
              "      <td>...</td>\n",
              "      <td>A</td>\n",
              "      <td>A</td>\n",
              "      <td>A</td>\n",
              "      <td>B</td>\n",
              "      <td>A</td>\n",
              "      <td>A</td>\n",
              "      <td>B</td>\n",
              "      <td>A</td>\n",
              "      <td>A</td>\n",
              "      <td>B</td>\n",
              "    </tr>\n",
              "    <tr>\n",
              "      <th>860</th>\n",
              "      <td>E</td>\n",
              "      <td>E</td>\n",
              "      <td>F</td>\n",
              "      <td>D</td>\n",
              "      <td>2</td>\n",
              "      <td>A</td>\n",
              "      <td>B</td>\n",
              "      <td>C</td>\n",
              "      <td>A</td>\n",
              "      <td>A</td>\n",
              "      <td>...</td>\n",
              "      <td>B</td>\n",
              "      <td>A</td>\n",
              "      <td>A</td>\n",
              "      <td>B</td>\n",
              "      <td>A</td>\n",
              "      <td>A</td>\n",
              "      <td>C</td>\n",
              "      <td>A</td>\n",
              "      <td>A</td>\n",
              "      <td>B</td>\n",
              "    </tr>\n",
              "    <tr>\n",
              "      <th>435</th>\n",
              "      <td>E</td>\n",
              "      <td>E</td>\n",
              "      <td>C</td>\n",
              "      <td>B</td>\n",
              "      <td>5</td>\n",
              "      <td>A</td>\n",
              "      <td>B</td>\n",
              "      <td>C</td>\n",
              "      <td>B</td>\n",
              "      <td>A</td>\n",
              "      <td>...</td>\n",
              "      <td>B</td>\n",
              "      <td>A</td>\n",
              "      <td>B</td>\n",
              "      <td>C</td>\n",
              "      <td>A</td>\n",
              "      <td>A</td>\n",
              "      <td>D</td>\n",
              "      <td>A</td>\n",
              "      <td>B</td>\n",
              "      <td>B</td>\n",
              "    </tr>\n",
              "    <tr>\n",
              "      <th>102</th>\n",
              "      <td>D</td>\n",
              "      <td>D</td>\n",
              "      <td>C</td>\n",
              "      <td>B</td>\n",
              "      <td>3</td>\n",
              "      <td>A</td>\n",
              "      <td>B</td>\n",
              "      <td>B</td>\n",
              "      <td>A</td>\n",
              "      <td>A</td>\n",
              "      <td>...</td>\n",
              "      <td>B</td>\n",
              "      <td>A</td>\n",
              "      <td>A</td>\n",
              "      <td>B</td>\n",
              "      <td>A</td>\n",
              "      <td>A</td>\n",
              "      <td>D</td>\n",
              "      <td>A</td>\n",
              "      <td>B</td>\n",
              "      <td>B</td>\n",
              "    </tr>\n",
              "  </tbody>\n",
              "</table>\n",
              "<p>800 rows × 24 columns</p>\n",
              "</div>"
            ],
            "text/plain": [
              "    Q001 Q002 Q003 Q004  Q005 Q007 Q008 Q009 Q010 Q011  ... Q016 Q017 Q018  \\\n",
              "29     A    A    A    A     4    A    B    A    A    A  ...    A    A    A   \n",
              "535    E    E    B    B     1    A    B    B    A    A  ...    A    A    A   \n",
              "695    E    E    D    D     3    A    B    D    B    A  ...    B    A    A   \n",
              "557    B    C    D    C     3    B    C    D    C    A  ...    B    A    A   \n",
              "836    B    D    B    B     6    A    B    D    A    B  ...    A    A    A   \n",
              "..   ...  ...  ...  ...   ...  ...  ...  ...  ...  ...  ...  ...  ...  ...   \n",
              "106    E    B    F    B     3    A    B    B    A    B  ...    B    A    A   \n",
              "270    B    C    A    A     4    A    B    B    A    A  ...    A    A    A   \n",
              "860    E    E    F    D     2    A    B    C    A    A  ...    B    A    A   \n",
              "435    E    E    C    B     5    A    B    C    B    A  ...    B    A    B   \n",
              "102    D    D    C    B     3    A    B    B    A    A  ...    B    A    A   \n",
              "\n",
              "    Q019 Q020 Q021 Q022 Q023 Q024 Q025  \n",
              "29     B    A    A    B    A    A    B  \n",
              "535    B    A    A    B    A    B    B  \n",
              "695    B    A    B    D    B    B    B  \n",
              "557    B    A    B    D    B    D    B  \n",
              "836    B    B    A    E    A    B    B  \n",
              "..   ...  ...  ...  ...  ...  ...  ...  \n",
              "106    B    B    A    C    A    A    A  \n",
              "270    B    A    A    B    A    A    B  \n",
              "860    B    A    A    C    A    A    B  \n",
              "435    C    A    A    D    A    B    B  \n",
              "102    B    A    A    D    A    B    B  \n",
              "\n",
              "[800 rows x 24 columns]"
            ]
          },
          "metadata": {
            "tags": []
          },
          "execution_count": 55
        }
      ]
    },
    {
      "cell_type": "code",
      "metadata": {
        "id": "CxNR8sUity5f",
        "outputId": "a7a0543d-9554-411d-8a39-b5b398f9a921"
      },
      "source": [
        "y.value_counts()"
      ],
      "execution_count": null,
      "outputs": [
        {
          "output_type": "execute_result",
          "data": {
            "text/plain": [
              "C    301\n",
              "B    212\n",
              "E     96\n",
              "D     85\n",
              "G     58\n",
              "A     36\n",
              "H     34\n",
              "I     33\n",
              "F     29\n",
              "N     20\n",
              "Q     20\n",
              "P     17\n",
              "K     17\n",
              "L     13\n",
              "O     12\n",
              "J     12\n",
              "M      5\n",
              "Name: Q006, dtype: int64"
            ]
          },
          "metadata": {
            "tags": []
          },
          "execution_count": 56
        }
      ]
    },
    {
      "cell_type": "code",
      "metadata": {
        "id": "3j1hEQ8jty5g",
        "outputId": "fb902be6-2b57-473f-9338-6197225d2bfd"
      },
      "source": [
        "clf = LogisticRegression().fit(X_train, y_train)\n",
        "clf.score(X_test, y_test)"
      ],
      "execution_count": null,
      "outputs": [
        {
          "output_type": "error",
          "ename": "ValueError",
          "evalue": "could not convert string to float: 'B'",
          "traceback": [
            "\u001b[1;31m---------------------------------------------------------------------------\u001b[0m",
            "\u001b[1;31mValueError\u001b[0m                                Traceback (most recent call last)",
            "\u001b[1;32m<ipython-input-57-da42dd8eb1a6>\u001b[0m in \u001b[0;36m<module>\u001b[1;34m\u001b[0m\n\u001b[1;32m----> 1\u001b[1;33m \u001b[0mclf\u001b[0m \u001b[1;33m=\u001b[0m \u001b[0mLogisticRegression\u001b[0m\u001b[1;33m(\u001b[0m\u001b[1;33m)\u001b[0m\u001b[1;33m.\u001b[0m\u001b[0mfit\u001b[0m\u001b[1;33m(\u001b[0m\u001b[0mX_train\u001b[0m\u001b[1;33m,\u001b[0m \u001b[0my_train\u001b[0m\u001b[1;33m)\u001b[0m\u001b[1;33m\u001b[0m\u001b[1;33m\u001b[0m\u001b[0m\n\u001b[0m\u001b[0;32m      2\u001b[0m \u001b[0mclf\u001b[0m\u001b[1;33m.\u001b[0m\u001b[0mscore\u001b[0m\u001b[1;33m(\u001b[0m\u001b[0mX_test\u001b[0m\u001b[1;33m,\u001b[0m \u001b[0my_test\u001b[0m\u001b[1;33m)\u001b[0m\u001b[1;33m\u001b[0m\u001b[1;33m\u001b[0m\u001b[0m\n",
            "\u001b[1;32mF:\\progs\\anaconda\\lib\\site-packages\\sklearn\\linear_model\\_logistic.py\u001b[0m in \u001b[0;36mfit\u001b[1;34m(self, X, y, sample_weight)\u001b[0m\n\u001b[0;32m   1342\u001b[0m         X, y = self._validate_data(X, y, accept_sparse='csr', dtype=_dtype,\n\u001b[0;32m   1343\u001b[0m                                    \u001b[0morder\u001b[0m\u001b[1;33m=\u001b[0m\u001b[1;34m\"C\"\u001b[0m\u001b[1;33m,\u001b[0m\u001b[1;33m\u001b[0m\u001b[1;33m\u001b[0m\u001b[0m\n\u001b[1;32m-> 1344\u001b[1;33m                                    accept_large_sparse=solver != 'liblinear')\n\u001b[0m\u001b[0;32m   1345\u001b[0m         \u001b[0mcheck_classification_targets\u001b[0m\u001b[1;33m(\u001b[0m\u001b[0my\u001b[0m\u001b[1;33m)\u001b[0m\u001b[1;33m\u001b[0m\u001b[1;33m\u001b[0m\u001b[0m\n\u001b[0;32m   1346\u001b[0m         \u001b[0mself\u001b[0m\u001b[1;33m.\u001b[0m\u001b[0mclasses_\u001b[0m \u001b[1;33m=\u001b[0m \u001b[0mnp\u001b[0m\u001b[1;33m.\u001b[0m\u001b[0munique\u001b[0m\u001b[1;33m(\u001b[0m\u001b[0my\u001b[0m\u001b[1;33m)\u001b[0m\u001b[1;33m\u001b[0m\u001b[1;33m\u001b[0m\u001b[0m\n",
            "\u001b[1;32mF:\\progs\\anaconda\\lib\\site-packages\\sklearn\\base.py\u001b[0m in \u001b[0;36m_validate_data\u001b[1;34m(self, X, y, reset, validate_separately, **check_params)\u001b[0m\n\u001b[0;32m    430\u001b[0m                 \u001b[0my\u001b[0m \u001b[1;33m=\u001b[0m \u001b[0mcheck_array\u001b[0m\u001b[1;33m(\u001b[0m\u001b[0my\u001b[0m\u001b[1;33m,\u001b[0m \u001b[1;33m**\u001b[0m\u001b[0mcheck_y_params\u001b[0m\u001b[1;33m)\u001b[0m\u001b[1;33m\u001b[0m\u001b[1;33m\u001b[0m\u001b[0m\n\u001b[0;32m    431\u001b[0m             \u001b[1;32melse\u001b[0m\u001b[1;33m:\u001b[0m\u001b[1;33m\u001b[0m\u001b[1;33m\u001b[0m\u001b[0m\n\u001b[1;32m--> 432\u001b[1;33m                 \u001b[0mX\u001b[0m\u001b[1;33m,\u001b[0m \u001b[0my\u001b[0m \u001b[1;33m=\u001b[0m \u001b[0mcheck_X_y\u001b[0m\u001b[1;33m(\u001b[0m\u001b[0mX\u001b[0m\u001b[1;33m,\u001b[0m \u001b[0my\u001b[0m\u001b[1;33m,\u001b[0m \u001b[1;33m**\u001b[0m\u001b[0mcheck_params\u001b[0m\u001b[1;33m)\u001b[0m\u001b[1;33m\u001b[0m\u001b[1;33m\u001b[0m\u001b[0m\n\u001b[0m\u001b[0;32m    433\u001b[0m             \u001b[0mout\u001b[0m \u001b[1;33m=\u001b[0m \u001b[0mX\u001b[0m\u001b[1;33m,\u001b[0m \u001b[0my\u001b[0m\u001b[1;33m\u001b[0m\u001b[1;33m\u001b[0m\u001b[0m\n\u001b[0;32m    434\u001b[0m \u001b[1;33m\u001b[0m\u001b[0m\n",
            "\u001b[1;32mF:\\progs\\anaconda\\lib\\site-packages\\sklearn\\utils\\validation.py\u001b[0m in \u001b[0;36minner_f\u001b[1;34m(*args, **kwargs)\u001b[0m\n\u001b[0;32m     71\u001b[0m                           FutureWarning)\n\u001b[0;32m     72\u001b[0m         \u001b[0mkwargs\u001b[0m\u001b[1;33m.\u001b[0m\u001b[0mupdate\u001b[0m\u001b[1;33m(\u001b[0m\u001b[1;33m{\u001b[0m\u001b[0mk\u001b[0m\u001b[1;33m:\u001b[0m \u001b[0marg\u001b[0m \u001b[1;32mfor\u001b[0m \u001b[0mk\u001b[0m\u001b[1;33m,\u001b[0m \u001b[0marg\u001b[0m \u001b[1;32min\u001b[0m \u001b[0mzip\u001b[0m\u001b[1;33m(\u001b[0m\u001b[0msig\u001b[0m\u001b[1;33m.\u001b[0m\u001b[0mparameters\u001b[0m\u001b[1;33m,\u001b[0m \u001b[0margs\u001b[0m\u001b[1;33m)\u001b[0m\u001b[1;33m}\u001b[0m\u001b[1;33m)\u001b[0m\u001b[1;33m\u001b[0m\u001b[1;33m\u001b[0m\u001b[0m\n\u001b[1;32m---> 73\u001b[1;33m         \u001b[1;32mreturn\u001b[0m \u001b[0mf\u001b[0m\u001b[1;33m(\u001b[0m\u001b[1;33m**\u001b[0m\u001b[0mkwargs\u001b[0m\u001b[1;33m)\u001b[0m\u001b[1;33m\u001b[0m\u001b[1;33m\u001b[0m\u001b[0m\n\u001b[0m\u001b[0;32m     74\u001b[0m     \u001b[1;32mreturn\u001b[0m \u001b[0minner_f\u001b[0m\u001b[1;33m\u001b[0m\u001b[1;33m\u001b[0m\u001b[0m\n\u001b[0;32m     75\u001b[0m \u001b[1;33m\u001b[0m\u001b[0m\n",
            "\u001b[1;32mF:\\progs\\anaconda\\lib\\site-packages\\sklearn\\utils\\validation.py\u001b[0m in \u001b[0;36mcheck_X_y\u001b[1;34m(X, y, accept_sparse, accept_large_sparse, dtype, order, copy, force_all_finite, ensure_2d, allow_nd, multi_output, ensure_min_samples, ensure_min_features, y_numeric, estimator)\u001b[0m\n\u001b[0;32m    801\u001b[0m                     \u001b[0mensure_min_samples\u001b[0m\u001b[1;33m=\u001b[0m\u001b[0mensure_min_samples\u001b[0m\u001b[1;33m,\u001b[0m\u001b[1;33m\u001b[0m\u001b[1;33m\u001b[0m\u001b[0m\n\u001b[0;32m    802\u001b[0m                     \u001b[0mensure_min_features\u001b[0m\u001b[1;33m=\u001b[0m\u001b[0mensure_min_features\u001b[0m\u001b[1;33m,\u001b[0m\u001b[1;33m\u001b[0m\u001b[1;33m\u001b[0m\u001b[0m\n\u001b[1;32m--> 803\u001b[1;33m                     estimator=estimator)\n\u001b[0m\u001b[0;32m    804\u001b[0m     \u001b[1;32mif\u001b[0m \u001b[0mmulti_output\u001b[0m\u001b[1;33m:\u001b[0m\u001b[1;33m\u001b[0m\u001b[1;33m\u001b[0m\u001b[0m\n\u001b[0;32m    805\u001b[0m         y = check_array(y, accept_sparse='csr', force_all_finite=True,\n",
            "\u001b[1;32mF:\\progs\\anaconda\\lib\\site-packages\\sklearn\\utils\\validation.py\u001b[0m in \u001b[0;36minner_f\u001b[1;34m(*args, **kwargs)\u001b[0m\n\u001b[0;32m     71\u001b[0m                           FutureWarning)\n\u001b[0;32m     72\u001b[0m         \u001b[0mkwargs\u001b[0m\u001b[1;33m.\u001b[0m\u001b[0mupdate\u001b[0m\u001b[1;33m(\u001b[0m\u001b[1;33m{\u001b[0m\u001b[0mk\u001b[0m\u001b[1;33m:\u001b[0m \u001b[0marg\u001b[0m \u001b[1;32mfor\u001b[0m \u001b[0mk\u001b[0m\u001b[1;33m,\u001b[0m \u001b[0marg\u001b[0m \u001b[1;32min\u001b[0m \u001b[0mzip\u001b[0m\u001b[1;33m(\u001b[0m\u001b[0msig\u001b[0m\u001b[1;33m.\u001b[0m\u001b[0mparameters\u001b[0m\u001b[1;33m,\u001b[0m \u001b[0margs\u001b[0m\u001b[1;33m)\u001b[0m\u001b[1;33m}\u001b[0m\u001b[1;33m)\u001b[0m\u001b[1;33m\u001b[0m\u001b[1;33m\u001b[0m\u001b[0m\n\u001b[1;32m---> 73\u001b[1;33m         \u001b[1;32mreturn\u001b[0m \u001b[0mf\u001b[0m\u001b[1;33m(\u001b[0m\u001b[1;33m**\u001b[0m\u001b[0mkwargs\u001b[0m\u001b[1;33m)\u001b[0m\u001b[1;33m\u001b[0m\u001b[1;33m\u001b[0m\u001b[0m\n\u001b[0m\u001b[0;32m     74\u001b[0m     \u001b[1;32mreturn\u001b[0m \u001b[0minner_f\u001b[0m\u001b[1;33m\u001b[0m\u001b[1;33m\u001b[0m\u001b[0m\n\u001b[0;32m     75\u001b[0m \u001b[1;33m\u001b[0m\u001b[0m\n",
            "\u001b[1;32mF:\\progs\\anaconda\\lib\\site-packages\\sklearn\\utils\\validation.py\u001b[0m in \u001b[0;36mcheck_array\u001b[1;34m(array, accept_sparse, accept_large_sparse, dtype, order, copy, force_all_finite, ensure_2d, allow_nd, ensure_min_samples, ensure_min_features, estimator)\u001b[0m\n\u001b[0;32m    597\u001b[0m                     \u001b[0marray\u001b[0m \u001b[1;33m=\u001b[0m \u001b[0marray\u001b[0m\u001b[1;33m.\u001b[0m\u001b[0mastype\u001b[0m\u001b[1;33m(\u001b[0m\u001b[0mdtype\u001b[0m\u001b[1;33m,\u001b[0m \u001b[0mcasting\u001b[0m\u001b[1;33m=\u001b[0m\u001b[1;34m\"unsafe\"\u001b[0m\u001b[1;33m,\u001b[0m \u001b[0mcopy\u001b[0m\u001b[1;33m=\u001b[0m\u001b[1;32mFalse\u001b[0m\u001b[1;33m)\u001b[0m\u001b[1;33m\u001b[0m\u001b[1;33m\u001b[0m\u001b[0m\n\u001b[0;32m    598\u001b[0m                 \u001b[1;32melse\u001b[0m\u001b[1;33m:\u001b[0m\u001b[1;33m\u001b[0m\u001b[1;33m\u001b[0m\u001b[0m\n\u001b[1;32m--> 599\u001b[1;33m                     \u001b[0marray\u001b[0m \u001b[1;33m=\u001b[0m \u001b[0mnp\u001b[0m\u001b[1;33m.\u001b[0m\u001b[0masarray\u001b[0m\u001b[1;33m(\u001b[0m\u001b[0marray\u001b[0m\u001b[1;33m,\u001b[0m \u001b[0morder\u001b[0m\u001b[1;33m=\u001b[0m\u001b[0morder\u001b[0m\u001b[1;33m,\u001b[0m \u001b[0mdtype\u001b[0m\u001b[1;33m=\u001b[0m\u001b[0mdtype\u001b[0m\u001b[1;33m)\u001b[0m\u001b[1;33m\u001b[0m\u001b[1;33m\u001b[0m\u001b[0m\n\u001b[0m\u001b[0;32m    600\u001b[0m             \u001b[1;32mexcept\u001b[0m \u001b[0mComplexWarning\u001b[0m\u001b[1;33m:\u001b[0m\u001b[1;33m\u001b[0m\u001b[1;33m\u001b[0m\u001b[0m\n\u001b[0;32m    601\u001b[0m                 raise ValueError(\"Complex data not supported\\n\"\n",
            "\u001b[1;32mF:\\progs\\anaconda\\lib\\site-packages\\numpy\\core\\_asarray.py\u001b[0m in \u001b[0;36masarray\u001b[1;34m(a, dtype, order)\u001b[0m\n\u001b[0;32m     83\u001b[0m \u001b[1;33m\u001b[0m\u001b[0m\n\u001b[0;32m     84\u001b[0m     \"\"\"\n\u001b[1;32m---> 85\u001b[1;33m     \u001b[1;32mreturn\u001b[0m \u001b[0marray\u001b[0m\u001b[1;33m(\u001b[0m\u001b[0ma\u001b[0m\u001b[1;33m,\u001b[0m \u001b[0mdtype\u001b[0m\u001b[1;33m,\u001b[0m \u001b[0mcopy\u001b[0m\u001b[1;33m=\u001b[0m\u001b[1;32mFalse\u001b[0m\u001b[1;33m,\u001b[0m \u001b[0morder\u001b[0m\u001b[1;33m=\u001b[0m\u001b[0morder\u001b[0m\u001b[1;33m)\u001b[0m\u001b[1;33m\u001b[0m\u001b[1;33m\u001b[0m\u001b[0m\n\u001b[0m\u001b[0;32m     86\u001b[0m \u001b[1;33m\u001b[0m\u001b[0m\n\u001b[0;32m     87\u001b[0m \u001b[1;33m\u001b[0m\u001b[0m\n",
            "\u001b[1;31mValueError\u001b[0m: could not convert string to float: 'B'"
          ]
        }
      ]
    },
    {
      "cell_type": "code",
      "metadata": {
        "id": "IaPzxsl8ty5h"
      },
      "source": [
        "# INterpretação?"
      ],
      "execution_count": null,
      "outputs": []
    },
    {
      "cell_type": "code",
      "metadata": {
        "id": "aSaJAlvMty5i"
      },
      "source": [
        "# enc = OrdinalEncoder().fit(X_train)"
      ],
      "execution_count": null,
      "outputs": []
    },
    {
      "cell_type": "code",
      "metadata": {
        "id": "gMblhsTwty5i",
        "outputId": "031f4d2f-4727-4ecd-8ebb-5a043c1ce99f"
      },
      "source": [
        "clf = LogisticRegression(max_iter=1000).fit(enc.transform(X_train), y_train)\n",
        "clf.score(enc.transform(X_test), y_test)"
      ],
      "execution_count": null,
      "outputs": [
        {
          "output_type": "execute_result",
          "data": {
            "text/plain": [
              "0.315"
            ]
          },
          "metadata": {
            "tags": []
          },
          "execution_count": 63
        }
      ]
    },
    {
      "cell_type": "code",
      "metadata": {
        "id": "VTP7QF5zty5j",
        "outputId": "95eceddb-a41f-4ac5-fde1-1a2c4ef68d87"
      },
      "source": [
        "metrics.f1_score(y_test, clf.predict(enc.transform(X_test)), average='weighted')"
      ],
      "execution_count": null,
      "outputs": [
        {
          "output_type": "execute_result",
          "data": {
            "text/plain": [
              "0.257227253056367"
            ]
          },
          "metadata": {
            "tags": []
          },
          "execution_count": 65
        }
      ]
    },
    {
      "cell_type": "code",
      "metadata": {
        "id": "2j1XGLwity5j"
      },
      "source": [
        "# Primeiro resultado bem ruim, abaixo das expectativas de correlação entre renda e sinais de riqueza"
      ],
      "execution_count": null,
      "outputs": []
    },
    {
      "cell_type": "code",
      "metadata": {
        "id": "FB0CeaOCty5k"
      },
      "source": [
        "from sklearn.metrics import plot_confusion_matrix\n",
        "#import matplotlib.pyplot as plt"
      ],
      "execution_count": null,
      "outputs": []
    },
    {
      "cell_type": "code",
      "metadata": {
        "id": "E6IfDW6bty5k",
        "outputId": "e8c656ff-1a9e-4083-b997-ba3475a6e742"
      },
      "source": [
        "# Matriz de Confusão entre classes de patamares de renda familial\n",
        "plot_confusion_matrix(clf, enc.transform(X_test), y_test);"
      ],
      "execution_count": null,
      "outputs": [
        {
          "output_type": "display_data",
          "data": {
            "image/png": "[encoded data removed]",
            "text/plain": [
              "<Figure size 432x288 with 2 Axes>"
            ]
          },
          "metadata": {
            "tags": [],
            "needs_background": "light"
          }
        }
      ]
    },
    {
      "cell_type": "markdown",
      "metadata": {
        "id": "L1ZPFNemty5k"
      },
      "source": [
        "Não é de todo mal... 16 categorias e 31% de acurácia.\n",
        "\n",
        "Mas dá pra ver que o modelo está chutando muito na categoria dominante (C) e errando bastante, porém com erros em categorias vizinhas.\n",
        "\n",
        "O F1-score bem menor deixa esse diagnóstico mais claro, apontando para o problema de desbalanceamento de classes.\n"
      ]
    },
    {
      "cell_type": "code",
      "metadata": {
        "id": "EXM_X06Dty5l",
        "outputId": "d1b5c323-fe9c-40d3-81f2-fbf012d51654"
      },
      "source": [
        "# Usando validação cruzada 10-fold\n",
        "scores = cross_val_score(clf, enc.transform(X), y, cv=10, scoring='f1_weighted')\n",
        "scores"
      ],
      "execution_count": null,
      "outputs": [
        {
          "output_type": "stream",
          "text": [
            "F:\\progs\\anaconda\\lib\\site-packages\\sklearn\\model_selection\\_split.py:672: UserWarning: The least populated class in y has only 5 members, which is less than n_splits=10.\n",
            "  % (min_groups, self.n_splits)), UserWarning)\n"
          ],
          "name": "stderr"
        },
        {
          "output_type": "execute_result",
          "data": {
            "text/plain": [
              "array([0.24629371, 0.25879167, 0.27381096, 0.33626341, 0.31137037,\n",
              "       0.28999357, 0.294082  , 0.23469697, 0.24472222, 0.29474036])"
            ]
          },
          "metadata": {
            "tags": []
          },
          "execution_count": 79
        }
      ]
    },
    {
      "cell_type": "code",
      "metadata": {
        "id": "jXWfi4eOty5l",
        "outputId": "62b32c41-47aa-41a1-dc6b-9b4a28dbcbef"
      },
      "source": [
        "print(f\"F1-Score: {scores.mean():.3} (+/- {scores.std() * 2:.3})\")"
      ],
      "execution_count": null,
      "outputs": [
        {
          "output_type": "stream",
          "text": [
            "F1-Score: 0.278 (+/- 0.0618)\n"
          ],
          "name": "stdout"
        }
      ]
    },
    {
      "cell_type": "code",
      "metadata": {
        "id": "q0Fggq9lty5l",
        "outputId": "ad5fea5d-977d-48c5-bad9-d5d293778c4c"
      },
      "source": [
        "# Testando outros modelos: SVM\n",
        "from sklearn import svm\n",
        "clf = svm.SVC(C=1.0).fit(enc.transform(X_train), y_train)\n",
        "print(clf.score(enc.transform(X_test), y_test))\n",
        "metrics.f1_score(y_test, clf.predict(enc.transform(X_test)), average='weighted')"
      ],
      "execution_count": null,
      "outputs": [
        {
          "output_type": "stream",
          "text": [
            "0.28\n"
          ],
          "name": "stdout"
        },
        {
          "output_type": "execute_result",
          "data": {
            "text/plain": [
              "0.20073954512105652"
            ]
          },
          "metadata": {
            "tags": []
          },
          "execution_count": 83
        }
      ]
    },
    {
      "cell_type": "code",
      "metadata": {
        "id": "Y91CWjRHty5m",
        "outputId": "4dbe868a-eaa8-418b-d928-c4c763289627"
      },
      "source": [
        "# Testando outros modelos: Árvore de decisão Classificador\n",
        "from sklearn.tree import DecisionTreeClassifier\n",
        "\n",
        "clf = DecisionTreeClassifier().fit(enc.transform(X_train), y_train)\n",
        "print(clf.score(enc.transform(X_test), y_test))\n",
        "metrics.f1_score(y_test, clf.predict(enc.transform(X_test)), average='weighted')"
      ],
      "execution_count": null,
      "outputs": [
        {
          "output_type": "stream",
          "text": [
            "0.23\n"
          ],
          "name": "stdout"
        },
        {
          "output_type": "execute_result",
          "data": {
            "text/plain": [
              "0.2263342875376008"
            ]
          },
          "metadata": {
            "tags": []
          },
          "execution_count": 84
        }
      ]
    },
    {
      "cell_type": "code",
      "metadata": {
        "id": "gr8emoeMty5m",
        "outputId": "f266f800-e316-4421-8ae9-f3503b6e6d88"
      },
      "source": [
        "# Testando outros modelos: Floresta Aleatória\n",
        "from sklearn.ensemble import RandomForestClassifier\n",
        "\n",
        "clf = RandomForestClassifier().fit(enc.transform(X_train), y_train)\n",
        "print(clf.score(enc.transform(X_test), y_test))\n",
        "metrics.f1_score(y_test, clf.predict(enc.transform(X_test)), average='weighted')"
      ],
      "execution_count": null,
      "outputs": [
        {
          "output_type": "stream",
          "text": [
            "0.305\n"
          ],
          "name": "stdout"
        },
        {
          "output_type": "execute_result",
          "data": {
            "text/plain": [
              "0.2516893988364577"
            ]
          },
          "metadata": {
            "tags": []
          },
          "execution_count": 85
        }
      ]
    },
    {
      "cell_type": "markdown",
      "metadata": {
        "id": "JdhTaWD4ty5m"
      },
      "source": [
        "### Conclusão\n",
        "\n",
        "Como de costume o Random Forrest funcionou bem, mas o modelo de regressão logística ficou um pouco melhor, com 31% de acurácia e 25,7% de F1-score\n",
        "\n",
        "Como melhorar esse modelo?\n",
        "\n",
        "Teste de one-hot encoding para as variáveis categóricas?\n",
        "Inserção do pré-treinamento em um pipeline, avaliação com validação cruzada?\n",
        "Busca por hiper parâmetros otimizados?\n",
        "\n",
        "Outras abordagens:\n",
        "O grão de distinção das classes de renda é relativamente baixo, talvez agregando um pouco mais essas classes de renda torne o resultado melhor?\n",
        "Talvez distinguir apenas 3 níveis: baixo (-25%), médio (50%) e alto (+25%)"
      ]
    },
    {
      "cell_type": "code",
      "metadata": {
        "id": "dl65ng7dty5n"
      },
      "source": [
        ""
      ],
      "execution_count": null,
      "outputs": []
    },
    {
      "cell_type": "code",
      "metadata": {
        "id": "nmjbH9gGty5n"
      },
      "source": [
        ""
      ],
      "execution_count": null,
      "outputs": []
    },
    {
      "cell_type": "code",
      "metadata": {
        "id": "umfAbGRgty5n"
      },
      "source": [
        ""
      ],
      "execution_count": null,
      "outputs": []
    },
    {
      "cell_type": "code",
      "metadata": {
        "id": "UIlJgcMNty5n"
      },
      "source": [
        ""
      ],
      "execution_count": null,
      "outputs": []
    },
    {
      "cell_type": "code",
      "metadata": {
        "id": "1-3esIAvty5o"
      },
      "source": [
        "colunas = ['SG_UF_RESIDENCIA', 'Q006', 'NU_NOTA_CN', 'NU_NOTA_CH', 'NU_NOTA_LC', \n",
        "          'NU_NOTA_MT', 'NU_NOTA_REDACAO']\n",
        "df = pd.read_csv(path, \n",
        "                 nrows=100, # só as 100 primeiras linhas\n",
        "                 encoding='latin-1', \n",
        "                 sep=';', usecols=colunas)\n",
        "len(df)"
      ],
      "execution_count": null,
      "outputs": []
    },
    {
      "cell_type": "code",
      "metadata": {
        "id": "gNH8_KENty5o"
      },
      "source": [
        "df"
      ],
      "execution_count": null,
      "outputs": []
    },
    {
      "cell_type": "code",
      "metadata": {
        "id": "uhURDA8Kty5o"
      },
      "source": [
        "# verificação de dados faltantes\n",
        "total = df.isnull().sum().sort_values(ascending = False)\n",
        "percentual = (df.isnull().sum()/df.isnull().count()*100).sort_values(ascending = False)\n",
        "faltantes  = pd.concat([total, percentual], axis=1, keys=['Total', 'Percentual'])\n",
        "faltantes"
      ],
      "execution_count": null,
      "outputs": []
    },
    {
      "cell_type": "code",
      "metadata": {
        "id": "jZzNokkQty5p"
      },
      "source": [
        "# tipos e dados faltantes\n",
        "df.info()"
      ],
      "execution_count": null,
      "outputs": []
    },
    {
      "cell_type": "code",
      "metadata": {
        "id": "yavBTr-9ty5p"
      },
      "source": [
        "# Cria nota média\n",
        "df['NOTA_MEDIA'] = (\n",
        "    df['NU_NOTA_CN'] + df['NU_NOTA_CH'] + df['NU_NOTA_LC'] + df['NU_NOTA_MT'] + \n",
        "    df['NU_NOTA_REDACAO']) / 5.0\n",
        "\n",
        "df.head()"
      ],
      "execution_count": null,
      "outputs": []
    },
    {
      "cell_type": "code",
      "metadata": {
        "id": "VTNNUXJFty5p"
      },
      "source": [
        "# Elimina as linhas com nota média NaN, que provavelmente corresponde a alunos ausentes a alguma das provas\n",
        "df.dropna(inplace=True)\n",
        "print(len(df))\n",
        "df.head()"
      ],
      "execution_count": null,
      "outputs": []
    },
    {
      "cell_type": "code",
      "metadata": {
        "id": "71Fa-Oxgty5q"
      },
      "source": [
        "# 2.Proporcionalmente à população de alunos do estado, qual o estado com melhor despenho no ENEM?\n",
        "\n",
        "# Selecionar os top 10 porcento das médiass alunos\n",
        "nota_corte = df.NOTA_MEDIA.quantile(q=0.9)\n",
        "nota_corte"
      ],
      "execution_count": null,
      "outputs": []
    },
    {
      "cell_type": "code",
      "metadata": {
        "id": "a0iwofs_ty5q"
      },
      "source": [
        "# 10% melhores\n",
        "melhores =df.loc[df.NOTA_MEDIA >= nota_corte][['SG_UF_RESIDENCIA']].groupby('SG_UF_RESIDENCIA').size()\n",
        "melhores"
      ],
      "execution_count": null,
      "outputs": []
    },
    {
      "cell_type": "code",
      "metadata": {
        "id": "MMyPdkM8ty5q"
      },
      "source": [
        "# Toda a população de alunos que participou do ENEM\n",
        "total = df[['SG_UF_RESIDENCIA']].groupby('SG_UF_RESIDENCIA').size()"
      ],
      "execution_count": null,
      "outputs": []
    },
    {
      "cell_type": "code",
      "metadata": {
        "id": "qAzhkwXDty5r"
      },
      "source": [
        "((melhores/total)*100).sort_values(ascending=False)"
      ],
      "execution_count": null,
      "outputs": []
    },
    {
      "cell_type": "markdown",
      "metadata": {
        "id": "cwymGwEgty5r"
      },
      "source": [
        "#### Sumarização simples"
      ]
    },
    {
      "cell_type": "code",
      "metadata": {
        "id": "OJ__CVI9ty5r"
      },
      "source": [
        "# só numéricos\n",
        "df[['NU_NOTA_CN', 'NU_NOTA_CH', 'NU_NOTA_LC', 'NU_NOTA_MT', 'NU_NOTA_REDACAO', 'NOTA_MEDIA']].describe()"
      ],
      "execution_count": null,
      "outputs": []
    },
    {
      "cell_type": "code",
      "metadata": {
        "id": "qawhcdZAty5r"
      },
      "source": [
        "# Dados categóricos\n",
        "df.describe(include=\"O\")"
      ],
      "execution_count": null,
      "outputs": []
    },
    {
      "cell_type": "code",
      "metadata": {
        "id": "YDT-8UX2ty5s"
      },
      "source": [
        "# Pessoas com nota máxima em redação:\n",
        "len(df[df.NU_NOTA_REDACAO == 1000])"
      ],
      "execution_count": null,
      "outputs": []
    },
    {
      "cell_type": "code",
      "metadata": {
        "id": "dcdz9MKHty5s"
      },
      "source": [
        "# Histograma das médias\n",
        "df.NOTA_MEDIA.hist()"
      ],
      "execution_count": null,
      "outputs": []
    },
    {
      "cell_type": "code",
      "metadata": {
        "id": "9wvlGEIrty5s"
      },
      "source": [
        "# Ou mais elegante com Seaborn\n",
        "sns.distplot(df.NOTA_MEDIA)"
      ],
      "execution_count": null,
      "outputs": []
    },
    {
      "cell_type": "code",
      "metadata": {
        "id": "6Sw4T_eQty5s"
      },
      "source": [
        "# distribuição dos estudantes por estado\n",
        "df.SG_UF_RESIDENCIA.value_counts()"
      ],
      "execution_count": null,
      "outputs": []
    },
    {
      "cell_type": "code",
      "metadata": {
        "id": "CgoT7xqcty5t"
      },
      "source": [
        "# De forma gráfica:\n",
        "df.SG_UF_RESIDENCIA.value_counts().plot.bar(color='blue')"
      ],
      "execution_count": null,
      "outputs": []
    },
    {
      "cell_type": "markdown",
      "metadata": {
        "id": "qvJjY4BGty5t"
      },
      "source": [
        "#### Nota média por patamar de renda\n",
        "\n",
        "A renda familiar é codificada na Q006, por fatia de renda, de 0 a acima de R$ 17.600, nas letras A a Q"
      ]
    },
    {
      "cell_type": "code",
      "metadata": {
        "id": "fffnja-vty5t"
      },
      "source": [
        "import string\n",
        "# 17 primeiras letras maiúsculas\n",
        "ordem_renda = list(string.ascii_uppercase[:17])\n",
        "print(ordem_renda)\n",
        "#Q006_order=[\"A\", \"B\", \"C\", \"D\", \"E\", \"F\", \"G\", \"H\", \"I\", \"J\", \"K\", \"L\", \"M\", \"N\", \"O\", \"P\", \"Q\"]"
      ],
      "execution_count": null,
      "outputs": []
    },
    {
      "cell_type": "code",
      "metadata": {
        "id": "WQtSUQK9ty5u"
      },
      "source": [
        "# distribuição do número de alunos por nível de renda\n",
        "df.Q006.value_counts().plot.bar(color='blue')"
      ],
      "execution_count": null,
      "outputs": []
    },
    {
      "cell_type": "code",
      "metadata": {
        "id": "OjGeq-V4ty5v"
      },
      "source": [
        "fig, ax = plt.subplots()\n",
        "# the size of A4 paper\n",
        "fig.set_size_inches(11.7, 8.27)\n",
        "\n",
        "sns.violinplot(\n",
        "    x=\"Q006\", \n",
        "    y=\"NOTA_MEDIA\", \n",
        "    data=df, # caso queira recortar por estado: df[(df.SG_UF_RESIDENCIA == {código de estado})]\n",
        "    order=ordem_renda\n",
        "    )\n",
        "plt.title(\"Distribuição de notas por patamar de renda familiar\")\n",
        "plt.show()"
      ],
      "execution_count": null,
      "outputs": []
    },
    {
      "cell_type": "markdown",
      "metadata": {
        "id": "IctFzXLkty5v"
      },
      "source": [
        "#### Distribuição de notas por estado da federação"
      ]
    },
    {
      "cell_type": "code",
      "metadata": {
        "id": "iJ_4uVSJty5v"
      },
      "source": [
        "fig, ax = plt.subplots()\n",
        "# the size of A4 paper\n",
        "fig.set_size_inches(11.7, 8.27)\n",
        "\n",
        "sns.violinplot(\n",
        "    x=\"SG_UF_RESIDENCIA\",\n",
        "    y=\"NOTA_MEDIA\",\n",
        "    data=df, # caso queira recortar por patamar de renda: df[(df.Q006 == {nível de renda, letra de A a Q})]\n",
        "    )\n",
        "plt.title(\"Distribuição de notas por estado\")\n",
        "plt.show()"
      ],
      "execution_count": null,
      "outputs": []
    },
    {
      "cell_type": "markdown",
      "metadata": {
        "id": "vTrMHNR0ty5w"
      },
      "source": [
        "## Reproduzir análise do Estadão\n",
        "http://infograficos.estadao.com.br/educacao/enem/desigualdades-de-genero-e-raca/\n",
        "\n",
        "O Estadão realiza diversas comparações entre a população geral dos alunos do Enem e o sub-grupo dos 1000 alunos que obtiveram as melhores notas. Esse recorte permite contrastar as características socioeconomicas e educacionais desses dois grupos.\n",
        "\n",
        "Para refazer as análises do Estadão é necessário carregar as variáveis sexo, raça, escolaridade dos pais, cidade de residência e tipo de escola (pública/privada).\n",
        "\n",
        "Da leitura do dicionário de dados, vê-se que essas são as variáveis: \n",
        "'TP_SEXO', 'TP_COR_RACA', 'Q001', 'Q002', 'NO_MUNICIPIO_RESIDENCIA', 'TP_ESCOLA'\n",
        "\n",
        "Obs: 'Q001': escolaridade do pai, 'Q002': escolaridade da mãe"
      ]
    },
    {
      "cell_type": "code",
      "metadata": {
        "id": "2qwRoBVSty5w"
      },
      "source": [
        "# Liberar a memória utilizada pelo atual dataset:\n",
        "del df\n",
        "df = \"\"\n",
        "gc.collect()"
      ],
      "execution_count": null,
      "outputs": []
    },
    {
      "cell_type": "code",
      "metadata": {
        "id": "mDng1XNgty5w"
      },
      "source": [
        "colunas = ['SG_UF_RESIDENCIA', 'NO_MUNICIPIO_RESIDENCIA','TP_SEXO', 'TP_COR_RACA', 'TP_ESCOLA', 'Q001', 'Q002', 'Q006', 'NU_NOTA_CN', 'NU_NOTA_CH', 'NU_NOTA_LC', \n",
        "          'NU_NOTA_MT', 'NU_NOTA_REDACAO', 'NU_IDADE']\n",
        "df = pd.read_csv(path, encoding='latin-1',\n",
        "                 nrows=10000,\n",
        "                 sep=';', usecols=colunas)\n",
        "len(df)"
      ],
      "execution_count": null,
      "outputs": []
    },
    {
      "cell_type": "code",
      "metadata": {
        "id": "PClG_IG-ty5x"
      },
      "source": [
        "# 1.\tObter a média de desempenho por idade\n",
        "df['NU_IDADE'].value_counts().sort_index()"
      ],
      "execution_count": null,
      "outputs": []
    },
    {
      "cell_type": "code",
      "metadata": {
        "id": "omt5iyCgty5x"
      },
      "source": [
        "df['NOTA_MEDIA'] = (\n",
        "    df['NU_NOTA_CN'] + df['NU_NOTA_CH'] + df['NU_NOTA_LC'] + df['NU_NOTA_MT'] + \n",
        "    df['NU_NOTA_REDACAO']) / 5.0"
      ],
      "execution_count": null,
      "outputs": []
    },
    {
      "cell_type": "code",
      "metadata": {
        "id": "D3aiPsF1ty5x"
      },
      "source": [
        "df[['NOTA_MEDIA', 'NU_IDADE']].groupby('NU_IDADE').mean().plot.bar();"
      ],
      "execution_count": null,
      "outputs": []
    },
    {
      "cell_type": "code",
      "metadata": {
        "id": "WZsDLzp6ty5y"
      },
      "source": [
        "df[['NOTA_MEDIA', 'NU_IDADE']].groupby('NU_IDADE').mean().sort_values('NOTA_MEDIA', ascending=False).plot.bar();"
      ],
      "execution_count": null,
      "outputs": []
    },
    {
      "cell_type": "code",
      "metadata": {
        "id": "SlGtz-Owty5y"
      },
      "source": [
        "# Novamente, eliminar as linhas com nota faltante\n",
        "df.dropna(inplace=True)\n",
        "\n",
        "# Cria nota média\n",
        "df['NOTA_MEDIA'] = (\n",
        "    df['NU_NOTA_CN'] + df['NU_NOTA_CH'] + df['NU_NOTA_LC'] + df['NU_NOTA_MT'] + \n",
        "    df['NU_NOTA_REDACAO']) / 5.0\n",
        "\n",
        "print(len(df))"
      ],
      "execution_count": null,
      "outputs": []
    },
    {
      "cell_type": "code",
      "metadata": {
        "id": "r5irmpzxty5y"
      },
      "source": [
        "# Selecionar os 1000 alunos com as melhores notas\n",
        "\n",
        "# nota do milésimo aluno\n",
        "top_notas = df.NOTA_MEDIA.nlargest(1000)\n",
        "\n",
        "# distribuição das 1000 melhores médias\n",
        "sns.distplot(top_notas)"
      ],
      "execution_count": null,
      "outputs": []
    },
    {
      "cell_type": "code",
      "metadata": {
        "id": "QsF2pUd4ty5y"
      },
      "source": [
        "# menor das 1000 notas\n",
        "nota_corte = top_notas.min()\n",
        "nota_corte"
      ],
      "execution_count": null,
      "outputs": []
    },
    {
      "cell_type": "code",
      "metadata": {
        "id": "tvPdx8Q9ty5z"
      },
      "source": [
        "# Seleção dos 1000 alunos de maior média\n",
        "top1000 = df[df.NOTA_MEDIA >= nota_corte]\n",
        "len(top1000)"
      ],
      "execution_count": null,
      "outputs": []
    },
    {
      "cell_type": "code",
      "metadata": {
        "id": "GOotIj-bty5z"
      },
      "source": [
        "# Comparações de proporção de gênero entre top1000 e população\n",
        "df.TP_SEXO.value_counts()/len(df)*100"
      ],
      "execution_count": null,
      "outputs": []
    },
    {
      "cell_type": "code",
      "metadata": {
        "id": "5NofAisoty5z"
      },
      "source": [
        "top1000.TP_SEXO.value_counts()/len(top1000)*100"
      ],
      "execution_count": null,
      "outputs": []
    },
    {
      "cell_type": "code",
      "metadata": {
        "id": "OhziZn2sty50"
      },
      "source": [
        "# Correlação entre as notas?\n",
        "colunas = ['NU_NOTA_CN', 'NU_NOTA_CH', 'NU_NOTA_LC', 'NU_NOTA_MT', 'NU_NOTA_REDACAO']\n",
        "# colunas = ['TP_SEXO', 'TP_COR_RACA', 'TP_ESCOLA', 'Q001', 'Q002', 'Q006', 'NU_NOTA_CN', 'NU_NOTA_CH', 'NU_NOTA_LC', 'NU_NOTA_MT', 'NU_NOTA_REDACAO']\n",
        "\n",
        "#sns.set()\n",
        "#sns.pairplot(df[colunas], height = 2.5)\n",
        "#plt.show()"
      ],
      "execution_count": null,
      "outputs": []
    },
    {
      "cell_type": "code",
      "metadata": {
        "id": "Bqq6j0Fqty50"
      },
      "source": [
        "# Como a quantidade de dados é muito elevada, os gráficos de correlação demoram muito para serem calculados e ficam saturados\n",
        "# Uma solução sistemática é realizar uma subamostragem da população [aqui, 10% da população]\n",
        "amostra = df.sample(frac=0.1, random_state=123)\n",
        "len(amostra)"
      ],
      "execution_count": null,
      "outputs": []
    },
    {
      "cell_type": "code",
      "metadata": {
        "id": "bWV-w5S6ty50"
      },
      "source": [
        "sns.set()\n",
        "sns.pairplot(amostra[colunas], height= 3.5, kind='reg', plot_kws={'line_kws':{'color':'red'}, 'scatter_kws': {'alpha': 0.2}})\n",
        "# defino um alpha muito baixo devido ao grande número de pontos, para limitar o efeito de saturação\n",
        "plt.show()"
      ],
      "execution_count": null,
      "outputs": []
    },
    {
      "cell_type": "markdown",
      "metadata": {
        "id": "O3WaqyOsty50"
      },
      "source": [
        "### Aplicar as diversas técnicas aprendidas até agora sobre o dataset ENEM:\n",
        "\n",
        "* Pré-processamento: \n",
        "    * encoding de dados categóricos\n",
        "    * normalização de dados numéricos\n",
        "    * imputação de dados faltantes\n",
        "    * seleção de features\n",
        "* Particionamento treino/validação\n",
        "* Modelos simples: avaliação, casos de erro\n",
        "* Pipeline, cross validation...\n"
      ]
    },
    {
      "cell_type": "code",
      "metadata": {
        "id": "Q4vLSmy5ty51"
      },
      "source": [
        ""
      ],
      "execution_count": null,
      "outputs": []
    }
  ]
}