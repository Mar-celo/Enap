{
  "nbformat": 4,
  "nbformat_minor": 0,
  "metadata": {
    "kernelspec": {
      "display_name": "Python 3",
      "language": "python",
      "name": "python3"
    },
    "language_info": {
      "codemirror_mode": {
        "name": "ipython",
        "version": 3
      },
      "file_extension": ".py",
      "mimetype": "text/x-python",
      "name": "python",
      "nbconvert_exporter": "python",
      "pygments_lexer": "ipython3",
      "version": "3.7.4"
    },
    "colab": {
      "name": "wine_eval_exercicio.ipynb",
      "provenance": [],
      "include_colab_link": true
    }
  },
  "cells": [
    {
      "cell_type": "markdown",
      "metadata": {
        "id": "view-in-github",
        "colab_type": "text"
      },
      "source": [
        "<a href=\"https://colab.research.google.com/github/Mar-celo/Enap/blob/master/wine_eval_exercicio.ipynb\" target=\"_parent\"><img src=\"https://colab.research.google.com/assets/colab-badge.svg\" alt=\"Open In Colab\"/></a>"
      ]
    },
    {
      "cell_type": "markdown",
      "metadata": {
        "id": "RdeythhbtP-u"
      },
      "source": [
        "# Avaliação modelo RegLog wine"
      ]
    },
    {
      "cell_type": "markdown",
      "metadata": {
        "id": "3Zw864i5tP-6"
      },
      "source": [
        "## Carregar bibliotecas de código"
      ]
    },
    {
      "cell_type": "code",
      "metadata": {
        "id": "PfyPTLcktP-7"
      },
      "source": [
        "# Carregar bibliotecas que serão utilizadas:\n",
        "\n",
        "# Carregar Modelo de Regressão Logística\n",
        "# pesquisar na documentação sklearn: https://scikit-learn.org/stable/modules/linear_model.html\n",
        "from sklearn.linear_model import LogisticRegression\n",
        "\n",
        "# Carregar dados\n",
        "# Veja na documentação sklearn informações sobre o dataset wine\n",
        "# https://scikit-learn.org/stable/datasets/index.html\n",
        "from sklearn.datasets import load_wine"
      ],
      "execution_count": null,
      "outputs": []
    },
    {
      "cell_type": "markdown",
      "metadata": {
        "id": "v0kASHeStP-8"
      },
      "source": [
        "## Análise exploratória do dados"
      ]
    },
    {
      "cell_type": "code",
      "metadata": {
        "id": "b5C6zLEltP-9"
      },
      "source": [
        "# Ler dados\n",
        "wine = load_wine()"
      ],
      "execution_count": null,
      "outputs": []
    },
    {
      "cell_type": "code",
      "metadata": {
        "id": "Xe_aVFOUtP-9",
        "outputId": "db31c538-a255-4da5-e9c5-4dfd0f92bb40"
      },
      "source": [
        "# Analisar dimensões do dataset\n",
        "print(wine.data.shape)\n",
        "print(wine.target.shape)"
      ],
      "execution_count": null,
      "outputs": [
        {
          "output_type": "stream",
          "text": [
            "(178, 13)\n",
            "(178,)\n"
          ],
          "name": "stdout"
        }
      ]
    },
    {
      "cell_type": "code",
      "metadata": {
        "id": "pGS_h4nXtP-_",
        "outputId": "29e432bd-2bea-4955-ef81-55b71f425f53"
      },
      "source": [
        "# nome das colunas\n",
        "wine.feature_names"
      ],
      "execution_count": null,
      "outputs": [
        {
          "output_type": "execute_result",
          "data": {
            "text/plain": [
              "['alcohol',\n",
              " 'malic_acid',\n",
              " 'ash',\n",
              " 'alcalinity_of_ash',\n",
              " 'magnesium',\n",
              " 'total_phenols',\n",
              " 'flavanoids',\n",
              " 'nonflavanoid_phenols',\n",
              " 'proanthocyanins',\n",
              " 'color_intensity',\n",
              " 'hue',\n",
              " 'od280/od315_of_diluted_wines',\n",
              " 'proline']"
            ]
          },
          "metadata": {
            "tags": []
          },
          "execution_count": 4
        }
      ]
    },
    {
      "cell_type": "code",
      "metadata": {
        "id": "Gw9hb8x7tP-_",
        "outputId": "15e54c25-8ef0-4222-a4ef-fb72614273b0"
      },
      "source": [
        "# rótulo das classes\n",
        "wine.target_names"
      ],
      "execution_count": null,
      "outputs": [
        {
          "output_type": "execute_result",
          "data": {
            "text/plain": [
              "array(['class_0', 'class_1', 'class_2'], dtype='<U7')"
            ]
          },
          "metadata": {
            "tags": []
          },
          "execution_count": 5
        }
      ]
    },
    {
      "cell_type": "code",
      "metadata": {
        "id": "i79CfgRgtP_A",
        "outputId": "35570db0-c9b7-4f62-cec8-7d5671d36374"
      },
      "source": [
        "# mostrar as primeiras linhas do dataset\n",
        "wine.data[0:5]"
      ],
      "execution_count": null,
      "outputs": [
        {
          "output_type": "execute_result",
          "data": {
            "text/plain": [
              "array([[1.423e+01, 1.710e+00, 2.430e+00, 1.560e+01, 1.270e+02, 2.800e+00,\n",
              "        3.060e+00, 2.800e-01, 2.290e+00, 5.640e+00, 1.040e+00, 3.920e+00,\n",
              "        1.065e+03],\n",
              "       [1.320e+01, 1.780e+00, 2.140e+00, 1.120e+01, 1.000e+02, 2.650e+00,\n",
              "        2.760e+00, 2.600e-01, 1.280e+00, 4.380e+00, 1.050e+00, 3.400e+00,\n",
              "        1.050e+03],\n",
              "       [1.316e+01, 2.360e+00, 2.670e+00, 1.860e+01, 1.010e+02, 2.800e+00,\n",
              "        3.240e+00, 3.000e-01, 2.810e+00, 5.680e+00, 1.030e+00, 3.170e+00,\n",
              "        1.185e+03],\n",
              "       [1.437e+01, 1.950e+00, 2.500e+00, 1.680e+01, 1.130e+02, 3.850e+00,\n",
              "        3.490e+00, 2.400e-01, 2.180e+00, 7.800e+00, 8.600e-01, 3.450e+00,\n",
              "        1.480e+03],\n",
              "       [1.324e+01, 2.590e+00, 2.870e+00, 2.100e+01, 1.180e+02, 2.800e+00,\n",
              "        2.690e+00, 3.900e-01, 1.820e+00, 4.320e+00, 1.040e+00, 2.930e+00,\n",
              "        7.350e+02]])"
            ]
          },
          "metadata": {
            "tags": []
          },
          "execution_count": 6
        }
      ]
    },
    {
      "cell_type": "markdown",
      "metadata": {
        "id": "KzG3i0aGtP_B"
      },
      "source": [
        "## Preparação dos dados"
      ]
    },
    {
      "cell_type": "code",
      "metadata": {
        "id": "GoqsBQvFtP_B"
      },
      "source": [
        "# atribui os valores das variáveis independentes a 'X'\n",
        "X = wine.data\n",
        "# atribui os valores da variável dependente a 'y'\n",
        "y = wine.target"
      ],
      "execution_count": null,
      "outputs": []
    },
    {
      "cell_type": "markdown",
      "metadata": {
        "id": "q9mL3qn2tP_B"
      },
      "source": [
        "## Treinar o modelo"
      ]
    },
    {
      "cell_type": "code",
      "metadata": {
        "id": "ogLW2Xe7tP_C",
        "outputId": "bcdc6c1f-0ac0-4f2a-9904-65d5a57a3e5d"
      },
      "source": [
        "# instanciar modelo de regressão logística\n",
        "reg_log = LogisticRegression(max_iter=5000, solver='lbfgs', multi_class='auto') \n",
        "\n",
        "# treinar modelo\n",
        "reg_log.fit(X, y)"
      ],
      "execution_count": null,
      "outputs": [
        {
          "output_type": "execute_result",
          "data": {
            "text/plain": [
              "LogisticRegression(C=1.0, class_weight=None, dual=False, fit_intercept=True,\n",
              "          intercept_scaling=1, max_iter=5000, multi_class='auto',\n",
              "          n_jobs=None, penalty='l2', random_state=None, solver='lbfgs',\n",
              "          tol=0.0001, verbose=0, warm_start=False)"
            ]
          },
          "metadata": {
            "tags": []
          },
          "execution_count": 8
        }
      ]
    },
    {
      "cell_type": "markdown",
      "metadata": {
        "id": "CiCIP-uRtP_C"
      },
      "source": [
        "## Testar o modelo (inferência)"
      ]
    },
    {
      "cell_type": "code",
      "metadata": {
        "id": "a_oA6rzptP_D"
      },
      "source": [
        "# fazer predição da espécie para uma nova flor com as dimensões:  \n",
        "#[12, 2.5, 2.1, 20, 90, 2.1, 3.1, 0.2, 2.9, 6, 1, 3,1200]\n",
        "lg_pred = reg_log.predict([[12, 2.5, 2.1, 20, 90, 2.1, 3.1, 0.2, 2.9, 6, 1, 3,1200]])"
      ],
      "execution_count": null,
      "outputs": []
    },
    {
      "cell_type": "code",
      "metadata": {
        "id": "JbYJDCWItP_D",
        "outputId": "10289a62-1cb5-4c57-90a2-6f523b5d9f18"
      },
      "source": [
        "# mostrar resultado da predição\n",
        "print('nova predição:\\nclasse = ', lg_pred)\n",
        "print('classe = ', wine.target_names[lg_pred])"
      ],
      "execution_count": null,
      "outputs": [
        {
          "output_type": "stream",
          "text": [
            "nova predição:\n",
            "classe =  [0]\n",
            "classe =  ['class_0']\n"
          ],
          "name": "stdout"
        }
      ]
    },
    {
      "cell_type": "markdown",
      "metadata": {
        "id": "9EROd6EYtP_D"
      },
      "source": [
        "## Avaliar qualidade do modelo\n"
      ]
    },
    {
      "cell_type": "code",
      "metadata": {
        "id": "0vusn33qtP_E",
        "outputId": "33581bdd-545b-4161-c623-763d4fb32fb1"
      },
      "source": [
        "# Avaliação ingênua, com todos os dados disponíveis\n"
      ],
      "execution_count": null,
      "outputs": [
        {
          "output_type": "execute_result",
          "data": {
            "text/plain": [
              "0.9943820224719101"
            ]
          },
          "metadata": {
            "tags": []
          },
          "execution_count": 11
        }
      ]
    },
    {
      "cell_type": "code",
      "metadata": {
        "id": "NfLhazshtP_E"
      },
      "source": [
        "# Particionando os dados de forma estratificicada por tipo de vinho, em treinamento e teste\n",
        "# Importar a função train_test_split de sklearn.model_selection\n"
      ],
      "execution_count": null,
      "outputs": []
    },
    {
      "cell_type": "code",
      "metadata": {
        "id": "WfraxgT5tP_F"
      },
      "source": [
        "# particionar os dados em treinamento e validação usando a função anterior:\n",
        "# 20% teste, embaralhando aleatoriamente, fixando a semente aleatória e estratificando\n",
        "# cria as variáveis: X_train, X_test, y_train, y_test\n",
        "\n"
      ],
      "execution_count": null,
      "outputs": []
    },
    {
      "cell_type": "code",
      "metadata": {
        "id": "xwuwE9ULtP_G",
        "outputId": "8e4b36de-3057-4956-9362-44c9389e7e23"
      },
      "source": [
        "# instanciar modelo de regressão logística\n",
        "reg_log = LogisticRegression(max_iter=5000, solver='lbfgs', multi_class='auto') \n",
        "\n",
        "# treinar modelo nas variáveis de treinamento\n"
      ],
      "execution_count": null,
      "outputs": [
        {
          "output_type": "execute_result",
          "data": {
            "text/plain": [
              "LogisticRegression(C=1.0, class_weight=None, dual=False, fit_intercept=True,\n",
              "          intercept_scaling=1, max_iter=5000, multi_class='auto',\n",
              "          n_jobs=None, penalty='l2', random_state=None, solver='lbfgs',\n",
              "          tol=0.0001, verbose=0, warm_start=False)"
            ]
          },
          "metadata": {
            "tags": []
          },
          "execution_count": 14
        }
      ]
    },
    {
      "cell_type": "code",
      "metadata": {
        "id": "XQo0-SSAtP_G",
        "outputId": "a990624a-9cad-452e-8461-f1aea28e43d8"
      },
      "source": [
        "# acurácia ingênua nos dados de treinamento\n"
      ],
      "execution_count": null,
      "outputs": [
        {
          "output_type": "execute_result",
          "data": {
            "text/plain": [
              "0.33098591549295775"
            ]
          },
          "metadata": {
            "tags": []
          },
          "execution_count": 37
        }
      ]
    },
    {
      "cell_type": "code",
      "metadata": {
        "id": "T5v6b6T0tP_H",
        "outputId": "94cf23c1-eae7-4048-8554-18c29a7d3f6b"
      },
      "source": [
        "# acurácia confiável em dados não utilizados no treinamento (conjunto de teste)\n"
      ],
      "execution_count": null,
      "outputs": [
        {
          "output_type": "execute_result",
          "data": {
            "text/plain": [
              "0.3333333333333333"
            ]
          },
          "metadata": {
            "tags": []
          },
          "execution_count": 38
        }
      ]
    },
    {
      "cell_type": "markdown",
      "metadata": {
        "id": "CnzpML0ytP_I"
      },
      "source": [
        "A estimativa mais confiável do desempenho de um modelo para novos dados sempre será obtida com a métrica sobre um conjunto de teste, não utilizado durante o treinamento!"
      ]
    },
    {
      "cell_type": "code",
      "metadata": {
        "id": "AfaNMXM-tP_J"
      },
      "source": [
        "# Normalização das variáveis\n",
        "from sklearn.preprocessing import StandardScaler"
      ],
      "execution_count": null,
      "outputs": []
    },
    {
      "cell_type": "code",
      "metadata": {
        "id": "iViUXPzetP_J",
        "outputId": "7379cd1f-7c8c-4ad0-d8f1-d881a85d9cf1"
      },
      "source": [
        "# instancia e ajusta o StandardScaler\n"
      ],
      "execution_count": null,
      "outputs": [
        {
          "output_type": "execute_result",
          "data": {
            "text/plain": [
              "StandardScaler(copy=True, with_mean=True, with_std=True)"
            ]
          },
          "metadata": {
            "tags": []
          },
          "execution_count": 18
        }
      ]
    },
    {
      "cell_type": "code",
      "metadata": {
        "id": "cQOmsVvCtP_J"
      },
      "source": [
        "# transforma o conjunto para treino e teste (X_train_std e X_test_std)\n"
      ],
      "execution_count": null,
      "outputs": []
    },
    {
      "cell_type": "code",
      "metadata": {
        "id": "9MlpxD_ZtP_K",
        "outputId": "0542b08e-7ee3-4724-8cb5-a0f191783cf8"
      },
      "source": [
        "# Compare valores das variáveis originais dos vinhos com suas versões normalizadas\n",
        "# Valore originais: 3 primeiras linhas\n"
      ],
      "execution_count": null,
      "outputs": [
        {
          "output_type": "execute_result",
          "data": {
            "text/plain": [
              "array([[1.373e+01, 1.500e+00, 2.700e+00, 2.250e+01, 1.010e+02, 3.000e+00,\n",
              "        3.250e+00, 2.900e-01, 2.380e+00, 5.700e+00, 1.190e+00, 2.710e+00,\n",
              "        1.285e+03],\n",
              "       [1.412e+01, 1.480e+00, 2.320e+00, 1.680e+01, 9.500e+01, 2.200e+00,\n",
              "        2.430e+00, 2.600e-01, 1.570e+00, 5.000e+00, 1.170e+00, 2.820e+00,\n",
              "        1.280e+03],\n",
              "       [1.282e+01, 3.370e+00, 2.300e+00, 1.950e+01, 8.800e+01, 1.480e+00,\n",
              "        6.600e-01, 4.000e-01, 9.700e-01, 1.026e+01, 7.200e-01, 1.750e+00,\n",
              "        6.850e+02]])"
            ]
          },
          "metadata": {
            "tags": []
          },
          "execution_count": 20
        }
      ]
    },
    {
      "cell_type": "code",
      "metadata": {
        "id": "STIHUDoStP_K",
        "outputId": "557ef1bc-4ecf-448c-8b99-fa74b5766f5e"
      },
      "source": [
        "# Valores normalizados\n"
      ],
      "execution_count": null,
      "outputs": [
        {
          "output_type": "execute_result",
          "data": {
            "text/plain": [
              "array([[ 0.87831942, -0.78218063,  1.28552633,  0.94403144,  0.14814407,\n",
              "         1.1152683 ,  1.21502914, -0.57874076,  1.35251398,  0.24306629,\n",
              "         1.06925078,  0.14411088,  1.64471067],\n",
              "       [ 1.3622646 , -0.80042317, -0.07168362, -0.75245845, -0.26568789,\n",
              "        -0.13233858,  0.40165675, -0.82479222, -0.04219785, -0.06004234,\n",
              "         0.97955171,  0.30263285,  1.62931014],\n",
              "       [-0.25088599,  0.92349602, -0.14311573,  0.05114202, -0.74849184,\n",
              "        -1.25518478, -1.3540373 ,  0.32344793, -1.07531773,  2.21760251,\n",
              "        -1.03867729, -1.23935358, -0.20335196]])"
            ]
          },
          "metadata": {
            "tags": []
          },
          "execution_count": 21
        }
      ]
    },
    {
      "cell_type": "code",
      "metadata": {
        "id": "cZiKxjUftP_L",
        "outputId": "a111166d-3090-41a3-a157-dfb83e4269ba"
      },
      "source": [
        "# instanciar modelo de regressão logística\n",
        "reg_log = LogisticRegression(max_iter=1000, solver='lbfgs', multi_class='auto') \n",
        "\n",
        "# treinar modelo\n",
        "reg_log.fit(X_train_std, y_train)"
      ],
      "execution_count": null,
      "outputs": [
        {
          "output_type": "execute_result",
          "data": {
            "text/plain": [
              "LogisticRegression(C=1.0, class_weight=None, dual=False, fit_intercept=True,\n",
              "          intercept_scaling=1, max_iter=1000, multi_class='auto',\n",
              "          n_jobs=None, penalty='l2', random_state=None, solver='lbfgs',\n",
              "          tol=0.0001, verbose=0, warm_start=False)"
            ]
          },
          "metadata": {
            "tags": []
          },
          "execution_count": 22
        }
      ]
    },
    {
      "cell_type": "code",
      "metadata": {
        "id": "bqSNqiTItP_L",
        "outputId": "10fefa11-de32-4880-c896-5d53b1fffcb1"
      },
      "source": [
        "# Calcule o desempenho de teste sobre os dados normalizados\n"
      ],
      "execution_count": null,
      "outputs": [
        {
          "output_type": "execute_result",
          "data": {
            "text/plain": [
              "1.0"
            ]
          },
          "metadata": {
            "tags": []
          },
          "execution_count": 23
        }
      ]
    },
    {
      "cell_type": "code",
      "metadata": {
        "id": "2aA9Pm69tP_M",
        "outputId": "89638b3d-961f-4bb3-8672-9f7e59483379"
      },
      "source": [
        "# Prevendo a probabilidade de pertencimento a uma classe\n",
        "# Aponte um caso com mais de 99% de probabilidade de ser uma classe específica (menor incerteza)\n",
        "# E outro caso com menos de 70% de ser a classe mais provável (maior incerteza)\n",
        "reg_log.predict_proba(X_test_std[:10, :])"
      ],
      "execution_count": null,
      "outputs": [
        {
          "output_type": "execute_result",
          "data": {
            "text/plain": [
              "array([[7.35554366e-03, 9.92288877e-01, 3.55579042e-04],\n",
              "       [9.95895815e-01, 3.60110693e-03, 5.03077924e-04],\n",
              "       [2.04502889e-04, 9.99278593e-01, 5.16904162e-04],\n",
              "       [6.99392197e-04, 3.16769749e-02, 9.67623633e-01],\n",
              "       [5.46714303e-03, 4.75220660e-02, 9.47010791e-01],\n",
              "       [9.96292620e-01, 4.95872988e-04, 3.21150701e-03],\n",
              "       [3.49593716e-02, 9.54888421e-01, 1.01522076e-02],\n",
              "       [3.37369731e-04, 9.99505510e-01, 1.57120283e-04],\n",
              "       [3.17101784e-01, 6.81674242e-01, 1.22397359e-03],\n",
              "       [9.78888981e-01, 1.54378438e-02, 5.67317485e-03]])"
            ]
          },
          "metadata": {
            "tags": []
          },
          "execution_count": 24
        }
      ]
    },
    {
      "cell_type": "code",
      "metadata": {
        "id": "oZTvpn4atP_M",
        "outputId": "95369f7a-349d-4b97-c3cf-0c88e58211b4"
      },
      "source": [
        "# a soma das probabilidades de pertencimento a cada classe é 1\n",
        "reg_log.predict_proba(X_test_std[:5, :]).sum(axis=1)"
      ],
      "execution_count": null,
      "outputs": [
        {
          "output_type": "execute_result",
          "data": {
            "text/plain": [
              "array([1., 1., 1., 1., 1.])"
            ]
          },
          "metadata": {
            "tags": []
          },
          "execution_count": 25
        }
      ]
    },
    {
      "cell_type": "markdown",
      "metadata": {
        "id": "4nJL7G-otP_N"
      },
      "source": [
        "## Encadeando pré-processamento e modelos/estimadores\n",
        "\n",
        "Criar um objeto único `Pipeline` combinando pré-processamento e treinamento, evitando que dados do teste vazem para o treinamento e facilitando, posteriormente, validação cruzada"
      ]
    },
    {
      "cell_type": "code",
      "metadata": {
        "id": "TeBxaw6qtP_N"
      },
      "source": [
        "# importar a a função make_pipeline da bilioteca sklearn.pipeline\n"
      ],
      "execution_count": null,
      "outputs": []
    },
    {
      "cell_type": "code",
      "metadata": {
        "id": "B0ULkhtBtP_N"
      },
      "source": [
        "# Montar um pipeline sequenciando o StandardScaler e o LogisticRegression anteriores\n"
      ],
      "execution_count": null,
      "outputs": []
    },
    {
      "cell_type": "code",
      "metadata": {
        "id": "mGZRv7uTtP_N",
        "outputId": "58f98484-aaab-4755-a688-f5485cb665ea"
      },
      "source": [
        "# Treina o encadeamento todo de uma vez\n"
      ],
      "execution_count": null,
      "outputs": [
        {
          "output_type": "execute_result",
          "data": {
            "text/plain": [
              "Pipeline(memory=None,\n",
              "     steps=[('standardscaler', StandardScaler(copy=True, with_mean=True, with_std=True)), ('logisticregression', LogisticRegression(C=1.0, class_weight=None, dual=False, fit_intercept=True,\n",
              "          intercept_scaling=1, max_iter=100, multi_class='auto',\n",
              "          n_jobs=None, penalty='l2', random_state=123, solver='lbfgs',\n",
              "          tol=0.0001, verbose=0, warm_start=False))])"
            ]
          },
          "metadata": {
            "tags": []
          },
          "execution_count": 28
        }
      ]
    },
    {
      "cell_type": "code",
      "metadata": {
        "id": "d83smo9CtP_O",
        "outputId": "cd784ac2-9240-43ce-a3c8-3776211a6de0"
      },
      "source": [
        "# Calcula o desempenho do pipeline como um todo\n"
      ],
      "execution_count": null,
      "outputs": [
        {
          "output_type": "execute_result",
          "data": {
            "text/plain": [
              "1.0"
            ]
          },
          "metadata": {
            "tags": []
          },
          "execution_count": 29
        }
      ]
    },
    {
      "cell_type": "markdown",
      "metadata": {
        "id": "HuMywcxJtP_O"
      },
      "source": [
        "## Validação cruzada (k-fold cross-validation)"
      ]
    },
    {
      "cell_type": "code",
      "metadata": {
        "id": "d4YXEogYtP_O"
      },
      "source": [
        "# Importa o modelo KNeighborsClassifier de sklearn.neighbors\n",
        "# e a função cross_val_score de sklearn.model_selection\n"
      ],
      "execution_count": null,
      "outputs": []
    },
    {
      "cell_type": "code",
      "metadata": {
        "id": "okZd4kJXtP_P",
        "outputId": "5e86d8f3-82b4-4383-a467-7c8ad6379694"
      },
      "source": [
        "# Instancia o KNN e calcula sua acurácia em 10-cross-val\n"
      ],
      "execution_count": null,
      "outputs": [
        {
          "output_type": "execute_result",
          "data": {
            "text/plain": [
              "array([0.68421053, 0.61111111, 0.66666667, 0.55555556, 0.66666667,\n",
              "       0.55555556, 0.77777778, 0.66666667, 0.82352941, 0.75      ])"
            ]
          },
          "metadata": {
            "tags": []
          },
          "execution_count": 31
        }
      ]
    },
    {
      "cell_type": "code",
      "metadata": {
        "id": "7h68OP78tP_P",
        "outputId": "d168e681-00cf-42c4-dd01-53c36d7ebf26"
      },
      "source": [
        "# média do desempenho no 10-cross-val\n"
      ],
      "execution_count": null,
      "outputs": [
        {
          "output_type": "execute_result",
          "data": {
            "text/plain": [
              "0.6757739938080495"
            ]
          },
          "metadata": {
            "tags": []
          },
          "execution_count": 32
        }
      ]
    },
    {
      "cell_type": "code",
      "metadata": {
        "id": "wK1ycooKtP_Q",
        "outputId": "5b384d85-ee31-4903-8879-eb4bf4ab6c38"
      },
      "source": [
        "# Uso de validação cruzada para identificar o número ótimo de vizinhos em KNN para wine\n",
        "k_range = list(range(1, 31))\n",
        "k_scores = []\n",
        "for k in k_range:\n",
        "    knn = KNeighborsClassifier(n_neighbors=k)\n",
        "    scores = cross_val_score(knn, X, y, cv=10, scoring='accuracy')\n",
        "    k_scores.append(scores.mean())\n",
        "print(k_scores)"
      ],
      "execution_count": null,
      "outputs": [
        {
          "output_type": "stream",
          "text": [
            "[0.7478134674922601, 0.6708032335741314, 0.7219341245270037, 0.6653573271413828, 0.6757739938080495, 0.6709128826969384, 0.663968438252494, 0.7032593739250086, 0.6980714654282766, 0.6977446680426558, 0.7144457344341245, 0.6921891124871001, 0.6918967148262813, 0.6862659098727211, 0.72000128998968, 0.708890178878569, 0.697452270381837, 0.7147381320949433, 0.7036270209838321, 0.6983638630890953, 0.7091825765393877, 0.7147381320949433, 0.7314047987616099, 0.7026057791537668, 0.7147381320949433, 0.7147381320949433, 0.7091825765393878, 0.7147381320949433, 0.7147381320949433, 0.7147381320949433]\n"
          ],
          "name": "stdout"
        }
      ]
    },
    {
      "cell_type": "code",
      "metadata": {
        "id": "vjhI2EcqtP_Q",
        "outputId": "3285d5c2-6582-4469-d798-94cb9400f37f"
      },
      "source": [
        "import matplotlib.pyplot as plt\n",
        "\n",
        "# plot the value of K for KNN (x-axis) versus the cross-validated accuracy (y-axis)\n",
        "plt.plot(k_range, k_scores)\n",
        "plt.xlabel('Value of K for KNN')\n",
        "plt.ylabel('Cross-Validated Accuracy');"
      ],
      "execution_count": null,
      "outputs": [
        {
          "output_type": "display_data",
          "data": {
            "image/png": "[encoded data removed]",
            "text/plain": [
              "<Figure size 432x288 with 1 Axes>"
            ]
          },
          "metadata": {
            "tags": [],
            "needs_background": "light"
          }
        }
      ]
    },
    {
      "cell_type": "code",
      "metadata": {
        "id": "xm_MMzdntP_R",
        "outputId": "296b9ec0-9f4c-4786-83d3-e4f5679a4d24"
      },
      "source": [
        "# o mesmo, mas agora com normalização dos dados: StandardScaler().fit(X).transform(X)\n",
        "# Uso de validação cruzada para identificar o número ótimo de vizinhos em KNN para Iris\n",
        "k_range = list(range(1, 31))\n",
        "k_scores = []\n",
        "for k in k_range:\n",
        "    knn = KNeighborsClassifier(n_neighbors=k)\n",
        "    scores = cross_val_score(knn, StandardScaler().fit(X).transform(X), y, cv=10, scoring='accuracy')\n",
        "    k_scores.append(scores.mean())\n",
        "print(k_scores)"
      ],
      "execution_count": null,
      "outputs": [
        {
          "output_type": "stream",
          "text": [
            "[0.9439735982112143, 0.9384180426556588, 0.954499914000688, 0.9492367561059512, 0.9666322669418644, 0.9551943584451325, 0.9663398692810456, 0.9666322669418644, 0.97218782249742, 0.9666322669418644, 0.9718954248366012, 0.9610767113863089, 0.9666322669418644, 0.9669590643274854, 0.9666322669418644, 0.9610767113863089, 0.9725146198830409, 0.9666322669418644, 0.9725146198830409, 0.9725146198830409, 0.9725146198830409, 0.9780701754385965, 0.9833333333333334, 0.9833333333333334, 0.9718954248366012, 0.9604575163398692, 0.9660130718954247, 0.9660130718954247, 0.9660130718954247, 0.9660130718954247]\n"
          ],
          "name": "stdout"
        }
      ]
    },
    {
      "cell_type": "code",
      "metadata": {
        "id": "wJbY4WPItP_R",
        "outputId": "8fc64eed-d98f-4350-b185-e6f169fd8e6e"
      },
      "source": [
        "# plot the value of K for KNN (x-axis) versus the cross-validated accuracy (y-axis)\n",
        "plt.plot(k_range, k_scores)\n",
        "plt.xlabel('Value of K for KNN')\n",
        "plt.ylabel('Cross-Validated Accuracy');"
      ],
      "execution_count": null,
      "outputs": [
        {
          "output_type": "display_data",
          "data": {
            "image/png": "[encoded data removed]",
            "text/plain": [
              "<Figure size 432x288 with 1 Axes>"
            ]
          },
          "metadata": {
            "tags": [],
            "needs_background": "light"
          }
        }
      ]
    },
    {
      "cell_type": "markdown",
      "metadata": {
        "id": "oPE5jXdFtP_S"
      },
      "source": [
        "Conclusões?\n",
        "\n",
        "Como escolher se devemos ou não reescalar as variáveis?\n",
        "\n",
        "Como determinar o valor ideal de K para o KNN?"
      ]
    },
    {
      "cell_type": "code",
      "metadata": {
        "id": "yN53ezVmtP_S"
      },
      "source": [
        ""
      ],
      "execution_count": null,
      "outputs": []
    },
    {
      "cell_type": "code",
      "metadata": {
        "id": "6t9dk7PLtP_T"
      },
      "source": [
        ""
      ],
      "execution_count": null,
      "outputs": []
    }
  ]
}